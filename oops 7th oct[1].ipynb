{
 "cells": [
  {
   "cell_type": "code",
   "execution_count": 23,
   "metadata": {},
   "outputs": [
    {
     "name": "stdout",
     "output_type": "stream",
     "text": [
      "  your amount was 10000 after deposit your amount 10000\n",
      " deposit balance 10000 after withdrawl balance 9500\n"
     ]
    }
   ],
   "source": [
    "class bank_account:\n",
    "    def __init__(self,accountno,account_holder_name,balance):\n",
    "        self.accountno=accountno\n",
    "        self.account_holder_name=account_holder_name\n",
    "        self.balance=balance      \n",
    "    def deposit(self,deposit_balance):\n",
    "        total_balnace=(self.balance+deposit_balance)\n",
    "        self.balance=total_balnace\n",
    "        print(\"  your amount was \"+ str(self.balance)+\" after deposit your amount \"+str(total_balnace))\n",
    "    def withdrawl(self,withdrawl_balance):\n",
    "        if  self.balance > withdrawl_balance:\n",
    "            balance1=(self.balance -withdrawl_balance)\n",
    "            print(\" deposit balance \"+ str(self.balance)+\" after withdrawl balance \"+str(balance1))\n",
    "        else:\n",
    "            print(\"in sufficent balance\")       \n",
    "obj=bank_account(567887789,'kusum',3000)\n",
    "obj.deposit(7000)\n",
    "obj.withdrawl(500)            \n",
    "\n",
    "        \n",
    "        \n",
    "        \n",
    "\n",
    "            "
   ]
  },
  {
   "cell_type": "code",
   "execution_count": 77,
   "metadata": {},
   "outputs": [
    {
     "name": "stdout",
     "output_type": "stream",
     "text": [
      " your salary is 7000 bonus is 583.1 your total salary is 7583.1\n",
      "employee  name is kusum , emplyoee_id 567 and emplyoee salary 7000\n"
     ]
    }
   ],
   "source": [
    "class employee_management():\n",
    "    def __init__(self,employee_id,name,salary):\n",
    "        self.employee_id=employee_id\n",
    "        self.name=name\n",
    "        self.salary=salary\n",
    "    def employee_bonus(self,salary):\n",
    "        bonus=(self.salary*8.33/100)\n",
    "        total_salary=(self.salary+bonus)\n",
    "        print(\" your salary is \"+str(self.salary)+\" bonus is \"+ str(bonus)+\" your total salary is \"+str(total_salary))\n",
    "    def employee_details(self):\n",
    "        print(\"employee  name is \"+ str(self.name)+\" , emplyoee_id \"+ str(self.employee_id) + \" and emplyoee salary \" +str(self.salary))   \n",
    "        \n",
    "        \n",
    "        \n",
    "obj=employee_management(567,'kusum',7000)\n",
    "obj.employee_bonus(45000)\n",
    "obj.employee_details()        \n",
    "            "
   ]
  },
  {
   "cell_type": "code",
   "execution_count": 84,
   "metadata": {},
   "outputs": [
    {
     "name": "stdout",
     "output_type": "stream",
     "text": [
      " you can take it for rent 80000\n",
      "vechile is not avialbale for rent\n",
      "thanks for returning\n",
      " vechile charges is 80000 vechile model is splinder vechile average is 70km\n"
     ]
    }
   ],
   "source": [
    "class vechile_rental():\n",
    "    def __init__(self,charges,vechile_model,average):\n",
    "        self.charges=charges\n",
    "        self.vechile_model=vechile_model\n",
    "        self.average=average\n",
    "        self.is_available=True\n",
    "    def vechile_rent(self):\n",
    "        if self.is_available == True:\n",
    "            print(\" you can take it for rent \"+str(self.charges))\n",
    "            self.is_available = False\n",
    "        else:\n",
    "            print(\"vechile is not avialbale for rent\")    \n",
    "    def vechile_return(self):\n",
    "        if self.is_available == False:\n",
    "            print(\"thanks for returning\")\n",
    "            self.is_available=True\n",
    "        else:\n",
    "            print(\"//////\")\n",
    "    def vechile_display(self):\n",
    "        print(\" vechile charges is \"+str(self.charges)+\" vechile model is \"+str(self.vechile_model)+\" vechile average is \"+str(self.average)+\"km\") \n",
    "obj=vechile_rental(80000,'splinder',70)\n",
    "obj.vechile_rent()\n",
    "obj.vechile_rent()\n",
    "obj.vechile_return()\n",
    "obj.vechile_display()\n",
    "                  \n",
    "                        \n",
    "    \n",
    "            \n",
    "               \n",
    "                      "
   ]
  },
  {
   "cell_type": "code",
   "execution_count": 95,
   "metadata": {},
   "outputs": [
    {
     "name": "stdout",
     "output_type": "stream",
     "text": [
      " you can take this book A\n",
      " you can take this book F\n",
      "this book are available\n",
      "B b\n",
      "C c\n",
      "D d\n",
      "E e\n"
     ]
    }
   ],
   "source": [
    "class library_catalog():\n",
    "    def __init__(self,book_name,book_author):\n",
    "        self.book_name=book_name\n",
    "        self.book_author=book_author\n",
    "        self.books_available=True\n",
    "class library_and_book():\n",
    "    def __init__(self):\n",
    "        self.book=[]\n",
    "    def add_books(self,book_name,book_author):\n",
    "        book= library_catalog(book_name,book_author)\n",
    "        self.book.append(book)\n",
    "    def print_in_list(self):\n",
    "        print(\"these book are available\")\n",
    "        for item in self.book:\n",
    "            if item.books_available == True:\n",
    "                print(item.book_name,item.book_author)\n",
    "    def borrow(self,borrow_book_name):\n",
    "        for item in self.book:\n",
    "            if item.book_name == borrow_book_name and item.books_available == True:\n",
    "                print(\" you can take this book \"+str(item.book_name))\n",
    "                item.books_available = False\n",
    "                   \n",
    "\n",
    "obj=library_and_book()\n",
    "obj.add_books('A' ,'a')\n",
    "obj.add_books('B','b')\n",
    "obj.add_books('C','c')\n",
    "obj.add_books('D','d')\n",
    "obj.add_books('E','e')\n",
    "obj.add_books('F','f')\n",
    "obj.borrow('A')\n",
    "obj.borrow('F')\n",
    "obj.borrow('F')\n",
    "\n",
    "obj.print_in_list()\n",
    "                    \n",
    "    "
   ]
  },
  {
   "cell_type": "code",
   "execution_count": 30,
   "metadata": {},
   "outputs": [
    {
     "name": "stdout",
     "output_type": "stream",
     "text": [
      "avilable for product\n",
      "soap 30\n",
      "shampoo 80\n",
      "powder 70\n"
     ]
    }
   ],
   "source": [
    "class invenotry():\n",
    "    def __init__(self,product_name,product_quanity):\n",
    "        self.product_name=product_name\n",
    "        self.product_quanity=product_quanity\n",
    "class product_invenorty_system():\n",
    "    def __init__(self):\n",
    "        self.product_list=[]\n",
    "    def add_product(self,product_name,product_quaninty):\n",
    "        product2=invenotry(product_name,product_quaninty)\n",
    "        self.product_list.append(product2)\n",
    "    def update_product_quaninty(self,user_product_name,new_product_quaninty):\n",
    "        for item in self.product_list:\n",
    "            if item.product_name == user_product_name:\n",
    "                item.product_quanity = new_product_quaninty\n",
    "    def display_product(self):\n",
    "        print(\"avilable for product\")\n",
    "        for item in self.product_list:\n",
    "            print(item.product_name,item.product_quanity)            \n",
    "                \n",
    "obj=product_invenorty_system()\n",
    "obj.add_product('soap',30)\n",
    "obj.add_product('shampoo',75)\n",
    "obj.add_product('powder',70)\n",
    "obj.update_product_quaninty('shampoo',80)\n",
    "obj.display_product()\n",
    "                \n",
    "        \n",
    "            "
   ]
  },
  {
   "cell_type": "code",
   "execution_count": 57,
   "metadata": {},
   "outputs": [
    {
     "name": "stdout",
     "output_type": "stream",
     "text": [
      " area of triangle 20.0\n",
      " perimeter of triangle 19\n",
      " area of circle 28.259999999999998\n",
      " perimeter of circle 18.84\n",
      " area of rectangle 30\n",
      " perimeter of rectangle 22\n",
      " area of square 64\n",
      " perimeter of square 32\n"
     ]
    }
   ],
   "source": [
    "class shape():\n",
    "    def __init__(self,length,width,height):\n",
    "        self.length=length\n",
    "        self.width=width\n",
    "        self.height=height\n",
    "        self.pie=3.14\n",
    "        self.radius=3\n",
    "        self.side=8\n",
    "    def area_of_triangle(self):\n",
    "        area=(1/2*self.length*self.height)\n",
    "        print(\" area of triangle \"+ str(area))\n",
    "    def permiter_of_triangle(self):\n",
    "        permieter=(self.length+self.width+self.height)\n",
    "        print(\" perimeter of triangle \"+str(permieter))\n",
    "    def area_of_circle(self):\n",
    "        area=(self.pie*self.radius*self.radius)\n",
    "        print(\" area of circle \"+str(area))\n",
    "    def perimeter_of_circle(self):\n",
    "        perimeter=(2*self.pie*self.radius)\n",
    "        print(\" perimeter of circle \"+str(perimeter))\n",
    "    def area_of_rectangle(self):\n",
    "        area=(self.length*self.width)\n",
    "        print(\" area of rectangle \"+str(area))\n",
    "    def perimeter_of_rectangle(self):\n",
    "        perimeter=2*(self.length+self.width)\n",
    "        print(\" perimeter of rectangle \"+str(perimeter))\n",
    "    def area_of_square(self):\n",
    "        area=(self.side*self.side)\n",
    "        print(\" area of square \"+str(area))\n",
    "    def perimeter_of_square(self):\n",
    "        perimeter=(4*self.side)\n",
    "        print(\" perimeter of square \"+str(perimeter))                \n",
    "                    \n",
    "obj=shape(5,6,8)\n",
    "obj.area_of_triangle()\n",
    "obj.permiter_of_triangle()\n",
    "obj.area_of_circle()\n",
    "obj.perimeter_of_circle()\n",
    "obj.area_of_rectangle()\n",
    "obj.perimeter_of_rectangle()\n",
    "obj.area_of_square()\n",
    "obj.perimeter_of_square()            "
   ]
  },
  {
   "cell_type": "code",
   "execution_count": 100,
   "metadata": {},
   "outputs": [
    {
     "name": "stdout",
     "output_type": "stream",
     "text": [
      "63.333333333333336\n",
      "student id is 567 student name is kusum\n"
     ]
    }
   ],
   "source": [
    "class student_management():\n",
    "    def __init__(self,id,name,eng,math,science):\n",
    "        self.id=id\n",
    "        self.name=name\n",
    "        self.eng=eng\n",
    "        self.math=math\n",
    "        self.science=science\n",
    "    def calculate_average(self):\n",
    "        average=(self.eng+self.math+self.science)/3\n",
    "        print(average)\n",
    "    def desplay_student(self):\n",
    "        print(\"student id is \"+str(self.id)+\" student name is \"+str(self.name))       \n",
    "            \n",
    "obj=student_management(567,'kusum',56,78,56)\n",
    "obj.calculate_average()\n",
    "obj.desplay_student()\n",
    "            \n",
    "    "
   ]
  },
  {
   "cell_type": "code",
   "execution_count": 102,
   "metadata": {},
   "outputs": [
    {
     "name": "stdout",
     "output_type": "stream",
     "text": [
      "sender kusum\n",
      "recipient 677\n",
      "subject pwskills\n",
      "message python\n",
      "message send successfully\n"
     ]
    }
   ],
   "source": [
    "class email_management():\n",
    "    def __init__(self,sender,recipient,subject):\n",
    "        self.sender=sender\n",
    "        self.recipient=recipient\n",
    "        self.subject=subject\n",
    "    def send_email(self,message):\n",
    "        print(\"sender \"+str(self.sender))\n",
    "        print(\"recipient \"+str(self.recipient))\n",
    "        print(\"subject \"+ str(self.subject))\n",
    "        print(\"message \"+str(message))\n",
    "        print(\"message send successfully\")\n",
    "        \n",
    "obj=email_management('kusum',677,\"pwskills\")\n",
    "obj.send_email(\"python\")        \n",
    "        \n",
    "        \n",
    "        "
   ]
  },
  {
   "cell_type": "code",
   "execution_count": 113,
   "metadata": {},
   "outputs": [
    {
     "name": "stdout",
     "output_type": "stream",
     "text": [
      "image\n",
      "file\n",
      "doc\n",
      "hills\n",
      "post is not list\n"
     ]
    }
   ],
   "source": [
    "class social_media_profile():\n",
    "    def __init__(self,user_name):\n",
    "        self.user_name=user_name\n",
    "        self.post=[]\n",
    "    def add_posts(self,post):\n",
    "        self.post.append(post)\n",
    "    def display_post(self):\n",
    "        for item in self.post:\n",
    "            print(item)\n",
    "    def search_post(self,search_post):\n",
    "        is_exist=False\n",
    "        for item in self.post:\n",
    "            if item == search_post:\n",
    "                is_exist=True\n",
    "            else:\n",
    "                is_exist= False\n",
    "        if is_exist == True:\n",
    "            print(\"post is list\")\n",
    "        else:\n",
    "            print(\"post is not list\")                \n",
    "                    \n",
    "                \n",
    "                \n",
    "obj=social_media_profile('kusum')\n",
    "obj.add_posts('image')\n",
    "obj.add_posts('file')\n",
    "obj.add_posts('doc')\n",
    "obj.add_posts('hills')\n",
    "obj.display_post()\n",
    "obj.search_post('images')    \n",
    "                        \n",
    "    "
   ]
  },
  {
   "cell_type": "code",
   "execution_count": 123,
   "metadata": {},
   "outputs": [
    {
     "name": "stdout",
     "output_type": "stream",
     "text": [
      "task is bathing due dates 2/10/2023\n",
      "task is cooking due dates 5/10/2023\n",
      "task is cleaning due dates 6/10/2023\n"
     ]
    }
   ],
   "source": [
    "class ToDo_list():\n",
    "    def __init__(self,tasks,due_dates):\n",
    "        self.tasks=tasks\n",
    "        self.due_dates=due_dates\n",
    "        self.is_completed=False\n",
    "class todo():\n",
    "    def __init__(self):\n",
    "        self.todo_list=[]\n",
    "    def add_task(self,tasks,due_dates):\n",
    "        list=ToDo_list(tasks,due_dates)\n",
    "        self.todo_list.append(list)\n",
    "    def mark_tasks(self,tasks):\n",
    "        for item in self.todo_list:\n",
    "            if item.tasks == tasks:\n",
    "                item.is_completed=True\n",
    "    def pending_task(self):\n",
    "        for item in self.todo_list:\n",
    "            if item.is_completed == False:\n",
    "                print(\"task is \"+str(item.tasks)+\" due dates \"+str(item.due_dates))\n",
    "obj=todo()\n",
    "obj.add_task('washing clothes','3/10/2023')\n",
    "obj.add_task('bathing','2/10/2023')\n",
    "obj.add_task('cooking','5/10/2023')\n",
    "obj.add_task('cleaning','6/10/2023') \n",
    "obj.mark_tasks('washing clothes')\n",
    "obj.pending_task()                   \n",
    "                    \n",
    "            \n",
    "    \n",
    "                \n",
    "            \n",
    "                   \n",
    "        "
   ]
  }
 ],
 "metadata": {
  "kernelspec": {
   "display_name": "Python 3",
   "language": "python",
   "name": "python3"
  },
  "language_info": {
   "codemirror_mode": {
    "name": "ipython",
    "version": 3
   },
   "file_extension": ".py",
   "mimetype": "text/x-python",
   "name": "python",
   "nbconvert_exporter": "python",
   "pygments_lexer": "ipython3",
   "version": "3.11.4"
  }
 },
 "nbformat": 4,
 "nbformat_minor": 2
}
