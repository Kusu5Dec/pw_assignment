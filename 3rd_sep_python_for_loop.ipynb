{
 "cells": [
  {
   "cell_type": "code",
   "execution_count": 1,
   "metadata": {},
   "outputs": [],
   "source": [
    "# Basic level:\n"
   ]
  },
  {
   "cell_type": "code",
   "execution_count": 2,
   "metadata": {},
   "outputs": [
    {
     "name": "stdout",
     "output_type": "stream",
     "text": [
      "1\n",
      "2\n",
      "3\n",
      "4\n",
      "5\n",
      "6\n",
      "7\n",
      "8\n",
      "9\n",
      "10\n"
     ]
    }
   ],
   "source": [
    "def python_number(a):\n",
    "    for item in a:\n",
    "        print(item)\n",
    "    \n",
    "python_number(range(1,11))    "
   ]
  },
  {
   "cell_type": "code",
   "execution_count": 3,
   "metadata": {},
   "outputs": [
    {
     "name": "stdout",
     "output_type": "stream",
     "text": [
      "14\n"
     ]
    }
   ],
   "source": [
    "def sum_of_list(a):\n",
    "    sum=0\n",
    "    for item in a:\n",
    "        sum=sum+item\n",
    "    print(sum)    \n",
    "        \n",
    "        \n",
    "        \n",
    "        \n",
    "    \n",
    "    \n",
    "    \n",
    "sum_of_list([2,3,4,5])   "
   ]
  },
  {
   "cell_type": "code",
   "execution_count": 4,
   "metadata": {},
   "outputs": [
    {
     "name": "stdout",
     "output_type": "stream",
     "text": [
      "['d', 'c', 'b', 'a']\n"
     ]
    }
   ],
   "source": [
    "def reverse_list(a):\n",
    "    left=0\n",
    "    right=len(a)-1\n",
    "    while left < right:\n",
    "        b=a[left]\n",
    "        a[left]=a[right]\n",
    "        a[right]=b\n",
    "        left += 1\n",
    "        right -= 1\n",
    "    print(a)    \n",
    "        \n",
    "        \n",
    "    \n",
    "    \n",
    "        \n",
    "        \n",
    "        \n",
    "    \n",
    "    \n",
    "    \n",
    "    \n",
    "reverse_list([\"a\",\"b\",\"c\",\"d\"]) \n",
    "   "
   ]
  },
  {
   "cell_type": "code",
   "execution_count": 5,
   "metadata": {},
   "outputs": [],
   "source": [
    "def factorial_number():\n",
    "    num=int(input(\"please enter the num\"))\n",
    "    fact=1\n",
    "    for item in range(1,num+1):\n",
    "        fact=fact*item\n",
    "    \n",
    "    print(fact)         \n",
    "    \n",
    "    \n",
    "    \n",
    "    \n",
    "factorial_number()    \n",
    "    "
   ]
  },
  {
   "cell_type": "code",
   "execution_count": null,
   "metadata": {},
   "outputs": [
    {
     "name": "stdout",
     "output_type": "stream",
     "text": [
      "2\n",
      "4\n",
      "6\n",
      "8\n",
      "10\n",
      "12\n",
      "14\n",
      "16\n",
      "18\n",
      "20\n"
     ]
    }
   ],
   "source": [
    "def muliplication_num():\n",
    "    num=int(input(\"please enter the number\"))\n",
    "    for item in range(1,11):\n",
    "        a=num*item\n",
    "        print(a)\n",
    "        \n",
    "    \n",
    "    \n",
    "muliplication_num()    "
   ]
  },
  {
   "cell_type": "code",
   "execution_count": null,
   "metadata": {},
   "outputs": [
    {
     "name": "stdout",
     "output_type": "stream",
     "text": [
      "9\n",
      "4\n"
     ]
    }
   ],
   "source": [
    "def even_odd_number(a):\n",
    "    evencount=0\n",
    "    oddcount=0\n",
    "    for item in a:\n",
    "        if item%2 == 0:\n",
    "            evencount=evencount+1\n",
    "        if item != 0:\n",
    "            oddcount=oddcount+1\n",
    "    print(oddcount)\n",
    "    print(evencount)\n",
    "                \n",
    "        \n",
    "    \n",
    "    \n",
    "    \n",
    "even_odd_number([2,4,7,8,9,1,14,7,9])    "
   ]
  },
  {
   "cell_type": "code",
   "execution_count": null,
   "metadata": {},
   "outputs": [
    {
     "name": "stdout",
     "output_type": "stream",
     "text": [
      "1\n",
      "4\n",
      "9\n",
      "16\n"
     ]
    }
   ],
   "source": [
    "def square_of_number(a):\n",
    "    for item in a :\n",
    "        a= item*item\n",
    "        print(a)\n",
    "        \n",
    "    \n",
    "    \n",
    "    \n",
    "square_of_number(range(1,5))    "
   ]
  },
  {
   "cell_type": "code",
   "execution_count": null,
   "metadata": {},
   "outputs": [
    {
     "name": "stdout",
     "output_type": "stream",
     "text": [
      "16\n"
     ]
    }
   ],
   "source": [
    "def length_of_string(a):\n",
    "    count=0\n",
    "    for item in a:\n",
    "        count=count+1\n",
    "    print(count)\n",
    "    \n",
    "    \n",
    "length_of_string(\"my name is kusum\" ) "
   ]
  },
  {
   "cell_type": "code",
   "execution_count": null,
   "metadata": {},
   "outputs": [
    {
     "name": "stdout",
     "output_type": "stream",
     "text": [
      "5.8\n"
     ]
    }
   ],
   "source": [
    "def average(a):\n",
    "    for item in a:\n",
    "        h=sum(a)/len(a)\n",
    "    print(h)    \n",
    "        \n",
    "    \n",
    "    \n",
    "    \n",
    "    \n",
    "average([1,6,8,9,5])\n",
    "    "
   ]
  },
  {
   "cell_type": "code",
   "execution_count": null,
   "metadata": {},
   "outputs": [
    {
     "name": "stdout",
     "output_type": "stream",
     "text": [
      "0\n",
      "1\n",
      "1\n",
      "2\n",
      "3\n",
      "5\n",
      "8\n",
      "13\n",
      "21\n",
      "34\n",
      "55\n"
     ]
    }
   ],
   "source": [
    "def fibobical_number():\n",
    "    first = 0\n",
    "    second = 1\n",
    "    print(first)\n",
    "    print(second)\n",
    "    for x in range(1,10):\n",
    "        third = first + second\n",
    "        print(third)\n",
    "        first,second=second,third\n",
    "\n",
    "\n",
    "        \n",
    "    \n",
    "    \n",
    "    \n",
    "fibobical_number()    "
   ]
  },
  {
   "cell_type": "code",
   "execution_count": null,
   "metadata": {},
   "outputs": [],
   "source": [
    "#intermediate level"
   ]
  },
  {
   "cell_type": "code",
   "execution_count": null,
   "metadata": {},
   "outputs": [
    {
     "name": "stdout",
     "output_type": "stream",
     "text": [
      "3 3 "
     ]
    }
   ],
   "source": [
    "def duplicate_number(list):\n",
    "    list1=[]\n",
    "    for item in list:\n",
    "        if item not in list1:\n",
    "            list1.append(item)\n",
    "        else:\n",
    "            print(item,end=' ')       \n",
    "                               \n",
    "    \n",
    "    \n",
    "duplicate_number([1,3,3,2,6,7,3])        \n",
    "    "
   ]
  },
  {
   "cell_type": "code",
   "execution_count": null,
   "metadata": {},
   "outputs": [
    {
     "name": "stdout",
     "output_type": "stream",
     "text": [
      "2,3,5,7,11,13,17,19,"
     ]
    }
   ],
   "source": [
    "def prime_number():\n",
    "    for number in range(2,20):\n",
    "        for number1 in range(2,20):\n",
    "            if number%number1 == 0:\n",
    "                break\n",
    "        if number==number1:\n",
    "            print(number,end=\",\")\n",
    "            \n",
    "prime_number()    "
   ]
  },
  {
   "cell_type": "code",
   "execution_count": null,
   "metadata": {},
   "outputs": [
    {
     "name": "stdout",
     "output_type": "stream",
     "text": [
      "5\n"
     ]
    }
   ],
   "source": [
    "def count_of_vowels(sentence):\n",
    "    vowel_count=0\n",
    "    for item in sentence:\n",
    "        sentence_lower=item.lower()\n",
    "        if sentence_lower in \"aeiou\": \n",
    "            vowel_count=vowel_count+1\n",
    "    print(vowel_count)    \n",
    "    \n",
    "count_of_vowels(\"my name is kusum\") \n",
    "   "
   ]
  },
  {
   "cell_type": "code",
   "execution_count": null,
   "metadata": {},
   "outputs": [
    {
     "name": "stdout",
     "output_type": "stream",
     "text": [
      "648\n"
     ]
    }
   ],
   "source": [
    "def max_number(a):\n",
    "    count=0\n",
    "    for item in a:\n",
    "        p = 1\n",
    "        for item2 in item:\n",
    "            p *= item2\n",
    "            count=max(p,count)\n",
    "    print(count)   \n",
    "            \n",
    "max_number([[4,6,3,9],[3,5,6] ,[8,9,6]])   "
   ]
  },
  {
   "cell_type": "code",
   "execution_count": null,
   "metadata": {},
   "outputs": [
    {
     "name": "stdout",
     "output_type": "stream",
     "text": [
      "[7, 8, 9, 4, 6]\n"
     ]
    }
   ],
   "source": [
    "def removes_number(l):\n",
    "    n=3\n",
    "    for item in l:\n",
    "        if item == n:\n",
    "            l.remove(item)\n",
    "    print(l)    \n",
    "removes_number([7,8,9,4,3,6,3])    "
   ]
  },
  {
   "cell_type": "code",
   "execution_count": null,
   "metadata": {},
   "outputs": [
    {
     "name": "stdout",
     "output_type": "stream",
     "text": [
      "1 2 3 4 \n",
      "2 4 6 8 \n",
      "3 6 9 12 \n",
      "4 8 12 16 \n"
     ]
    }
   ],
   "source": [
    "def muliplication_num():\n",
    "    for item in range(1,5):\n",
    "        for item2 in range(1,5):\n",
    "            k=item*item2\n",
    "            print(k,end=' ')\n",
    "        print()\n",
    "muliplication_num()       "
   ]
  },
  {
   "cell_type": "code",
   "execution_count": null,
   "metadata": {},
   "outputs": [
    {
     "name": "stdout",
     "output_type": "stream",
     "text": [
      "12.222222222222221\n",
      "13.333333333333334\n",
      "36.55555555555556\n"
     ]
    }
   ],
   "source": [
    "def farhenit_temp(fahreneit):\n",
    "    for item in fahreneit:\n",
    "        celsius=float(item-32)*5/9\n",
    "        print(celsius)        \n",
    "        \n",
    "    \n",
    "    \n",
    "farhenit_temp([54,56,97.8])    "
   ]
  },
  {
   "cell_type": "code",
   "execution_count": null,
   "metadata": {},
   "outputs": [
    {
     "name": "stdout",
     "output_type": "stream",
     "text": [
      "6 6\n",
      "7 7\n"
     ]
    }
   ],
   "source": [
    "def common_elements(list1,list2):\n",
    "    for item in list1:\n",
    "        for item2 in list2:\n",
    "            if item==item2:\n",
    "                print(item,item2)\n",
    "common_elements([1,3,6,7],[2,4,6,7])\n",
    "    "
   ]
  },
  {
   "cell_type": "code",
   "execution_count": null,
   "metadata": {},
   "outputs": [
    {
     "name": "stdout",
     "output_type": "stream",
     "text": [
      "* \n",
      "* * \n",
      "* * * \n",
      "* * * * \n"
     ]
    }
   ],
   "source": [
    "def right_angled_pattern():\n",
    "    row=int(input(\"please enter the row\"))\n",
    "    for item in range(1,row+1):\n",
    "        for item2 in range(1,item+1):\n",
    "            print(\"*\",end=\" \")\n",
    "        print()    \n",
    "right_angled_pattern()    "
   ]
  },
  {
   "cell_type": "code",
   "execution_count": null,
   "metadata": {},
   "outputs": [
    {
     "name": "stdout",
     "output_type": "stream",
     "text": [
      "4\n"
     ]
    }
   ],
   "source": [
    "def greatest_common_divisor(a,b):\n",
    "    gcd=0\n",
    "    if a > b:\n",
    "        small=a\n",
    "    else:\n",
    "        small=b\n",
    "    for item in range(1,small+1):\n",
    "        if ((a%item==0) and(b%item==0)):\n",
    "            gcd=item\n",
    "    print(gcd)        \n",
    "       \n",
    "    \n",
    "        \n",
    "    \n",
    "    \n",
    "    \n",
    "greatest_common_divisor(100,48)    "
   ]
  },
  {
   "cell_type": "code",
   "execution_count": null,
   "metadata": {},
   "outputs": [],
   "source": [
    "#Advanced level"
   ]
  },
  {
   "cell_type": "code",
   "execution_count": null,
   "metadata": {},
   "outputs": [
    {
     "name": "stdout",
     "output_type": "stream",
     "text": [
      "[3, 13, 7]\n"
     ]
    }
   ],
   "source": [
    "def sum_of_elements(list):\n",
    "    list1=[]\n",
    "    for item in list:\n",
    "        sum=0\n",
    "        \n",
    "        for item2 in str(item):\n",
    "            sum=sum+int(item2)\n",
    "        list1.append(sum)\n",
    "    print(list1)\n",
    "            \n",
    "sum_of_elements([12,67,34])    "
   ]
  },
  {
   "cell_type": "code",
   "execution_count": null,
   "metadata": {},
   "outputs": [
    {
     "name": "stdout",
     "output_type": "stream",
     "text": [
      "[2, 67, 17]\n"
     ]
    }
   ],
   "source": [
    "def prime_number(list):\n",
    "    prime=[]\n",
    "    for item in list:\n",
    "        n=0\n",
    "        for item2 in range(1,item):\n",
    "            if item%item2==0:\n",
    "                n=n+1\n",
    "        if n==1:\n",
    "            prime.append(item)\n",
    "    print(prime)                \n",
    "prime_number([2,8,9,56,896,67,98,45,46,24,86,17])    "
   ]
  },
  {
   "cell_type": "code",
   "execution_count": null,
   "metadata": {},
   "outputs": [
    {
     "name": "stdout",
     "output_type": "stream",
     "text": [
      "6\n",
      "8\n",
      "10\n",
      "20\n",
      "30\n",
      "70\n"
     ]
    }
   ],
   "source": [
    "def new_list(list):\n",
    "    unique_list=[]\n",
    "    for item in list:\n",
    "        if item not in unique_list:\n",
    "            unique_list.append(item)\n",
    "            print(item)        \n",
    "            \n",
    "new_list([6,8,10,20,30,70,10,10,8,8,70,70,])    \n",
    "    \n",
    "    \n",
    "    \n",
    "    \n",
    "    \n",
    "    "
   ]
  },
  {
   "cell_type": "code",
   "execution_count": null,
   "metadata": {},
   "outputs": [
    {
     "name": "stdout",
     "output_type": "stream",
     "text": [
      "121\n",
      "141\n",
      "252\n",
      "\n"
     ]
    }
   ],
   "source": [
    "def palindrome(list):\n",
    "    n=0\n",
    "    for item in list:\n",
    "        if str(item) == str(item) [::-1]:\n",
    "            print(item)\n",
    "            n+=1\n",
    "    print()\n",
    "    \n",
    "palindrome([10,121,133,155,141,252])    "
   ]
  },
  {
   "cell_type": "code",
   "execution_count": null,
   "metadata": {},
   "outputs": [
    {
     "name": "stdout",
     "output_type": "stream",
     "text": [
      "[2, 4, 6, 8]\n",
      "[2, 4, 6, 8, 10, 12, 14, 16]\n",
      "[2, 4, 6, 8, 10, 12, 14, 16, 18, 20, 22, 24]\n"
     ]
    }
   ],
   "source": [
    "def flat(lis):\n",
    "    flatList=[]\n",
    "    for element in lis:\n",
    "        if type(element) is list:\n",
    "            for item in element:\n",
    "                flatList.append(item)\n",
    "        else:\n",
    "            flatList.append(element)\n",
    "        print(flatList) \n",
    "               \n",
    "flat([[2,4,6,8],[10,12,14,16],[18,20,22,24]])    "
   ]
  },
  {
   "cell_type": "code",
   "execution_count": null,
   "metadata": {},
   "outputs": [
    {
     "name": "stdout",
     "output_type": "stream",
     "text": [
      "30\n",
      "28\n"
     ]
    }
   ],
   "source": [
    "def sum_odd_even(list):\n",
    "    odd_sum=0\n",
    "    even_sum=0\n",
    "    for item in list:\n",
    "        for item2 in str(item):\n",
    "            if int(item2)%2 == 0:\n",
    "                even_sum += int(item2)\n",
    "            else:\n",
    "                odd_sum += int(item2) \n",
    "    print( str(odd_sum))\n",
    "    print(str(even_sum))               \n",
    "sum_odd_even([345,894,19,34,26])    "
   ]
  },
  {
   "cell_type": "code",
   "execution_count": null,
   "metadata": {},
   "outputs": [
    {
     "name": "stdout",
     "output_type": "stream",
     "text": [
      "1\n",
      "9\n",
      "25\n",
      "49\n",
      "81\n",
      "121\n"
     ]
    }
   ],
   "source": [
    "def square1(list2):\n",
    "    for item in list2:\n",
    "        square=item**2\n",
    "        if item%2 !=0:\n",
    "            print(square)\n",
    "            \n",
    "            \n",
    "square1([1,2,3,4,5,6,7,8,9,10,11])    "
   ]
  },
  {
   "cell_type": "code",
   "execution_count": null,
   "metadata": {},
   "outputs": [
    {
     "name": "stdout",
     "output_type": "stream",
     "text": [
      "{'kusum': 2}\n",
      "{'sunil': 1}\n",
      "{'mamta': 5}\n",
      "{'jyoti': 3}\n",
      "{'jyoti': 4}\n"
     ]
    }
   ],
   "source": [
    "def combines_list():\n",
    "    key=[\"kusum\",\"sunil\",\"mamta\",\"jyoti\",\"jyoti\"]\n",
    "    value=[2,1,5,3,4]\n",
    "    for item in range(len(key)):\n",
    "        dict={key[item] : value[item]}\n",
    "        print(str(dict)) \n",
    "combines_list()    "
   ]
  },
  {
   "cell_type": "code",
   "execution_count": null,
   "metadata": {},
   "outputs": [
    {
     "name": "stdout",
     "output_type": "stream",
     "text": [
      "['all', 'and', 'icecream']\n"
     ]
    }
   ],
   "source": [
    "def extracts_vowels(list):\n",
    "    a=[]\n",
    "    vowels=\"aeiou\"\n",
    "    for item in list:\n",
    "        b=False\n",
    "        for item2 in vowels:\n",
    "            if item.startswith(item2):\n",
    "                b=True\n",
    "                break\n",
    "        if b:\n",
    "            a.append(item)\n",
    "    print(str(a))            \n",
    "    \n",
    "extracts_vowels(['all','love','and','kusum','icecream'])    \n",
    "    "
   ]
  },
  {
   "cell_type": "code",
   "execution_count": null,
   "metadata": {},
   "outputs": [
    {
     "name": "stdout",
     "output_type": "stream",
     "text": [
      "g e e  k  s   f o   r  g e e k s \n"
     ]
    }
   ],
   "source": [
    "def renoves_non_numeric(d):\n",
    "    a=list(d)\n",
    "    for item in range(len(a)):\n",
    "        if not a [item] .isalpha():\n",
    "            a[item]= ''\n",
    "    print(' '.join(a))        \n",
    "    \n",
    "renoves_non_numeric(\"gee*k;s..fo ,r^geeks?\")    "
   ]
  },
  {
   "cell_type": "code",
   "execution_count": null,
   "metadata": {},
   "outputs": [],
   "source": [
    "#challenge level"
   ]
  },
  {
   "cell_type": "code",
   "execution_count": null,
   "metadata": {},
   "outputs": [
    {
     "name": "stdout",
     "output_type": "stream",
     "text": [
      "[4]\n",
      "[4, 6]\n",
      "[4, 6, 8]\n",
      "[4, 6, 8, 10]\n"
     ]
    }
   ],
   "source": [
    "def prime_eratosthenese(a):\n",
    "    list=[]\n",
    "    for item in range(2,2+1):\n",
    "        if item not in list:\n",
    "            for item2 in range(item*item,a+1,item):\n",
    "                list.append(item2)\n",
    "                print(list)\n",
    "               \n",
    "prime_eratosthenese(10)    "
   ]
  },
  {
   "cell_type": "code",
   "execution_count": null,
   "metadata": {},
   "outputs": [],
   "source": [
    "#q32"
   ]
  },
  {
   "cell_type": "code",
   "execution_count": null,
   "metadata": {},
   "outputs": [
    {
     "name": "stdout",
     "output_type": "stream",
     "text": [
      "[(2, 1), (2, 6), (2, 7), (3, 1), (3, 6), (3, 7), (4, 1), (4, 6), (4, 7), (5, 1), (5, 6), (5, 7)]\n"
     ]
    }
   ],
   "source": [
    "def combinations(list1,list2):\n",
    "    list3=[]\n",
    "    for item in range(len(list1)):\n",
    "        for item2 in range(len(list2)):\n",
    "            list3.append((list1[item] ,list2[item2]))\n",
    "    print(list3)         \n",
    "combinations([2,3,4,5],[1,6,7])    "
   ]
  },
  {
   "cell_type": "code",
   "execution_count": null,
   "metadata": {},
   "outputs": [
    {
     "name": "stdout",
     "output_type": "stream",
     "text": [
      "5.4\n"
     ]
    }
   ],
   "source": [
    "def mean(list):\n",
    "    n=len(list)\n",
    "    sum=0\n",
    "    for item in list:\n",
    "        sum=sum+item\n",
    "    mean=sum/n\n",
    "    print(mean)    \n",
    "mean([4,8,9,2,4])\n",
    "    \n",
    "    "
   ]
  },
  {
   "cell_type": "code",
   "execution_count": null,
   "metadata": {},
   "outputs": [],
   "source": [
    "#median"
   ]
  },
  {
   "cell_type": "code",
   "execution_count": null,
   "metadata": {},
   "outputs": [],
   "source": [
    "#mode"
   ]
  },
  {
   "cell_type": "code",
   "execution_count": null,
   "metadata": {},
   "outputs": [
    {
     "name": "stdout",
     "output_type": "stream",
     "text": [
      "          \n",
      "        1   \n",
      "      1   1   \n",
      "    1   2   1   \n",
      "  1   3   3   1   \n",
      "1   4   6   4   1   \n"
     ]
    }
   ],
   "source": [
    "def pascal_triangle(n):\n",
    "    for item in range(n+1):\n",
    "        for item2 in range(n-item):\n",
    "            print(' ' ,end=' ')\n",
    "        a=1\n",
    "        for item2 in range(1,item+1):\n",
    "            print(a, ' ' ,sep=' ', end=' ')\n",
    "            a=a*(item-item2)//item2\n",
    "        print()    \n",
    "                \n",
    "                \n",
    "            \n",
    "pascal_triangle(5)    "
   ]
  },
  {
   "cell_type": "code",
   "execution_count": null,
   "metadata": {},
   "outputs": [
    {
     "name": "stdout",
     "output_type": "stream",
     "text": [
      "153\n"
     ]
    }
   ],
   "source": [
    "def fictorial_number(n):\n",
    "    f=1\n",
    "    sum=0\n",
    "    for item in range(1,n+1):\n",
    "        f=f*item\n",
    "        sum += f\n",
    "    print(sum)\n",
    "        \n",
    "    \n",
    "\n",
    "    \n",
    "fictorial_number(5)    "
   ]
  },
  {
   "cell_type": "code",
   "execution_count": null,
   "metadata": {},
   "outputs": [
    {
     "name": "stdout",
     "output_type": "stream",
     "text": [
      "three\n"
     ]
    }
   ],
   "source": [
    "def longest_word(a):\n",
    "    m=len(a[0])\n",
    "    t=a[0]\n",
    "    for item in a:\n",
    "        if (len(item) > m):\n",
    "            m=len(item)\n",
    "            t=item\n",
    "    print(str(t))        \n",
    "    \n",
    "longest_word([\"one\",\"two\",\"three\",\"four\"])    "
   ]
  },
  {
   "cell_type": "code",
   "execution_count": null,
   "metadata": {},
   "outputs": [],
   "source": [
    "#q38 "
   ]
  },
  {
   "cell_type": "code",
   "execution_count": null,
   "metadata": {},
   "outputs": [],
   "source": [
    "#q39"
   ]
  },
  {
   "cell_type": "code",
   "execution_count": null,
   "metadata": {},
   "outputs": [],
   "source": [
    "#q40"
   ]
  }
 ],
 "metadata": {
  "kernelspec": {
   "display_name": "Python 3",
   "language": "python",
   "name": "python3"
  },
  "language_info": {
   "codemirror_mode": {
    "name": "ipython",
    "version": 3
   },
   "file_extension": ".py",
   "mimetype": "text/x-python",
   "name": "python",
   "nbconvert_exporter": "python",
   "pygments_lexer": "ipython3",
   "version": "3.11.4"
  },
  "orig_nbformat": 4
 },
 "nbformat": 4,
 "nbformat_minor": 2
}
