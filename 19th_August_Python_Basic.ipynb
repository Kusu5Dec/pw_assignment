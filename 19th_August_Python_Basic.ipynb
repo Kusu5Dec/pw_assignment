{
 "cells": [
  {
   "cell_type": "code",
   "execution_count": null,
   "metadata": {},
   "outputs": [
    {
     "name": "stdout",
     "output_type": "stream",
     "text": [
      "20 10\n"
     ]
    }
   ],
   "source": [
    "\n",
    "\n",
    "x=10\n",
    "y=20\n",
    "#we use signle line variable declaration\n",
    "x,y=y,x\n",
    "print(x,y)"
   ]
  },
  {
   "cell_type": "code",
   "execution_count": 8,
   "metadata": {},
   "outputs": [
    {
     "name": "stdout",
     "output_type": "stream",
     "text": [
      "12.0\n"
     ]
    }
   ],
   "source": [
    "height=float(input(\"please enter the height\"))\n",
    "base=float(input(\"please enter the base\"))\n",
    "area=1/2*(height*base)\n",
    "print(area)"
   ]
  },
  {
   "cell_type": "code",
   "execution_count": null,
   "metadata": {},
   "outputs": [
    {
     "name": "stdout",
     "output_type": "stream",
     "text": [
      "117.5F\n"
     ]
    }
   ],
   "source": [
    "celsius=float(input(\"please enter the temperature celsius\"))\n",
    "fahrenheit=(celsius*9/5)+32\n",
    "print(str(fahrenheit)+\"F\")\n"
   ]
  },
  {
   "cell_type": "code",
   "execution_count": 77,
   "metadata": {},
   "outputs": [
    {
     "name": "stdout",
     "output_type": "stream",
     "text": [
      "8\n"
     ]
    }
   ],
   "source": [
    "message=input(\"please enter the message\")\n",
    "print(len(message))\n",
    "          "
   ]
  },
  {
   "cell_type": "code",
   "execution_count": 53,
   "metadata": {},
   "outputs": [
    {
     "data": {
      "text/plain": [
       "'dlrow olleh'"
      ]
     },
     "execution_count": 53,
     "metadata": {},
     "output_type": "execute_result"
    }
   ],
   "source": [
    "s=\"hello world\"\n",
    "s[11::-1]\n",
    "\n"
   ]
  },
  {
   "cell_type": "code",
   "execution_count": 64,
   "metadata": {},
   "outputs": [
    {
     "name": "stdout",
     "output_type": "stream",
     "text": [
      "it is a paliandrome\n"
     ]
    }
   ],
   "source": [
    "value=input(\"please enter the value\")\n",
    "reversed=value[::-1]\n",
    "if value == reversed:\n",
    "    print(\"it is a paliandrome\")\n",
    "else:\n",
    "    print(\"it is not a paliandrome\")    \n",
    "\n",
    "\n",
    "\n"
   ]
  },
  {
   "cell_type": "code",
   "execution_count": 78,
   "metadata": {},
   "outputs": [
    {
     "name": "stdout",
     "output_type": "stream",
     "text": [
      "mynameiskusum\n"
     ]
    }
   ],
   "source": [
    "s=input(\"please enter the name\")\n",
    "s1=s.replace(' ' ,'')\n",
    "print(s1)\n"
   ]
  },
  {
   "cell_type": "code",
   "execution_count": 79,
   "metadata": {},
   "outputs": [
    {
     "name": "stdout",
     "output_type": "stream",
     "text": [
      "2\n"
     ]
    }
   ],
   "source": [
    "name=input(\"please enter the name\")\n",
    "count=0\n",
    "for item in name:\n",
    "    if (item == 'a'or item =='e' or item == 'i' or item == 'o' or item == 'u' or item == 'A' or item=='E' or item == 'I' or item == 'O' or item =='U'):\n",
    "        count=count+1\n",
    "print(count)        \n",
    "        \n",
    "\n",
    "    "
   ]
  }
 ],
 "metadata": {
  "kernelspec": {
   "display_name": "Python 3",
   "language": "python",
   "name": "python3"
  },
  "language_info": {
   "codemirror_mode": {
    "name": "ipython",
    "version": 3
   },
   "file_extension": ".py",
   "mimetype": "text/x-python",
   "name": "python",
   "nbconvert_exporter": "python",
   "pygments_lexer": "ipython3",
   "version": "3.11.4"
  },
  "orig_nbformat": 4
 },
 "nbformat": 4,
 "nbformat_minor": 2
}
