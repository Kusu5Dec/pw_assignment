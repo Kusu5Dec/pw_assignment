{
 "cells": [
  {
   "cell_type": "code",
   "execution_count": 1,
   "metadata": {},
   "outputs": [],
   "source": [
    "# Basic If Else:\n"
   ]
  },
  {
   "cell_type": "code",
   "execution_count": 14,
   "metadata": {},
   "outputs": [
    {
     "name": "stdout",
     "output_type": "stream",
     "text": [
      "postive number\n"
     ]
    }
   ],
   "source": [
    "def postive_negative():\n",
    "    n=int(input(\"please enter the number\"))\n",
    "    if n > 0:\n",
    "        print(\"postive number\")\n",
    "    else:\n",
    "        print(\"negative number\")\n",
    "            \n",
    "postive_negative()    "
   ]
  },
  {
   "cell_type": "code",
   "execution_count": 18,
   "metadata": {},
   "outputs": [
    {
     "name": "stdout",
     "output_type": "stream",
     "text": [
      "eligble\n"
     ]
    }
   ],
   "source": [
    "def eligble():\n",
    "    age=int(input(\"please enter the age\"))\n",
    "    if age >= 18:\n",
    "        print(\"eligble\")\n",
    "    else:\n",
    "        print(\"not eligble\")    \n",
    "        \n",
    "eligble()    "
   ]
  },
  {
   "cell_type": "code",
   "execution_count": 20,
   "metadata": {},
   "outputs": [
    {
     "name": "stdout",
     "output_type": "stream",
     "text": [
      "9\n"
     ]
    }
   ],
   "source": [
    "def maximum_number(x,y):\n",
    "    if x > y:\n",
    "        print(x)\n",
    "    else:\n",
    "        print(y)    \n",
    "        \n",
    "maximum_number(8,9)    \n"
   ]
  },
  {
   "cell_type": "code",
   "execution_count": 24,
   "metadata": {},
   "outputs": [
    {
     "name": "stdout",
     "output_type": "stream",
     "text": [
      "yes,leap year\n"
     ]
    }
   ],
   "source": [
    "def leap_year():\n",
    "    days=int(input(\"please enter the days\"))\n",
    "    if days == 366:\n",
    "        print(\"yes,leap year\")\n",
    "    elif days == 365:\n",
    "        print(\"not,leap year\")    \n",
    "    else:\n",
    "        print(\"not are correct\")    \n",
    "leap_year()    "
   ]
  },
  {
   "cell_type": "code",
   "execution_count": 29,
   "metadata": {},
   "outputs": [
    {
     "name": "stdout",
     "output_type": "stream",
     "text": [
      "it is vowel\n"
     ]
    }
   ],
   "source": [
    "def vowel_consontant():\n",
    "    character=input(\"please enter the character\")\n",
    "    vowels=character.lower()\n",
    "    if vowels in \"aeiou\":\n",
    "        print(\"it is vowel\")\n",
    "    else:\n",
    "        print(\"it is consontant\")    \n",
    "    \n",
    "    \n",
    "     \n",
    "vowel_consontant()    "
   ]
  },
  {
   "cell_type": "code",
   "execution_count": 31,
   "metadata": {},
   "outputs": [
    {
     "name": "stdout",
     "output_type": "stream",
     "text": [
      "odd number\n"
     ]
    }
   ],
   "source": [
    "def odd_even():\n",
    "    number=int(input(\"please enter the number\"))\n",
    "    if number % 2 == 0:\n",
    "        print(\"even number\")\n",
    "    else:\n",
    "        print(\"odd number\")    \n",
    "odd_even()    "
   ]
  },
  {
   "cell_type": "code",
   "execution_count": 33,
   "metadata": {},
   "outputs": [
    {
     "name": "stdout",
     "output_type": "stream",
     "text": [
      "it is absolute value\n"
     ]
    }
   ],
   "source": [
    "def absolute_value():\n",
    "    value=int(input(\"please enter the value\"))\n",
    "    if value > 0:\n",
    "        print(\"it is absolute value\")\n",
    "    else:\n",
    "        print(\"it is not absolute value\")    \n",
    "absolute_value()    "
   ]
  },
  {
   "cell_type": "code",
   "execution_count": 36,
   "metadata": {},
   "outputs": [
    {
     "name": "stdout",
     "output_type": "stream",
     "text": [
      "10 is longest\n"
     ]
    }
   ],
   "source": [
    "def largest_number(a,b,c):\n",
    "    if a > b and a > c:\n",
    "        print(str(a)+\" is grater\")\n",
    "    elif b > a and b > c:\n",
    "        print(str(b)+\" is lower\")\n",
    "    else:\n",
    "        print(str(c)+\" is longest\")       \n",
    "largest_number(8,9,10) \n",
    "   \n"
   ]
  },
  {
   "cell_type": "code",
   "execution_count": 39,
   "metadata": {},
   "outputs": [
    {
     "name": "stdout",
     "output_type": "stream",
     "text": [
      "it is palindrome\n"
     ]
    }
   ],
   "source": [
    "def palindrome():\n",
    "    string=input(\"please enter the string\")\n",
    "    if string == string[::-1]:\n",
    "        print(\"it is palindrome\")\n",
    "    else:\n",
    "        print(\"it is not palindrome\")    \n",
    "palindrome()    "
   ]
  },
  {
   "cell_type": "code",
   "execution_count": 45,
   "metadata": {},
   "outputs": [
    {
     "name": "stdout",
     "output_type": "stream",
     "text": [
      "B grade\n"
     ]
    }
   ],
   "source": [
    "def grade_based():\n",
    "    score=int(input(\"please enter the score\"))\n",
    "    if score >= 90:\n",
    "        print(\"excellent\")\n",
    "    elif score >= 90 and  score >= 70:\n",
    "        print(\"A grade\")\n",
    "    elif score >= 70 and score >= 60:\n",
    "        print(\"B grade\")\n",
    "    elif score >= 50 and score >= 40:\n",
    "        print(\"C grade\")\n",
    "    else:\n",
    "        print(\"fall\")                \n",
    "              \n",
    "grade_based()    "
   ]
  },
  {
   "cell_type": "code",
   "execution_count": 46,
   "metadata": {},
   "outputs": [],
   "source": [
    "#Nested if else statments:\n"
   ]
  },
  {
   "cell_type": "code",
   "execution_count": 48,
   "metadata": {},
   "outputs": [
    {
     "name": "stdout",
     "output_type": "stream",
     "text": [
      "9\n"
     ]
    }
   ],
   "source": [
    "def largest_numbers(x,y,z):\n",
    "    if x > y and x > z:\n",
    "        print(x)\n",
    "        if y > x and y > z:\n",
    "            print(y)\n",
    "    else:\n",
    "        print(z)    \n",
    "largest_numbers(8,7,9)    \n",
    "    "
   ]
  },
  {
   "cell_type": "code",
   "execution_count": 51,
   "metadata": {},
   "outputs": [
    {
     "name": "stdout",
     "output_type": "stream",
     "text": [
      "iscosceless\n"
     ]
    }
   ],
   "source": [
    "def triangle():\n",
    "    l=int(input(\"please enter the length\"))\n",
    "    b=int(input(\"please enter the breath\"))\n",
    "    h=int(input(\"please enter the height\"))\n",
    "    if l == b == h:\n",
    "        print(\"equatieral\")\n",
    "    elif l==b or b==h or l==h:\n",
    "        print(\"iscosceless\")\n",
    "    else:\n",
    "        print(\"scalene\") \n",
    "    \n",
    "    \n",
    "triangle()    "
   ]
  },
  {
   "cell_type": "code",
   "execution_count": 53,
   "metadata": {},
   "outputs": [
    {
     "name": "stdout",
     "output_type": "stream",
     "text": [
      "it is not correct century\n"
     ]
    }
   ],
   "source": [
    "def leap_year():\n",
    "    century=int(input(\"please enter the century\"))\n",
    "    if century % 400 == 0:\n",
    "        print(\"it is century leap year\")\n",
    "        if century % 100 != 0:\n",
    "            print(\"it is not  century leap year\")\n",
    "    else:\n",
    "        print(\"it is not correct century\")        \n",
    "leap_year()    "
   ]
  },
  {
   "cell_type": "code",
   "execution_count": 57,
   "metadata": {},
   "outputs": [
    {
     "name": "stdout",
     "output_type": "stream",
     "text": [
      "negative number\n"
     ]
    }
   ],
   "source": [
    "def postive_negative_zero():\n",
    "    number=int(input(\"please enter the number\"))\n",
    "    if number > 0 :\n",
    "        print(\"postive number\")\n",
    "        if number == 0:\n",
    "            print(\"zero\")\n",
    "    else:\n",
    "        print(\"negative number\")        \n",
    "postive_negative_zero()    "
   ]
  },
  {
   "cell_type": "code",
   "execution_count": 60,
   "metadata": {},
   "outputs": [
    {
     "name": "stdout",
     "output_type": "stream",
     "text": [
      "you are teenager\n"
     ]
    }
   ],
   "source": [
    "def check_teenager():\n",
    "    age=int(input(\"please enter the age\"))\n",
    "    if age >= 13:\n",
    "        if age <= 19:\n",
    "            print(\"you are teenager\")\n",
    "    else:\n",
    "        print(\"you are not teenager\")        \n",
    "        \n",
    "        \n",
    "check_teenager()    "
   ]
  },
  {
   "cell_type": "code",
   "execution_count": 62,
   "metadata": {},
   "outputs": [
    {
     "name": "stdout",
     "output_type": "stream",
     "text": [
      "acute\n"
     ]
    }
   ],
   "source": [
    "def angle_measure():\n",
    "    angle=float(input(\"please enter the angle\"))\n",
    "    if angle == 90:\n",
    "        print(\"right angle\")\n",
    "    elif  angle > 0 and angle < 90:\n",
    "        print(\"acute\")\n",
    "    else:\n",
    "        print(\"abuse\")    \n",
    "        \n",
    "angle_measure()    "
   ]
  },
  {
   "cell_type": "code",
   "execution_count": 1,
   "metadata": {},
   "outputs": [],
   "source": [
    "#q 17   "
   ]
  },
  {
   "cell_type": "code",
   "execution_count": 3,
   "metadata": {},
   "outputs": [
    {
     "name": "stdout",
     "output_type": "stream",
     "text": [
      "6 is Friday\n"
     ]
    }
   ],
   "source": [
    "def days_of_week():\n",
    "    day=int(input(\"please enter the 1 to 7\"))\n",
    "    if day == 1:\n",
    "        print(day,\"is Sunday\")\n",
    "    elif day == 2:\n",
    "        print(day,\"is Monday\")\n",
    "    elif day == 3:\n",
    "        print(day,\"is Tuesday\")\n",
    "    elif day == 4:\n",
    "        print(day,\"is Wednesday\")\n",
    "    elif day == 5:\n",
    "        print(day,\"is Thursday\")\n",
    "    elif day == 6:\n",
    "        print(day,\"is Friday\") \n",
    "    elif day == 7:\n",
    "        print(day,\"is Saturday\")\n",
    "    else:\n",
    "        print(\"wrong input\")\n",
    "                          \n",
    "days_of_week()    "
   ]
  },
  {
   "cell_type": "code",
   "execution_count": 8,
   "metadata": {},
   "outputs": [
    {
     "name": "stdout",
     "output_type": "stream",
     "text": [
      "2000 it is leap year\n"
     ]
    }
   ],
   "source": [
    "def leap_year():\n",
    "    year=int(input(\"please enter the year\"))\n",
    "    if year % 400 == 0:\n",
    "        print(year,\"it is leap year\")\n",
    "    else:\n",
    "        print(year,\"it is not leap year\")        \n",
    "leap_year()    "
   ]
  },
  {
   "cell_type": "code",
   "execution_count": 18,
   "metadata": {},
   "outputs": [],
   "source": [
    "#q 20    "
   ]
  },
  {
   "cell_type": "code",
   "execution_count": 19,
   "metadata": {},
   "outputs": [],
   "source": [
    "# Elif statments:"
   ]
  },
  {
   "cell_type": "code",
   "execution_count": 22,
   "metadata": {},
   "outputs": [
    {
     "name": "stdout",
     "output_type": "stream",
     "text": [
      "your grade is C\n"
     ]
    }
   ],
   "source": [
    "def grades_assign():\n",
    "    score=int(input(\"please enter the score\"))\n",
    "    if score >=90 and score <= 100:\n",
    "        print(\"your grade is A\")\n",
    "    elif score >=80 and score <= 90:\n",
    "        print(\"your grade is B\")\n",
    "    elif score >=70 and score <= 80:\n",
    "        print(\"your grade is C\")\n",
    "    elif score >=60 and score <= 70:\n",
    "        print(\"you grade is D\")\n",
    "    elif score >=50 and score <= 60:\n",
    "        print(\"your grade is E\")\n",
    "    else:\n",
    "        print(\"fail\")                    \n",
    "grades_assign()    \n",
    "\n"
   ]
  },
  {
   "cell_type": "code",
   "execution_count": 24,
   "metadata": {},
   "outputs": [
    {
     "name": "stdout",
     "output_type": "stream",
     "text": [
      "abuse angle\n"
     ]
    }
   ],
   "source": [
    "def traiangle_based():\n",
    "    angle=float(input(\"please enter the angle\"))\n",
    "    if angle == 90:\n",
    "        print(\"right angle\")\n",
    "    elif angle  < 90:\n",
    "        print(\"acute angle\")\n",
    "    elif angle > 90:\n",
    "        print(\"abuse angle\")\n",
    "    \n",
    "                 \n",
    "traiangle_based()    "
   ]
  },
  {
   "cell_type": "code",
   "execution_count": 32,
   "metadata": {},
   "outputs": [
    {
     "name": "stdout",
     "output_type": "stream",
     "text": [
      "2.218934911242603\n",
      "Uunderrweight\n"
     ]
    }
   ],
   "source": [
    "def calculate_BMI():\n",
    "    h=float(input(\"please enter the height\"))\n",
    "    w=float(input(\"please enter the weight\"))\n",
    "    BMI=w/(h*h)\n",
    "    print(BMI)\n",
    "    if BMI < 18.5:\n",
    "        print(\"Uunderrweight\")\n",
    "    elif BMI > 18.5 and BMI < 24.9 :\n",
    "        print(\"normal\")\n",
    "    elif BMI > 25 and BMI < 29.9:\n",
    "        print(\"overweight\")\n",
    "    elif BMI > 30:\n",
    "        print(\"obese\")        \n",
    "calculate_BMI()    "
   ]
  },
  {
   "cell_type": "code",
   "execution_count": 37,
   "metadata": {},
   "outputs": [
    {
     "name": "stdout",
     "output_type": "stream",
     "text": [
      "negative number\n"
     ]
    }
   ],
   "source": [
    "def positive_negative_zero():\n",
    "    number=int(input(\"please enter the number\"))\n",
    "    if number > 0:\n",
    "        print(\"postive number\")\n",
    "    elif number < 0:\n",
    "        print(\"negative number\")\n",
    "    elif number == 0:\n",
    "        print(\"zero number\")\n",
    "                \n",
    "positive_negative_zero()    "
   ]
  },
  {
   "cell_type": "code",
   "execution_count": 42,
   "metadata": {},
   "outputs": [
    {
     "name": "stdout",
     "output_type": "stream",
     "text": [
      "uppercase\n"
     ]
    }
   ],
   "source": [
    "def lower_upper_special(name):\n",
    "    if name == name.upper():\n",
    "        print(\"uppercase\")\n",
    "    elif name == name.lower():\n",
    "        print(\"lowercase\")\n",
    "    else:\n",
    "        print(\"specialcase\")        \n",
    "char=input(\"please enter the character\")\n",
    "\n",
    "\n",
    "\n",
    "    \n",
    "lower_upper_special(char)    "
   ]
  },
  {
   "cell_type": "code",
   "execution_count": 4,
   "metadata": {},
   "outputs": [
    {
     "name": "stdout",
     "output_type": "stream",
     "text": [
      "4000.0\n"
     ]
    }
   ],
   "source": [
    "def  discount_amount():\n",
    "    amount=int(input(\"please enter the sales amount\"))\n",
    "    if amount > 0 and amount <= 5000:\n",
    "        print(amount*0.05)\n",
    "    elif amount > 5000 and amount <= 15000:\n",
    "        print(amount*0.12)\n",
    "    elif amount > 15000 and amount <= 25000:\n",
    "        print(amount*0.20)\n",
    "    elif amount > 25000:\n",
    "        print(amount*0.30)            \n",
    "discount_amount()        "
   ]
  },
  {
   "cell_type": "code",
   "execution_count": 5,
   "metadata": {},
   "outputs": [
    {
     "name": "stdout",
     "output_type": "stream",
     "text": [
      "7500.0\n"
     ]
    }
   ],
   "source": [
    "def electricity_bill():\n",
    "    kwh=float(input(\"please enter the consumption\"))\n",
    "    if kwh == 50 :\n",
    "        print(2.5*kwh)\n",
    "    elif kwh > 51 and kwh < 150:\n",
    "        print(3.0*kwh)\n",
    "    elif kwh > 151 and kwh < 300:\n",
    "        print(4.0*kwh)\n",
    "    elif kwh > 300:\n",
    "        print(5.0*kwh)             \n",
    "electricity_bill()    "
   ]
  },
  {
   "cell_type": "code",
   "execution_count": 6,
   "metadata": {},
   "outputs": [],
   "source": [
    "#q28"
   ]
  },
  {
   "cell_type": "code",
   "execution_count": null,
   "metadata": {},
   "outputs": [],
   "source": []
  },
  {
   "cell_type": "code",
   "execution_count": 143,
   "metadata": {},
   "outputs": [
    {
     "name": "stdout",
     "output_type": "stream",
     "text": [
      "summer season\n"
     ]
    }
   ],
   "source": [
    "def season_based(m):\n",
    "    list=[[12,1,2],[3,4,5],[6,7,8],[9,10,11]]\n",
    "    if m in list[0]:\n",
    "        print(\"winter season\")\n",
    "    elif m in list[1]:\n",
    "        print(\"Spring season\")\n",
    "    elif m in list[2]:\n",
    "        print(\"summer season\")\n",
    "    elif m in list[3]:\n",
    "        print(\"autmn season\")\n",
    "    else:\n",
    "        print(\"invalid month number\")    \n",
    "            \n",
    "season_based(7) "
   ]
  },
  {
   "cell_type": "code",
   "execution_count": 52,
   "metadata": {},
   "outputs": [
    {
     "name": "stdout",
     "output_type": "stream",
     "text": [
      "not leap year\n"
     ]
    }
   ],
   "source": [
    "def leap_year():\n",
    "    month=int(input(\"please enter the month\"))\n",
    "    if month == 366:\n",
    "        print(\"leap year\")\n",
    "    elif month != 365:\n",
    "        print(\"not leap year\")    \n",
    "leap_year()    "
   ]
  },
  {
   "cell_type": "code",
   "execution_count": 12,
   "metadata": {},
   "outputs": [],
   "source": [
    "# basic level"
   ]
  },
  {
   "cell_type": "code",
   "execution_count": 17,
   "metadata": {},
   "outputs": [
    {
     "name": "stdout",
     "output_type": "stream",
     "text": [
      "zero\n"
     ]
    }
   ],
   "source": [
    "def positive_negative_zero():\n",
    "    number=int(input(\"please enter the number\"))\n",
    "    if number > 0:\n",
    "        print(\"postive number\")\n",
    "    elif number < 0:\n",
    "        print(\"negative number\")\n",
    "    else:\n",
    "        print(\"zero\")        \n",
    "positive_negative_zero()    "
   ]
  },
  {
   "cell_type": "code",
   "execution_count": 19,
   "metadata": {},
   "outputs": [
    {
     "name": "stdout",
     "output_type": "stream",
     "text": [
      "eligible to vote\n"
     ]
    }
   ],
   "source": [
    "def elgible_vote():\n",
    "    age=int(input(\"please enter the age\"))\n",
    "    if age >=18:\n",
    "        print(\"eligible to vote\")\n",
    "    elif age <18:\n",
    "        print(\"not eligible to vote\")    \n",
    "elgible_vote()    "
   ]
  },
  {
   "cell_type": "code",
   "execution_count": 32,
   "metadata": {},
   "outputs": [
    {
     "name": "stdout",
     "output_type": "stream",
     "text": [
      "10\n"
     ]
    }
   ],
   "source": [
    "def maximum_number():\n",
    "    number1=int(input(\"please enter the number1\"))\n",
    "    number2=int(input(\"please enter the number2\"))\n",
    "    if number1 > number2:\n",
    "        print(number1)\n",
    "    elif number1 < number2:\n",
    "        print(number2)    \n",
    "maximum_number()    "
   ]
  },
  {
   "cell_type": "code",
   "execution_count": 137,
   "metadata": {},
   "outputs": [
    {
     "name": "stdout",
     "output_type": "stream",
     "text": [
      "it is not leap year\n"
     ]
    }
   ],
   "source": [
    "def leap_year():\n",
    "    year=int(input(\"please enter the year\"))\n",
    "    if year % 400 == 0:\n",
    "        print(\" it is leap year\")\n",
    "    elif year%100 != 0:\n",
    "        print(\"it is not leap year\")    \n",
    "leap_year()\n"
   ]
  },
  {
   "cell_type": "code",
   "execution_count": 141,
   "metadata": {},
   "outputs": [
    {
     "name": "stdout",
     "output_type": "stream",
     "text": [
      "your grade is C\n"
     ]
    }
   ],
   "source": [
    "def score_grade():\n",
    "    score=int(input(\"please enter the score\"))\n",
    "    if score >=90 and score <= 100:\n",
    "        print(\"your grade is A\")\n",
    "    elif score >=80 and score <= 90:\n",
    "        print(\"your grade is B\")\n",
    "    elif score >=70 and score <= 80:\n",
    "        print(\"your grade is C\")\n",
    "    elif score >=60 and score <= 70:\n",
    "        print(\"you grade is D\")\n",
    "    elif score >=50 and score <= 60:\n",
    "        print(\"your grade is E\")\n",
    "    else:\n",
    "        print(\"fail\")                    \n",
    "score_grade()    \n",
    "\n"
   ]
  },
  {
   "cell_type": "code",
   "execution_count": 140,
   "metadata": {},
   "outputs": [
    {
     "name": "stdout",
     "output_type": "stream",
     "text": [
      "equaterial\n"
     ]
    }
   ],
   "source": [
    "def triangle_angle():\n",
    "    side1=float(input(\"please enter the side1\"))\n",
    "    side2=int(input(\"please enter the side2\"))\n",
    "    side3=int(input(\"please enter the side3\"))\n",
    "    if side1 == side2 and side2 == side3:\n",
    "        print(\"equaterial\")\n",
    "    else:\n",
    "        print(\"not equaterial\")    \n",
    "triangle_angle()\n",
    "    "
   ]
  },
  {
   "cell_type": "code",
   "execution_count": null,
   "metadata": {},
   "outputs": [
    {
     "name": "stdout",
     "output_type": "stream",
     "text": [
      "10\n"
     ]
    }
   ],
   "source": [
    "def largest(x,y,z):\n",
    "    if x >y and x > z:\n",
    "        print(x)\n",
    "    elif y >x and y>z:\n",
    "        print(y)\n",
    "    elif z > x and z>y:\n",
    "        print(z)       \n",
    "    \n",
    "largest(6,5,10)    "
   ]
  },
  {
   "cell_type": "code",
   "execution_count": null,
   "metadata": {},
   "outputs": [
    {
     "name": "stdout",
     "output_type": "stream",
     "text": [
      "consontant\n"
     ]
    }
   ],
   "source": [
    "def vowel_consonant():\n",
    "    char=input(\"please enter the character\")\n",
    "    vowel=\"aeiou\"\n",
    "    var=vowel.lower()\n",
    "    if char == \"aeiou\":\n",
    "        print(\"it is vowel\")\n",
    "    else:\n",
    "        print(\"consontant\")    \n",
    "vowel_consonant()    "
   ]
  },
  {
   "cell_type": "code",
   "execution_count": null,
   "metadata": {},
   "outputs": [
    {
     "name": "stdout",
     "output_type": "stream",
     "text": [
      "5.4\n"
     ]
    }
   ],
   "source": [
    "def shopping_card():\n",
    "    purchased=input(\"what you buy,eg cloths,vegetables,fruits\")\n",
    "    totalcost=int(input(\"please enter the total cost\"))\n",
    "    discount=0\n",
    "    amount=0\n",
    "    if purchased == \"cloths\":\n",
    "        discount=totalcost*0.20\n",
    "        print(totalcost-dscount)\n",
    "    elif purchased == \"vegetables\":\n",
    "        discount=totalcost*0.10\n",
    "        print(totalcost-discount)\n",
    "    elif purchased == \"fruits\":\n",
    "        discount=totalcost*0.05\n",
    "        print(totalcost-discount)\n",
    "    else:\n",
    "        print(\"you are input wrong\")         \n",
    "    \n",
    "shopping_card()    "
   ]
  },
  {
   "cell_type": "code",
   "execution_count": null,
   "metadata": {},
   "outputs": [
    {
     "name": "stdout",
     "output_type": "stream",
     "text": [
      "odd number\n"
     ]
    }
   ],
   "source": [
    "def even_odd():\n",
    "    number=int(input(\"please enter the number\"))\n",
    "    if number % 2 == 0:\n",
    "        print(\"even number\")\n",
    "    elif number % 2 != 0:\n",
    "        print(\"odd number\")    \n",
    "even_odd()    "
   ]
  },
  {
   "cell_type": "code",
   "execution_count": null,
   "metadata": {},
   "outputs": [],
   "source": [
    "# intermediate level"
   ]
  },
  {
   "cell_type": "code",
   "execution_count": null,
   "metadata": {},
   "outputs": [
    {
     "name": "stdout",
     "output_type": "stream",
     "text": [
      "-7.0\n"
     ]
    }
   ],
   "source": [
    "def roots_square():\n",
    "    a=float(input(\"please enter the a\"))\n",
    "    b=float(input(\"please enter the b\"))\n",
    "    c=float(input(\"please enter the c\"))\n",
    "    rootssquare=(b**2)-(4*a*c)\n",
    "    print(rootssquare)\n",
    "roots_square()       "
   ]
  },
  {
   "cell_type": "code",
   "execution_count": null,
   "metadata": {},
   "outputs": [
    {
     "name": "stdout",
     "output_type": "stream",
     "text": [
      "7 is saturday\n"
     ]
    }
   ],
   "source": [
    "def week_based():\n",
    "    day=int(input(\"please enter the day 1 to 7\"))\n",
    "    if day == 1:\n",
    "        print(day ,\"is sunday\")\n",
    "    elif day == 2:\n",
    "        print(day, \"is monday\")\n",
    "    elif day == 3:\n",
    "        print(day ,\"is tuesday\")\n",
    "    elif day == 4:\n",
    "        print(day, \"is wednesday\")\n",
    "    elif day == 5:\n",
    "        print(day, \"is thursday\")\n",
    "    elif day == 6:\n",
    "        print(day, \"is friday\")\n",
    "    elif day == 7:\n",
    "        print(day ,\"is saturday\")\n",
    "    else:\n",
    "        print(\"input wrong\")                    \n",
    "                    \n",
    "        \n",
    "    \n",
    "week_based()    "
   ]
  },
  {
   "cell_type": "code",
   "execution_count": null,
   "metadata": {},
   "outputs": [],
   "source": [
    "def factorial_number(n):\n",
    "    if n == 0 and n== 1:\n",
    "        \n",
    "        \n",
    "        \n",
    "    \n",
    "factorial_number(5)    "
   ]
  },
  {
   "cell_type": "code",
   "execution_count": null,
   "metadata": {},
   "outputs": [
    {
     "name": "stdout",
     "output_type": "stream",
     "text": [
      "10\n"
     ]
    }
   ],
   "source": [
    "def largest_number(a,b,c):\n",
    "    if a > b and a > c:\n",
    "        print(a)\n",
    "    elif b > a and b > c:\n",
    "        print(b)\n",
    "    elif c >a and c>b:\n",
    "        print(c)\n",
    "\n",
    "    else:\n",
    "        print(\"input wrong\")            \n",
    "largest_number(8,5,10)    "
   ]
  },
  {
   "cell_type": "code",
   "execution_count": null,
   "metadata": {},
   "outputs": [],
   "source": [
    "#q15"
   ]
  },
  {
   "cell_type": "code",
   "execution_count": null,
   "metadata": {},
   "outputs": [
    {
     "name": "stdout",
     "output_type": "stream",
     "text": [
      "it is not palindrome\n"
     ]
    }
   ],
   "source": [
    "def paliandrome():\n",
    "    char=input(\"please enter the character\")\n",
    "    if char == char[::-1]:\n",
    "        print(\"it is paliandrome\")\n",
    "    else:\n",
    "        print(\"it is not palindrome\")    \n",
    "    \n",
    "    \n",
    "paliandrome()    "
   ]
  },
  {
   "cell_type": "code",
   "execution_count": null,
   "metadata": {},
   "outputs": [
    {
     "name": "stdout",
     "output_type": "stream",
     "text": [
      "average 69.0\n"
     ]
    }
   ],
   "source": [
    "def averages(a):\n",
    "    average=sum(a)/len(a)\n",
    "    print(\"average\",average)\n",
    "averages([56,98,67,90,34])    "
   ]
  },
  {
   "cell_type": "code",
   "execution_count": null,
   "metadata": {},
   "outputs": [
    {
     "name": "stdout",
     "output_type": "stream",
     "text": [
      "116.6\n"
     ]
    }
   ],
   "source": [
    "def temperature():\n",
    "    c=int(input(\"please enter the celsiusdegree\"))\n",
    "    f=(c*9/5)+32\n",
    "    print(f)\n",
    "temperature()    "
   ]
  },
  {
   "cell_type": "code",
   "execution_count": null,
   "metadata": {},
   "outputs": [
    {
     "name": "stdout",
     "output_type": "stream",
     "text": [
      "24\n"
     ]
    }
   ],
   "source": [
    "def calculator():\n",
    "    n1=int(input(\"please enter the number1\"))\n",
    "    n2=int(input(\"please enter the number2\"))\n",
    "    operator=(input(\"please enter the operator(+,-,*,/)\"))\n",
    "    if operator == '+':\n",
    "        print(n1+n2)\n",
    "    elif operator == '-':\n",
    "        print(n1-n2)\n",
    "    elif operator == '*':\n",
    "        print(n1*n2)\n",
    "    elif operator == '/':\n",
    "        print(n1/n2)\n",
    "    else:\n",
    "        print(\"other symbols\")                             \n",
    "     \n",
    "calculator()    "
   ]
  },
  {
   "cell_type": "code",
   "execution_count": null,
   "metadata": {},
   "outputs": [
    {
     "name": "stdout",
     "output_type": "stream",
     "text": [
      "37\n"
     ]
    }
   ],
   "source": [
    "def cubic_equation(ax,bx,cx,d):\n",
    "    carddannomethod=ax**3+bx**2+cx+d\n",
    "    print(carddannomethod)\n",
    "cubic_equation(2,5,3,1)    "
   ]
  },
  {
   "cell_type": "code",
   "execution_count": null,
   "metadata": {},
   "outputs": [],
   "source": [
    "# advanced level"
   ]
  },
  {
   "cell_type": "code",
   "execution_count": 150,
   "metadata": {},
   "outputs": [
    {
     "name": "stdout",
     "output_type": "stream",
     "text": [
      "income tax 5000.0\n",
      "total 7000.0\n"
     ]
    }
   ],
   "source": [
    "def calculato_income_tax():\n",
    "    income=int(input(\"please enter your income\"))\n",
    "    tax=0\n",
    "    cess=0\n",
    "    if income <= 250000:\n",
    "        tax=0\n",
    "    elif income <= 500000:\n",
    "        tax=(income-250000)*0.05\n",
    "    elif income <= 1000000:\n",
    "        tax=12500+(income-500000)*0.2\n",
    "    else:\n",
    "        tax=12500+1000000+(income-1000000)*0.3\n",
    "    cess=tax*0.4\n",
    "    totaltax=tax+cess\n",
    "    print(\"income tax\", tax)\n",
    "    print(\"total\",totaltax)               \n",
    "calculato_income_tax()        \n"
   ]
  },
  {
   "cell_type": "code",
   "execution_count": 2,
   "metadata": {},
   "outputs": [
    {
     "name": "stdout",
     "output_type": "stream",
     "text": [
      "scissor\n"
     ]
    }
   ],
   "source": [
    "def games():\n",
    "    materials=(input(\"please choice between rock scissor,paper \"))\n",
    "    if materials == \"rock\":\n",
    "        print(\"paper\")\n",
    "    elif materials == \"paper\":\n",
    "        print(\"scissor\")\n",
    "    elif materials == \"scissor\":\n",
    "        print(\"paper\")\n",
    "    else:\n",
    "        print(\"wrong input\")                \n",
    "games()    \n",
    "    "
   ]
  },
  {
   "cell_type": "code",
   "execution_count": 8,
   "metadata": {},
   "outputs": [
    {
     "name": "stdout",
     "output_type": "stream",
     "text": [
      "valid password\n"
     ]
    }
   ],
   "source": [
    "\n",
    "def random_password():\n",
    "    password=input(\"please enter the password\")\n",
    "    a=len(password)\n",
    "    if a >= 8:\n",
    "        isvalid=False\n",
    "        for item in password:\n",
    "            if item.isdigit():\n",
    "                isvalid=True\n",
    "            else:\n",
    "                isvalid=False\n",
    "        if isvalid == True:\n",
    "            print(\"valid password\")\n",
    "        else:\n",
    "            print(\"invalid password\")\n",
    "                              \n",
    "    else:\n",
    "        print(\"invalid password\")    \n",
    "    \n",
    "\n",
    "     \n",
    "    \n",
    "    \n",
    "random_password()    "
   ]
  },
  {
   "cell_type": "code",
   "execution_count": 162,
   "metadata": {},
   "outputs": [],
   "source": [
    "#q24    "
   ]
  },
  {
   "cell_type": "code",
   "execution_count": 166,
   "metadata": {},
   "outputs": [
    {
     "name": "stdout",
     "output_type": "stream",
     "text": [
      "ans X 1.0\n",
      "ans Y 1.0\n"
     ]
    }
   ],
   "source": [
    "def liner_equation(a,b,c,d,e,f):\n",
    "    X=(e*d-b*f)/(a*d-b*c)\n",
    "    Y=(a*f-e*c)/(a*d-b*c)\n",
    "    print(\"ans X\",X)\n",
    "    print(\"ans Y\",Y)\n",
    "liner_equation(3,-2,1,2,1,3)    "
   ]
  },
  {
   "cell_type": "code",
   "execution_count": 184,
   "metadata": {},
   "outputs": [
    {
     "name": "stdout",
     "output_type": "stream",
     "text": [
      "prime year\n"
     ]
    }
   ],
   "source": [
    "def prime_year(x):\n",
    "    X=float(input(\"please enter the year\"))\n",
    "    if x > 1:\n",
    "        for item in range(2,int(X*0.5) + 1):\n",
    "            if x % item == 0:\n",
    "                print(\"prime year\")\n",
    "                break\n",
    "        else:\n",
    "            print(\"not prime year\")        \n",
    "prime_year(2024)    "
   ]
  },
  {
   "cell_type": "code",
   "execution_count": 191,
   "metadata": {},
   "outputs": [
    {
     "name": "stdout",
     "output_type": "stream",
     "text": [
      "14 19 30\n"
     ]
    }
   ],
   "source": [
    "def acending_order():\n",
    "    x=int(input(\"please enter the number1\"))\n",
    "    y=int(input(\"please enter the number2\"))\n",
    "    z=int(input(\"please enter the number3\"))\n",
    "    min=mid=max=None\n",
    "    if x<y and x<z:\n",
    "        if y<z:\n",
    "            min,mid,max=x,y,z\n",
    "        else:\n",
    "            min,mid,max=x,z,y\n",
    "    elif y<x and y<z:\n",
    "        if x<z:\n",
    "            min,mid,max=y,x,z\n",
    "        else:\n",
    "            min,mid,max=y,z,x\n",
    "    else:\n",
    "        if x<y:\n",
    "            min,mid,max=z,x,y\n",
    "        else:\n",
    "            min,mid,max=z,y,x\n",
    "    print(min,mid,max)                            \n",
    "acending_order()    \n",
    "    \n"
   ]
  },
  {
   "cell_type": "code",
   "execution_count": 195,
   "metadata": {},
   "outputs": [
    {
     "name": "stdout",
     "output_type": "stream",
     "text": [
      "-263\n"
     ]
    }
   ],
   "source": [
    "def find_root(a,b,c):\n",
    "    d=(b*b)-(4*a*c)\n",
    "    print(d)\n",
    "find_root(8,5,9)    "
   ]
  },
  {
   "cell_type": "code",
   "execution_count": 197,
   "metadata": {},
   "outputs": [
    {
     "name": "stdout",
     "output_type": "stream",
     "text": [
      "1.8491124260355027\n",
      "Uunderrweight\n"
     ]
    }
   ],
   "source": [
    "def calculate_BMI():\n",
    "    h=float(input(\"please enter the height\"))\n",
    "    w=float(input(\"please enter the weight\"))\n",
    "    BMI=w/(h*h)\n",
    "    print(BMI)\n",
    "    if BMI < 18.5:\n",
    "        print(\"Uunderrweight\")\n",
    "    elif BMI > 18.5 and BMI < 24.9 :\n",
    "        print(\"normal\")\n",
    "    elif BMI > 25 and BMI < 29.9:\n",
    "        print(\"overweight\")\n",
    "    elif BMI > 30:\n",
    "        print(\"obese\")        \n",
    "calculate_BMI()    "
   ]
  },
  {
   "cell_type": "code",
   "execution_count": 198,
   "metadata": {},
   "outputs": [],
   "source": [
    "# challenge level"
   ]
  },
  {
   "cell_type": "code",
   "execution_count": 201,
   "metadata": {},
   "outputs": [
    {
     "name": "stdout",
     "output_type": "stream",
     "text": [
      "s%q@sjg\n"
     ]
    }
   ],
   "source": [
    "import random\n",
    "def random_password():\n",
    "    length=int(input(\"please enter the lenth\"))\n",
    "    char=\"aathguzwygygjdkewguwjqftsywhdwqstqg!@#$%^&*()\"\n",
    "    password=\"\"\n",
    "    for item in range(length):\n",
    "         password += random.choice(char)\n",
    "    print(password)     \n",
    "    \n",
    "    \n",
    "random_password()    "
   ]
  },
  {
   "cell_type": "code",
   "execution_count": 202,
   "metadata": {},
   "outputs": [],
   "source": [
    "#q32    "
   ]
  },
  {
   "cell_type": "code",
   "execution_count": 204,
   "metadata": {},
   "outputs": [
    {
     "name": "stdout",
     "output_type": "stream",
     "text": [
      "6\n"
     ]
    }
   ],
   "source": [
    "def gcd(a,b):\n",
    "    gcd=0\n",
    "    if a > b:\n",
    "        small=a\n",
    "    else:\n",
    "        small=b\n",
    "    for item in range(1,small+1):\n",
    "        if( (a%item==0)and (b%item==0) ):\n",
    "            gcd=item\n",
    "    print(gcd)              \n",
    "gcd(150,6)    \n",
    "\n",
    "\n",
    "\n",
    "\n",
    "\n",
    "\n"
   ]
  },
  {
   "cell_type": "code",
   "execution_count": 205,
   "metadata": {},
   "outputs": [],
   "source": [
    "#q34\n"
   ]
  },
  {
   "cell_type": "code",
   "execution_count": 206,
   "metadata": {},
   "outputs": [],
   "source": [
    "#q35"
   ]
  },
  {
   "cell_type": "code",
   "execution_count": 3,
   "metadata": {},
   "outputs": [
    {
     "name": "stdout",
     "output_type": "stream",
     "text": [
      "0\n",
      "1\n",
      "1\n",
      "2\n",
      "3\n",
      "5\n",
      "8\n",
      "13\n",
      "21\n",
      "34\n",
      "55\n"
     ]
    }
   ],
   "source": [
    "def fibocial_number():\n",
    "    first=0\n",
    "    second=1\n",
    "    print(first)\n",
    "    print(second)\n",
    "    for item in range(1,10):\n",
    "        third=first+second\n",
    "        print(third)\n",
    "        first,second=second,third   \n",
    "    \n",
    "fibocial_number()\n",
    "    \n",
    "    "
   ]
  },
  {
   "cell_type": "code",
   "execution_count": 4,
   "metadata": {},
   "outputs": [],
   "source": [
    "#q37"
   ]
  },
  {
   "cell_type": "code",
   "execution_count": 9,
   "metadata": {},
   "outputs": [
    {
     "name": "stdout",
     "output_type": "stream",
     "text": [
      "invalid month\n"
     ]
    }
   ],
   "source": [
    "import calendar\n",
    "def month_year():\n",
    "    year=int(input(\"please enter the year\"))\n",
    "    month=int(input(\"please enter the month\"))\n",
    "    if month >= 1 and month <= 12:\n",
    "        print(calendar.month(year,month))\n",
    "    else:\n",
    "        print(\"invalid month\")\n",
    "month_year()    "
   ]
  },
  {
   "cell_type": "code",
   "execution_count": 23,
   "metadata": {},
   "outputs": [],
   "source": [
    "#q39"
   ]
  },
  {
   "cell_type": "code",
   "execution_count": 26,
   "metadata": {},
   "outputs": [
    {
     "name": "stdout",
     "output_type": "stream",
     "text": [
      "[2, 2]\n"
     ]
    }
   ],
   "source": [
    "def prime_factors(n):\n",
    "    factors=[]\n",
    "    divided=2\n",
    "    while n >2:\n",
    "        while n % divided ==0:\n",
    "            factors.append(divided)\n",
    "            n//=divided\n",
    "        divided += 1    \n",
    "    return factors\n",
    "number=int(input(\"please enter the number\"))\n",
    "if number < 2:\n",
    "    print(\"prime number less then 2\")\n",
    "else:\n",
    "    factors=prime_factors(number)\n",
    "    print(factors)\n",
    "                    "
   ]
  }
 ],
 "metadata": {
  "kernelspec": {
   "display_name": "Python 3",
   "language": "python",
   "name": "python3"
  },
  "language_info": {
   "codemirror_mode": {
    "name": "ipython",
    "version": 3
   },
   "file_extension": ".py",
   "mimetype": "text/x-python",
   "name": "python",
   "nbconvert_exporter": "python",
   "pygments_lexer": "ipython3",
   "version": "3.11.4"
  },
  "orig_nbformat": 4
 },
 "nbformat": 4,
 "nbformat_minor": 2
}
