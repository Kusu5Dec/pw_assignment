{
 "cells": [
  {
   "cell_type": "code",
   "execution_count": 52,
   "metadata": {},
   "outputs": [],
   "source": [
    "#constructor are used to intailize a variable.\n",
    "# we define constructor with (__init__).\n",
    "# it automatiacally call when we create instance of class.if we create 10times instance it will be 10 times call.\n",
    "\n",
    "\n",
    "\n"
   ]
  },
  {
   "cell_type": "code",
   "execution_count": 9,
   "metadata": {},
   "outputs": [],
   "source": [
    "# parameterless:constructor doesnot take any parameter.\n",
    "class parameterless:\n",
    "    def __init__(self):\n",
    "        self.value = 0\n",
    "obj = parameterless()  \n",
    "#parameterless:constructor that take any parameter.\n",
    "class parameterless:\n",
    "    def __init__(self,name):\n",
    "        self.name =name\n",
    "obj1 = parameterless('kusum')  \n"
   ]
  },
  {
   "cell_type": "code",
   "execution_count": 10,
   "metadata": {},
   "outputs": [],
   "source": [
    "# we define constructor with (__init__).\n",
    "#eg.\n",
    "class tenths:\n",
    "    #this is example of constructor.\n",
    "    def __init__(self,name):\n",
    "        self.name =name\n",
    "obj1 =tenths('kusum')\n",
    "  \n",
    "\n"
   ]
  },
  {
   "cell_type": "markdown",
   "metadata": {},
   "source": [
    "# __init__ method automatically call when we create instance of a class\n",
    "#__init__ is used for initization of object.\n",
    " "
   ]
  },
  {
   "cell_type": "code",
   "execution_count": 12,
   "metadata": {},
   "outputs": [
    {
     "name": "stdout",
     "output_type": "stream",
     "text": [
      "kusum\n",
      "24\n"
     ]
    }
   ],
   "source": [
    "class person():\n",
    "    def __init__(self,name,age):\n",
    "        self.name=name\n",
    "        self.age=age\n",
    "obj=person('kusum',24)\n",
    "print(obj.name)\n",
    "print(obj.age)        \n",
    "    "
   ]
  },
  {
   "cell_type": "code",
   "execution_count": 13,
   "metadata": {},
   "outputs": [],
   "source": [
    "# it automatiacally call when we create instance of class.if we create 10times instance it will be 10 times call.\n",
    "#eg.\n",
    "class tenths:\n",
    "    def __init__(self,name):\n",
    "        self.name =name\n",
    "        \n",
    "obj1 =tenths('kusum')\n",
    "obj2=tenths('jyoti')\n",
    "obj3=tenths('mukul')\n",
    "  \n",
    "\n",
    "\n",
    "\n"
   ]
  },
  {
   "cell_type": "code",
   "execution_count": 14,
   "metadata": {},
   "outputs": [
    {
     "name": "stdout",
     "output_type": "stream",
     "text": [
      "kusum\n"
     ]
    }
   ],
   "source": [
    "# it is identifaction of class.\n",
    "#eg.\n",
    "class pwskills():\n",
    "    def __init__(self,name):\n",
    "        self.name=name\n",
    "        print(self.name)\n",
    "obj=pwskills(\"kusum\")\n",
    "     "
   ]
  },
  {
   "cell_type": "code",
   "execution_count": 16,
   "metadata": {},
   "outputs": [
    {
     "name": "stdout",
     "output_type": "stream",
     "text": [
      "0\n"
     ]
    }
   ],
   "source": [
    "#A parameterless constructor, often called a default constructor, is a constructor that doesn't take any parameters.\n",
    "#It is automatically called when an object of the class is created.\n",
    "#eg.\n",
    "class pwskills:\n",
    "    def __init__(self):\n",
    "        self.value = 0\n",
    "obj = pwskills()  \n",
    "print(obj.value)"
   ]
  },
  {
   "cell_type": "code",
   "execution_count": 17,
   "metadata": {},
   "outputs": [
    {
     "name": "stdout",
     "output_type": "stream",
     "text": [
      "rectangle of area is 54\n"
     ]
    }
   ],
   "source": [
    "class Rectangle():\n",
    "    def __init__(self,width,height):\n",
    "        self.width=width\n",
    "        self.height=height\n",
    "    def calculate_area(self):\n",
    "        Rectangle_of_area=(self.width*self.height)\n",
    "        print(\"rectangle of area is \"+str(Rectangle_of_area))\n",
    "obj=Rectangle(6,9)\n",
    "obj.calculate_area()           "
   ]
  },
  {
   "cell_type": "code",
   "execution_count": null,
   "metadata": {},
   "outputs": [],
   "source": [
    "#The technique of having two (or more) constructors in a class is known as constructor overloading. \n",
    "#A class can have multiple constructors that differ in the number and/or type of their parameters. \n",
    "#It's not, however, possible to have two constructors with the exact same parameters.\n",
    " \n",
    "    \n"
   ]
  },
  {
   "cell_type": "code",
   "execution_count": null,
   "metadata": {},
   "outputs": [],
   "source": [
    "#Python does not support functional or constructor overloading.\n",
    "# Multiple constructors in Python can be simulated by providing optional arguments and using default values. \n",
    "# Multiple constructors in Python can also be simulated based on the data type of the argument passed in the __init__() function.\n"
   ]
  },
  {
   "cell_type": "code",
   "execution_count": 18,
   "metadata": {},
   "outputs": [
    {
     "name": "stdout",
     "output_type": "stream",
     "text": [
      "krishnaik\n"
     ]
    }
   ],
   "source": [
    "#The super() function is often used with the __init__() method to initialize the attributes of the parent class. \n",
    "# eg:\n",
    "class pwskills():\n",
    "    def __init__(self,mentor):\n",
    "        self.mentor=mentor\n",
    "class datascience(pwskills):\n",
    "    def __init__(self, mentor):\n",
    "        super().__init__(mentor)\n",
    "        print(self.mentor) \n",
    "obj=datascience('krishnaik')               \n"
   ]
  },
  {
   "cell_type": "code",
   "execution_count": 19,
   "metadata": {},
   "outputs": [
    {
     "name": "stdout",
     "output_type": "stream",
     "text": [
      "book title  name is BIBLIGRAPHY book author name is Kurlandand published year is 1963\n"
     ]
    }
   ],
   "source": [
    "class Book():\n",
    "    def __init__(self,title,author,published_year):\n",
    "        self.title=title\n",
    "        self.author=author\n",
    "        self.published_year=published_year\n",
    "    def display_book_details(self):\n",
    "        print(\"book title  name is \"+str(self.title)+\" book author name is \"+str(self.author)+ \"and published year is \"+str(self.published_year))\n",
    "obj=Book('BIBLIGRAPHY','Kurland',1963)\n",
    "obj.display_book_details()            "
   ]
  },
  {
   "cell_type": "code",
   "execution_count": 20,
   "metadata": {},
   "outputs": [],
   "source": [
    "# constructors:A Constructor can be used to initialize an object.A Constructor is a block of code that initializes a newly created object.\t\n",
    "#methods:A Method is a collection of statements which returns a value upon its execution.A Method consists of Java code to be executed.\n",
    "\n",
    "\n",
    "\t"
   ]
  },
  {
   "cell_type": "code",
   "execution_count": null,
   "metadata": {},
   "outputs": [],
   "source": [
    "#The self parameter is a reference to the current instance of the class, and is used to access variables that belongs to the class.\n"
   ]
  },
  {
   "cell_type": "code",
   "execution_count": null,
   "metadata": {},
   "outputs": [],
   "source": [
    "#Using the @classmethod decorator to provide multiple constructors in a class is a fairly popular technique in Python. \n",
    "# There are several examples of built-in and standard-library classes that use this technique to provide multiple alternative constructors.\n"
   ]
  },
  {
   "cell_type": "code",
   "execution_count": 12,
   "metadata": {},
   "outputs": [
    {
     "name": "stdout",
     "output_type": "stream",
     "text": [
      "['hindi', 'math', 'english', 'science']\n"
     ]
    }
   ],
   "source": [
    "class Student():\n",
    "    def __init__(self,subjects):\n",
    "        self.subjects=subjects\n",
    "obj=Student(['hindi','math','english','science'])\n",
    "print(obj.subjects)        "
   ]
  },
  {
   "cell_type": "code",
   "execution_count": 22,
   "metadata": {},
   "outputs": [],
   "source": [
    " #we define deconstructor with __del__() method is referred to as a destructor method. \n",
    " # It is called after an object's garbage collection occurs, which happens after all references to the item have been destroyed. \n",
    " # Student table created. Destructor called, Student table deleted.\n"
   ]
  },
  {
   "cell_type": "code",
   "execution_count": 23,
   "metadata": {},
   "outputs": [],
   "source": [
    "#Constructor chaining is the process of calling one constructor from another constructor. \n",
    "# In Python, constructor chaining is convenient when we are dealing with inheritance.\n",
    "#eg.\n",
    "class test():\n",
    "    def __init__(self,name,age):\n",
    "        self.name=name\n",
    "        self.age=age\n",
    "    def datascience(self,name,age):\n",
    "        print(self.name)\n",
    "        print(self.age)\n",
    "obj=test('kusum',24)            \n",
    "\n"
   ]
  },
  {
   "cell_type": "code",
   "execution_count": 14,
   "metadata": {},
   "outputs": [
    {
     "name": "stdout",
     "output_type": "stream",
     "text": [
      "car making is Nissan and model is Altima\n"
     ]
    }
   ],
   "source": [
    "class Car():\n",
    "    def __init__(self,make,model):\n",
    "        self.make=make\n",
    "        self.model=model\n",
    "    def display_car_information(self):\n",
    "        print(\"car making is \"+str(self.make)+\" and model is \"+ str(self.model))\n",
    "obj=Car('Nissan','Altima')\n",
    "obj.display_car_information()        \n",
    "                  "
   ]
  },
  {
   "cell_type": "code",
   "execution_count": 15,
   "metadata": {},
   "outputs": [],
   "source": [
    "# inheritance"
   ]
  },
  {
   "cell_type": "code",
   "execution_count": 24,
   "metadata": {},
   "outputs": [
    {
     "name": "stdout",
     "output_type": "stream",
     "text": [
      "None\n"
     ]
    }
   ],
   "source": [
    "# inheritance is one class used to another class.it is called inheritance.\n",
    "#eg.\n",
    "class a:\n",
    "    def test(self):\n",
    "        print(\"this test method is a part of class a\")\n",
    "class b(a):\n",
    "    def test(self):\n",
    "        pass\n",
    "obj=b()\n",
    "print(obj.test())                \n"
   ]
  },
  {
   "cell_type": "code",
   "execution_count": null,
   "metadata": {},
   "outputs": [],
   "source": [
    "#single inheritance:In single inheritance a class can only inherit from one superclass. \n",
    "#eg.\n",
    "class a:\n",
    "    def test(self):\n",
    "        print(\"this test method is a part of class a\")\n",
    "class b(a):\n",
    "    def test(self):\n",
    "        pass\n",
    "obj=b()\n",
    "print(obj.test())    \n",
    "# multiple inheritance: Multiple inheritance on the other hand allows a subclass to inherit from more than one superclass.\n",
    "#eg.\n",
    "class a:\n",
    "    def test(self):\n",
    "        print(\"this test method is a part of class a\")\n",
    "class b():\n",
    "    def test(self):\n",
    "        pass\n",
    "class c(a,b):\n",
    "    def test(self):\n",
    "        pass\n",
    "        \n",
    "obj=c()\n",
    "print(obj.test())\n",
    "\n"
   ]
  },
  {
   "cell_type": "code",
   "execution_count": 17,
   "metadata": {},
   "outputs": [
    {
     "name": "stdout",
     "output_type": "stream",
     "text": [
      "blue\n",
      "80km/h\n",
      "Ford\n"
     ]
    }
   ],
   "source": [
    "class Vechile():\n",
    "    def __init__(self,color,speed):\n",
    "        self.color=color\n",
    "        self.speed=speed\n",
    "class Car(Vechile):\n",
    "    def __init__(self, color, speed,brand):\n",
    "        super().__init__(color, speed)\n",
    "        self.brand=brand\n",
    "obj=Car(\"blue\",'80km/h','Ford')\n",
    "print(obj.color)\n",
    "print(obj.speed)\n",
    "print(obj.brand)                "
   ]
  },
  {
   "cell_type": "code",
   "execution_count": 30,
   "metadata": {},
   "outputs": [
    {
     "name": "stdout",
     "output_type": "stream",
     "text": [
      "barks!\n",
      "Meows!\n"
     ]
    }
   ],
   "source": [
    "#Overriding an inherited method means providing a public method in a subclass with the same method signature (method name, parameter type list and return type) asa public method in the superclass. \n",
    "# The method in the subclass will be called instead of the method in the superclass.\n",
    "#eg.\n",
    "class Animals():\n",
    "    def speak(self):\n",
    "        pass\n",
    "class Dog(Animals):\n",
    "    def speak(self):\n",
    "        return \"barks!\"\n",
    "class Cat(Animals):\n",
    "    def speak(self):\n",
    "        return \"Meows!\"\n",
    "\n",
    "obj=Dog()\n",
    "k=obj.speak()\n",
    "print(k)\n",
    "obj1=Cat()\n",
    "s=obj1.speak()\n",
    "print(s)\n",
    "               \n",
    "                            \n"
   ]
  },
  {
   "cell_type": "code",
   "execution_count": 35,
   "metadata": {},
   "outputs": [
    {
     "name": "stdout",
     "output_type": "stream",
     "text": [
      "kusum\n"
     ]
    }
   ],
   "source": [
    "\n",
    "#The __init__() method will set the instance variables.\n",
    "#Access any of the parent class's attributes or methods on the self object.\n",
    "#eg.\n",
    "class pwskills:\n",
    "    def __init__(self):\n",
    "        pass       \n",
    "class datascience(pwskills):\n",
    "    def __init__(self, mentor):\n",
    "        self.mentor=mentor\n",
    "    def mentor_name(self):\n",
    "        print(self.mentor)           \n",
    "\n",
    "obj=datascience('kusum')\n",
    "obj.mentor_name()              \n",
    "\n",
    "\n",
    "\n"
   ]
  },
  {
   "cell_type": "code",
   "execution_count": null,
   "metadata": {},
   "outputs": [],
   "source": [
    "#Use the super() method to call the constructor of the parent in the child.\n",
    "#The __init__() method will set the instance variables.\n",
    "#Access any of the parent class's attributes or methods on the self object.\n",
    "#eg.\n",
    "class pwskills:\n",
    "    def __init__(self,mentor):\n",
    "        self.mentor=mentor\n",
    "    def menotor_name(self):\n",
    "        print(self.mentor)    \n",
    "class datascience(pwskills):\n",
    "    def __init__(self, mentor):\n",
    "        super().__init__(mentor)\n",
    "obj=datascience('kusum')\n",
    "obj.menotor_name()               \n",
    "\n",
    "\n",
    "\n"
   ]
  },
  {
   "cell_type": "code",
   "execution_count": 95,
   "metadata": {},
   "outputs": [
    {
     "name": "stdout",
     "output_type": "stream",
     "text": [
      "barks!\n",
      "Meows!\n"
     ]
    }
   ],
   "source": [
    "class Animals():\n",
    "    def speak(self):\n",
    "        pass\n",
    "class Dog(Animals):\n",
    "    def speak(self):\n",
    "        return \"barks!\"\n",
    "class Cat(Animals):\n",
    "    def speak(self):\n",
    "        return \"Meows!\"\n",
    "\n",
    "obj=Dog()\n",
    "k=obj.speak()\n",
    "print(k)\n",
    "obj1=Cat()\n",
    "s=obj1.speak()\n",
    "print(s)\n",
    "               "
   ]
  },
  {
   "cell_type": "code",
   "execution_count": null,
   "metadata": {},
   "outputs": [],
   "source": [
    "# isinstance() function returns True if the specified object is of the specified type, otherwise False . \n",
    "# If the type parameter is a tuple, this function will return True if the object is one of the types in the tuple.\n"
   ]
  },
  {
   "cell_type": "code",
   "execution_count": null,
   "metadata": {},
   "outputs": [],
   "source": [
    "#Python issubclass() is built-in function used to check if a class is a subclass of another class or not. \n",
    "# This function returns True if the given class is the subclass of given class else it returns False.\n"
   ]
  },
  {
   "cell_type": "code",
   "execution_count": null,
   "metadata": {},
   "outputs": [],
   "source": [
    "#Constructor are the functions of a class that are invoked at the time of object creation. \n",
    "# Inheritance is the property of object-oriented programming in which one class inherits the properties of another class. \n",
    "# Inherited Class is the class whose properties are inherited by another class.12-Mar-2021\n"
   ]
  },
  {
   "cell_type": "code",
   "execution_count": 36,
   "metadata": {},
   "outputs": [
    {
     "name": "stdout",
     "output_type": "stream",
     "text": [
      "circle of area is 50.24\n",
      "Rectangle area is 30\n"
     ]
    }
   ],
   "source": [
    "class Shape():\n",
    "    def area(self):\n",
    "        pass\n",
    "class Circle(Shape):\n",
    "    def __init__(self,radius):\n",
    "        self.radius=radius\n",
    "        self.pie=3.14\n",
    "    def area(self):\n",
    "        area=(self.pie*self.radius*self.radius)\n",
    "        print(\"circle of area is \"+str(area))\n",
    "class Rectangle(Shape):\n",
    "    def __init__(self,width,length):\n",
    "        self.width=width\n",
    "        self.length=length\n",
    "    def area(self):\n",
    "        area=(self.width*self.length)\n",
    "        print(\"Rectangle area is \"+str(area))\n",
    "obj=Circle(4)\n",
    "obj.area()\n",
    "obj1=Rectangle(5,6) \n",
    "obj1.area()                           "
   ]
  },
  {
   "cell_type": "code",
   "execution_count": 37,
   "metadata": {},
   "outputs": [
    {
     "name": "stdout",
     "output_type": "stream",
     "text": [
      "circle of area is 50.24\n",
      "rectangle of area is 15\n"
     ]
    }
   ],
   "source": [
    "#A class is called an Abstract class if it contains one or more abstract methods. \n",
    "# An abstract method is a method that is declared, but contains no implementation. \n",
    "#eg.\n",
    "from abc import ABC,abstractmethod\n",
    "class shape(ABC):\n",
    "    @abstractmethod\n",
    "    def calculate_area(self):\n",
    "        pass\n",
    "class circle(shape):\n",
    "    def __init__(self,radius):\n",
    "        self.pie=3.14\n",
    "        self.radius=radius\n",
    "    def calculate_area(self):\n",
    "        area=(self.pie*self.radius*self.radius)\n",
    "        return (\"circle of area is \"+str(area))\n",
    "class rectangle(shape):\n",
    "    def __init__(self,width,length):\n",
    "        self.width=width\n",
    "        self.length=length\n",
    "    def calculate_area(self):\n",
    "        area=(self.width*self.length)\n",
    "        return (\"rectangle of area is \"+str(area))        \n",
    "obj=circle(4)\n",
    "print(obj.calculate_area())\n",
    "obj1=rectangle(3,5)\n",
    "print(obj1.calculate_area())    \n",
    "            \n",
    "    \n",
    "    \n",
    "    \n",
    "\n"
   ]
  },
  {
   "cell_type": "code",
   "execution_count": 1,
   "metadata": {},
   "outputs": [],
   "source": [
    "#By using the super() function, you do not have to use the name of the parent element, it will automatically inherit the methods and properties from its parent.\n",
    "\n"
   ]
  },
  {
   "cell_type": "code",
   "execution_count": 38,
   "metadata": {},
   "outputs": [
    {
     "name": "stdout",
     "output_type": "stream",
     "text": [
      "Emplyoee name is kusum and Salary: $70000\n",
      "Manager name is sunil,salary:$100000 and department engingeer \n"
     ]
    }
   ],
   "source": [
    "class Emplyoee():\n",
    "    def __init__(self,name,salary):\n",
    "        self.name=name\n",
    "        self.salary=salary\n",
    "class Manager(Emplyoee):\n",
    "    def __init__(self, name, salary,department):\n",
    "        super().__init__(name, salary)\n",
    "        self.department=department\n",
    "        \n",
    "emplyoee1=Emplyoee('kusum',70000)\n",
    "manager=Manager('sunil',100000,'engingeer')\n",
    "print(f\"Emplyoee name is {emplyoee1.name} and Salary: ${emplyoee1.salary}\")\n",
    "print(f\"Manager name is {manager.name},salary:${manager.salary} and department {manager.department} \")\n",
    "                "
   ]
  },
  {
   "cell_type": "code",
   "execution_count": 39,
   "metadata": {},
   "outputs": [],
   "source": [
    "#Method overloading helps to increase the readability of the program. Method overriding is used to grant the specific \n",
    "# implementation of the method which is already provided by its parent class or superclass.\n",
    "\n",
    "\n"
   ]
  },
  {
   "cell_type": "code",
   "execution_count": null,
   "metadata": {},
   "outputs": [],
   "source": [
    "#The __init__ method is the Python equivalent of the C++ constructor in an object-oriented approach. \n",
    "#The __init__ function is called every time an object is created from a class. \n",
    "# The __init__ method lets the class initialize the object's attributes and serves no other purpose. It is only used within classes.\n"
   ]
  },
  {
   "cell_type": "code",
   "execution_count": 38,
   "metadata": {},
   "outputs": [
    {
     "name": "stdout",
     "output_type": "stream",
     "text": [
      "The eagle soars high in the sky.\n",
      "The sparrow flits from tree to tree.\n"
     ]
    }
   ],
   "source": [
    "class Bird():\n",
    "    def fly(self):\n",
    "        pass\n",
    "class Eagle(Bird):\n",
    "    def fly(self):\n",
    "        return \"The eagle soars high in the sky.\"\n",
    "class Sparrow(Bird):\n",
    "    def fly(self):\n",
    "        return \"The sparrow flits from tree to tree.\"\n",
    "eagle=Eagle()\n",
    "sparrow=Sparrow()\n",
    "print(eagle.fly())\n",
    "print(sparrow.fly())    \n",
    "    \n",
    "    "
   ]
  },
  {
   "cell_type": "code",
   "execution_count": null,
   "metadata": {},
   "outputs": [],
   "source": [
    "#The “diamond problem” (sometimes referred to as the “Deadly Diamond of Death”) is an ambiguity that arises \n",
    "# when two classes B and C inherit from A, and class D inherits from both B and C..\n"
   ]
  },
  {
   "cell_type": "code",
   "execution_count": 39,
   "metadata": {},
   "outputs": [],
   "source": [
    "#On the other hand, HAS-A relationship is composition. In OOP, IS-A relationship is completely inheritance. \n",
    "# This means, that the child class is a type of parent class. For example, an apple is a fruit.\n",
    "#eg HAS-A:\n",
    "class Author():\n",
    "    def __init__(self,name,birthdate):\n",
    "        self.name=name\n",
    "        self.birthdate=birthdate\n",
    "class Book(Author):\n",
    "    def __init__(self):\n",
    "        obj=Author('kusum',20)\n",
    "        print(obj.name)\n",
    "        print(obj.birthdate)\n",
    "obj1=Book()\n",
    "                \n",
    " # eg IS-A:\n",
    "class Shape():\n",
    "    def area(self):\n",
    "        pass\n",
    "class Circle(Shape):\n",
    "    def __init__(self,radius):\n",
    "        self.radius=radius\n",
    "        self.pie=3.14\n",
    "    def area(self):\n",
    "        area=(self.pie*self.radius*self.radius)\n",
    "        print(\"circle of area is \"+str(area))\n",
    "class Rectangle(Shape):\n",
    "    def __init__(self,width,length):\n",
    "        self.width=width\n",
    "        self.length=length\n",
    "    def area(self):\n",
    "        area=(self.width*self.length)\n",
    "        print(\"Rectangle area is \"+str(area))\n",
    "obj=Circle(4)\n",
    "obj.area()\n",
    "obj1=Rectangle(5,6) \n",
    "obj1.area()                           \n",
    "                \n",
    "\n",
    "\n",
    "\n",
    "        \n",
    "                       "
   ]
  },
  {
   "cell_type": "code",
   "execution_count": 2,
   "metadata": {},
   "outputs": [],
   "source": [
    "#Encapsulation"
   ]
  },
  {
   "cell_type": "code",
   "execution_count": 3,
   "metadata": {},
   "outputs": [],
   "source": [
    "#Encapsulation in OOPs is the concept of binding fields (object state) and methods (behavior) together as a single unit. \n",
    "# Programming languages such as Java use encapsulation in the form of classes. \n",
    "# A class allows programmers to create objects with variables (data) and behaviors (methods or functions).\n"
   ]
  },
  {
   "cell_type": "code",
   "execution_count": 4,
   "metadata": {},
   "outputs": [],
   "source": [
    "#There are three stages of information hiding/encapsulation which can be defined as having a capsule, making the capsule opaque, and making the capsule impenetrable. \n",
    "# Having a capsule means that an object has methods which enable the client of the module to use it without accessing its internal data structures.\n"
   ]
  },
  {
   "cell_type": "code",
   "execution_count": 5,
   "metadata": {},
   "outputs": [],
   "source": [
    "#In Python, Encapsulation can be achieved by declaring the data members of a class either as private or protected. \n",
    "# In Python, 'Private' and 'Protected' are called Access Modifiers, as they modify the access of variables or methods defined in a class.\n",
    "#eg.\n",
    "class kusum:\n",
    "    def __init__(self,subject):\n",
    "        self.__subject=subject\n",
    "    @property\n",
    "    def subject1(self):\n",
    "        return self.__subject\n",
    "    @subject1.setter\n",
    "    def subject1(self,subject):\n",
    "        self.__subject=subject\n",
    "    @subject1.getter\n",
    "    def subject1(self):\n",
    "        return self.__subject       \n",
    "    \n"
   ]
  },
  {
   "cell_type": "code",
   "execution_count": 6,
   "metadata": {},
   "outputs": [],
   "source": [
    "#If the class member declared as public then it can be accessed everywhere. \n",
    "# If the class members declared as protected then it can be accessed only within the class itself and by inheriting child classes. \n",
    "# If the class members declared as private then it may only be accessed by the class that defines the member.\n"
   ]
  },
  {
   "cell_type": "code",
   "execution_count": 7,
   "metadata": {},
   "outputs": [
    {
     "name": "stdout",
     "output_type": "stream",
     "text": [
      "kusum\n",
      "sunil\n"
     ]
    }
   ],
   "source": [
    "class Person():\n",
    "    def __init__(self,name):\n",
    "        self.__name=name\n",
    "    def get_name(self):\n",
    "        return self.__name \n",
    "    def set_name(self,name):\n",
    "        self.__name=name\n",
    "obj=Person('kusum')\n",
    "print(obj.get_name())\n",
    "obj.set_name('sunil')\n",
    "print(obj.get_name())                   "
   ]
  },
  {
   "cell_type": "code",
   "execution_count": 8,
   "metadata": {},
   "outputs": [],
   "source": [
    "#Getters and Setters play an important role in retrieving and updating the value of a variable outside the encapsulating class. \n",
    "# A setter updates the value of a variable, while a getter reads the value of a variable.\n",
    "#eg.\n",
    "class kusum:\n",
    "    def __init__(self,subject):\n",
    "        self.__subject=subject\n",
    "    @property\n",
    "    def subject1(self):\n",
    "        return self.__subject\n",
    "    @subject1.setter\n",
    "    def subject1(self,subject):\n",
    "        self.__subject=subject\n",
    "    @subject1.getter\n",
    "    def subject1(self):\n",
    "        return self.__subject\n",
    "\n"
   ]
  },
  {
   "cell_type": "code",
   "execution_count": 9,
   "metadata": {},
   "outputs": [],
   "source": [
    "#In name mangling process any identifier with two leading underscore and one trailing underscore is textually replaced \n",
    "# with _classname__identifier where classname is the name of the current class.\n"
   ]
  },
  {
   "cell_type": "code",
   "execution_count": 10,
   "metadata": {},
   "outputs": [
    {
     "name": "stdout",
     "output_type": "stream",
     "text": [
      "your amount is 3000 account number  7897655567 after deposit amount is 8000\n",
      "your total balance is 7500 after withdrawl amount 7500\n"
     ]
    }
   ],
   "source": [
    "class BankAccount():\n",
    "    def __init__(self,balance,account_number):\n",
    "        self.__balance=balance\n",
    "        self.__account_number=account_number\n",
    "    def depositing_money(self,deposit_amount):\n",
    "        total_balance=(self.__balance+deposit_amount)\n",
    "        self.__balance=total_balance\n",
    "        print(\"your amount is \"+str(self.__balance-deposit_amount)+ \" account number  \"+str(self.__account_number)+\" after deposit amount is \"+ str(total_balance))\n",
    "    def withdrawing_money(self,witdrawl_amount):\n",
    "        balance=(self.__balance-witdrawl_amount)\n",
    "        self.__balance=balance\n",
    "        print(\"your total balance is \" +str(self.__balance)+\" after withdrawl amount \"+str(balance))\n",
    "obj=BankAccount(3000,7897655567)\n",
    "obj.depositing_money(5000)\n",
    "obj.withdrawing_money(500)        "
   ]
  },
  {
   "cell_type": "code",
   "execution_count": 11,
   "metadata": {},
   "outputs": [],
   "source": [
    "#Encapsulation is a fundamental concept in object-oriented programming (OOP) that helps to improve code maintainability and security. \n",
    "# Code maintainability: Encapsulation promotes modularity and separation of concerns, which makes it easier to change and maintain the code.\n"
   ]
  },
  {
   "cell_type": "code",
   "execution_count": 12,
   "metadata": {},
   "outputs": [],
   "source": [
    "#In Python, mangling is used for class attributes that one does not want subclasses to use \n",
    "# which are designated as such by giving them a name with two or more leading underscores and no more than one trailing underscore.\n"
   ]
  },
  {
   "cell_type": "code",
   "execution_count": 18,
   "metadata": {},
   "outputs": [
    {
     "name": "stdout",
     "output_type": "stream",
     "text": [
      "student id 56 rollno: 7\n",
      "name:v\n",
      "school name is v school reg no 67 course details dsa\n"
     ]
    }
   ],
   "source": [
    "class school_system():\n",
    "    def __init__(self,name,regno):\n",
    "        self.__name=name\n",
    "        self.__regno=regno\n",
    "    def student_details(self,id,rollno):\n",
    "        return (\"student id \"+str(id)+' rollno: '+str(rollno))\n",
    "    def teacher_details(self):\n",
    "        return (\"name:\"+str(self.__name))\n",
    "    def course_details(self,subject):\n",
    "        return (\"school name is \"+str(self.__name)+\" school reg no \"+str(self.__regno)+\" course details \" +str(subject))\n",
    "obj=school_system('v',67)\n",
    "print(obj.student_details(56,7))\n",
    "print(obj.teacher_details())\n",
    "print(obj.course_details(\"dsa\"))               \n",
    "    "
   ]
  },
  {
   "cell_type": "code",
   "execution_count": null,
   "metadata": {},
   "outputs": [],
   "source": [
    "#The @property is a built-in decorator for the property() function in Python. \n",
    "#It is used to give \"special\" functionality to certain methods to make them act as getters, setters, or deleters when we define properties in a class.\n"
   ]
  },
  {
   "cell_type": "code",
   "execution_count": 19,
   "metadata": {},
   "outputs": [
    {
     "name": "stdout",
     "output_type": "stream",
     "text": [
      "kusum\n"
     ]
    }
   ],
   "source": [
    "\n",
    "# In data hiding, the data has to be defined as private only. In data encapsulation, the data can be public or private.\n",
    "#eg:\n",
    "class test:\n",
    "    def __init__(self,name):\n",
    "        self.__name=name\n",
    "    def deta_ils(self):\n",
    "        print(self.__name)\n",
    "obj=test('kusum')\n",
    "obj.deta_ils()            \n"
   ]
  },
  {
   "cell_type": "code",
   "execution_count": 87,
   "metadata": {},
   "outputs": [
    {
     "name": "stdout",
     "output_type": "stream",
     "text": [
      "Emplyoee salary is 78000 ,id: 789, bonus: 1950.0 total salary is 79950.0\n"
     ]
    }
   ],
   "source": [
    "class Emplyoee():\n",
    "    def __init__(self,salary,emplyoee_id):\n",
    "        self.__salary=salary\n",
    "        self.__emplyoee_id=emplyoee_id\n",
    "    def calculate_yearly_bonuses(self):\n",
    "        bonus=(self.__salary*2.5/100)\n",
    "        total_salary=(self.__salary+bonus)\n",
    "        print(\"Emplyoee salary is \"+str(self.__salary)+\" ,id: \"+str(self.__emplyoee_id)+\", bonus: \"+str(bonus)+\" total salary is \"+ str(total_salary))\n",
    "obj=Emplyoee(78000,789)\n",
    "obj.calculate_yearly_bonuses()            "
   ]
  },
  {
   "cell_type": "code",
   "execution_count": null,
   "metadata": {},
   "outputs": [],
   "source": [
    "# Accessors (getters) are methods that retrieve the values of an object's attributes, \n",
    "# while mutators (setters) are methods that modify the values of attributes. \n",
    "# They are used to control access to object data, enforcing encapsulation and data integrity.\n"
   ]
  },
  {
   "cell_type": "code",
   "execution_count": null,
   "metadata": {},
   "outputs": [],
   "source": [
    "#Code Size:The length of the code increases drastically in the case of encapsulation as we need to provide all the methods with the specifiers.\n",
    "#More Instructions: As the size of the code increases, therefore, you need to provide additional instructions for every method.\n"
   ]
  },
  {
   "cell_type": "code",
   "execution_count": 21,
   "metadata": {},
   "outputs": [
    {
     "name": "stdout",
     "output_type": "stream",
     "text": [
      "book name: x title: y author: z availabilty status yes\n"
     ]
    }
   ],
   "source": [
    "class library_system():\n",
    "    def __init__(self,bookinformation,titles,author,availabiltystatus):\n",
    "        self.__bookinformation=bookinformation\n",
    "        self.__titles=titles\n",
    "        self.__author=author\n",
    "        self.__availabilitystatus=availabiltystatus\n",
    "    def library_details(self):\n",
    "        print(\"book name: \"+str(self.__bookinformation)+\" title: \"+str(self.__titles) +\" author: \" +str(self.__author) +\" availabilty status \"+str(self.__availabilitystatus))\n",
    "obj=library_system('x','y','z','yes')\n",
    "obj.library_details()         "
   ]
  },
  {
   "cell_type": "code",
   "execution_count": null,
   "metadata": {},
   "outputs": [],
   "source": [
    "#Modularity is closely tied with encapsulation; think of modularity as a way of mapping encapsulated abstractions into real, physical modules. \n",
    "# The C/C++ convention is to create two files for each class: a header file (. h suffix) for the class interface, and an implementation file .\n"
   ]
  },
  {
   "cell_type": "code",
   "execution_count": null,
   "metadata": {},
   "outputs": [],
   "source": [
    "#By definition, encapsulation describes bundling data and methods that work on that data within one unit, like a class in Java.\n",
    "# We often often use this concept to hide an object's internal representation or state from the outside. This is called information hiding.\n",
    "\n",
    "#"
   ]
  },
  {
   "cell_type": "code",
   "execution_count": 99,
   "metadata": {},
   "outputs": [
    {
     "name": "stdout",
     "output_type": "stream",
     "text": [
      "customer name is kusum ,address: haryana ,contact: 5786578898\n"
     ]
    }
   ],
   "source": [
    "class customer():\n",
    "    def __init__(self,name,address,contact):\n",
    "        self.__name=name\n",
    "        self.__address=address\n",
    "        self.__contact=contact\n",
    "    def customer_information_details(self):\n",
    "        print(\"customer name is \"+str(self.__name)+\" ,address: \"+str(self.__address)+\" ,contact: \"+str(self.__contact))\n",
    "obj=customer('kusum','haryana',5786578898)\n",
    "obj.customer_information_details()            "
   ]
  },
  {
   "cell_type": "code",
   "execution_count": 100,
   "metadata": {},
   "outputs": [],
   "source": [
    "#polymorphism"
   ]
  },
  {
   "cell_type": "code",
   "execution_count": null,
   "metadata": {},
   "outputs": [],
   "source": [
    "#Polymorphism is a feature of object-oriented programming languages that allows a specific routine to use variables of different types at different times.\n",
    "# Polymorphism in programming gives a program the ability to redefine methods for derived classes.\n"
   ]
  },
  {
   "cell_type": "code",
   "execution_count": null,
   "metadata": {},
   "outputs": [],
   "source": [
    "#In Compile time Polymorphism, the call is resolved by the compiler. In Run time Polymorphism, the call is not resolved by the compiler. \n",
    "\n"
   ]
  },
  {
   "cell_type": "code",
   "execution_count": 23,
   "metadata": {},
   "outputs": [
    {
     "name": "stdout",
     "output_type": "stream",
     "text": [
      "113.03999999999999\n",
      "36\n",
      "24\n"
     ]
    }
   ],
   "source": [
    "class shapes():\n",
    "    def calculate_area(self):\n",
    "        pass\n",
    "class circle(shapes):\n",
    "    def calculate_area(self,pie,radius):\n",
    "        area=pie*radius*radius\n",
    "        print(area)\n",
    "class square(shapes):\n",
    "    def calculate_area(self,side):\n",
    "        area=side*side\n",
    "        print(area)\n",
    "class rectangle(shapes):\n",
    "    def calculate_area(self,width,length):\n",
    "        area=width*length\n",
    "        print(area)\n",
    "obj=circle()\n",
    "obj.calculate_area(3.14,6)\n",
    "ob=square()\n",
    "ob.calculate_area(6)\n",
    "obj2=rectangle()\n",
    "obj2.calculate_area(4,6)        \n",
    "                "
   ]
  },
  {
   "cell_type": "code",
   "execution_count": null,
   "metadata": {},
   "outputs": [],
   "source": [
    "# In method overriding, the derived class provides the specific implementation of the method that is already provided by the base class or parent class.\n",
    "#eg:\n",
    "class shapes():\n",
    "    def calculate_area(self):\n",
    "        pass\n",
    "class circle(shapes):\n",
    "    def calculate_area(self,pie,radius):\n",
    "        area=pie*radius*radius\n",
    "        print(area)\n",
    "class square(shapes):\n",
    "    def calculate_area(self,side):\n",
    "        area=side*side\n",
    "        print(area)\n",
    "class rectangle(shapes):\n",
    "    def calculate_area(self,width,length):\n",
    "        area=width*length\n",
    "        print(area)\n",
    "obj=circle()\n",
    "obj.calculate_area(3.14,6)\n",
    "ob=square()\n",
    "ob.calculate_area(6)\n",
    "obj2=rectangle()\n",
    "obj2.calculate_area(4,6)        \n",
    "                \n"
   ]
  },
  {
   "cell_type": "code",
   "execution_count": null,
   "metadata": {},
   "outputs": [],
   "source": [
    "#Polymorphism is the process to define more than one body for functions/methods with same name. \n",
    "# Overloading IS a type of polymorphism, where the signature part must be different. \n",
    "# Overriding is another, that is used in case of inheritance where signature part is also same.\n",
    "# In method overriding, the derived class provides the specific implementation of the method that is already provided by the base class or parent class.\n",
    "#eg:\n",
    "class shapes():\n",
    "    def calculate_area(self):\n",
    "        pass\n",
    "class circle(shapes):\n",
    "    def calculate_area(self,pie,radius):\n",
    "        area=pie*radius*radius\n",
    "        print(area)\n",
    "class square(shapes):\n",
    "    def calculate_area(self,side):\n",
    "        area=side*side\n",
    "        print(area)\n",
    "class rectangle(shapes):\n",
    "    def calculate_area(self,width,length):\n",
    "        area=width*length\n",
    "        print(area)\n",
    "obj=circle()\n",
    "obj.calculate_area(3.14,6)\n",
    "ob=square()\n",
    "ob.calculate_area(6)\n",
    "obj2=rectangle()\n",
    "obj2.calculate_area(4,6)        \n",
    "                \n",
    "\n"
   ]
  },
  {
   "cell_type": "code",
   "execution_count": 104,
   "metadata": {},
   "outputs": [
    {
     "name": "stdout",
     "output_type": "stream",
     "text": [
      "barks!\n",
      "meows!\n",
      "chirps!\n"
     ]
    }
   ],
   "source": [
    "class Animal():\n",
    "    def speak(self):\n",
    "        pass\n",
    "class Dog(Animal):\n",
    "    def speak(self):\n",
    "        return \"barks!\"\n",
    "class Cat(Animal):\n",
    "    def speak(self):\n",
    "        return \"meows!\"\n",
    "class Bird(Animal):\n",
    "    def speak(self):\n",
    "        return \"chirps!\"\n",
    "obj=Dog()\n",
    "obj1=Cat()\n",
    "obj2=Bird()\n",
    "print(obj.speak())\n",
    "print(obj1.speak())\n",
    "print(obj2.speak())            "
   ]
  },
  {
   "cell_type": "code",
   "execution_count": 25,
   "metadata": {},
   "outputs": [
    {
     "name": "stdout",
     "output_type": "stream",
     "text": [
      "your bank amount 56000 after deposit amount 56500\n",
      "after withdrawl amount 56200\n"
     ]
    }
   ],
   "source": [
    "#An abstract class can be considered a blueprint for other classes. \n",
    "# It allows you to create a set of methods that must be created within any child classes built from the abstract class.\n",
    "# A class that contains one or more abstract methods is called an abstract class.\n",
    "#eg:\n",
    "from abc import ABC, abstractmethod\n",
    "class bank_account(ABC):\n",
    "    @ abstractmethod\n",
    "    def withdraw(self):\n",
    "        pass\n",
    "    @ abstractmethod\n",
    "    def deposit(self):\n",
    "        pass\n",
    "class bank_details(bank_account):\n",
    "    def __init__(self,account_balance):\n",
    "        self.__account_balance=account_balance\n",
    "    def deposit(self,deposit_amount):\n",
    "        total_amount=(self.__account_balance+deposit_amount)\n",
    "        self.__account_balance=total_amount\n",
    "        return (\"your bank amount \"+str(self.__account_balance-deposit_amount) +\" after deposit amount \"+str(total_amount))\n",
    "    def withdraw(self,withdrawl_amount):\n",
    "        withdrawl=(self.__account_balance-withdrawl_amount)\n",
    "        self.__account_balance=withdrawl\n",
    "        return (\"after withdrawl amount \"+str(withdrawl))\n",
    "    \n",
    "obj=bank_details(56000)\n",
    "print(obj.deposit(500))\n",
    "print(obj.withdraw(300))                   \n",
    "    \n",
    "    \n",
    "\n"
   ]
  },
  {
   "cell_type": "code",
   "execution_count": 26,
   "metadata": {},
   "outputs": [
    {
     "name": "stdout",
     "output_type": "stream",
     "text": [
      "car model is x,and type is y\n",
      "bicycle model is a, and type is b\n",
      "boat model is m, and type is n\n"
     ]
    }
   ],
   "source": [
    "class vechile_system():\n",
    "    def __init__(self,model,type):\n",
    "        self.model=model\n",
    "        self.type=type\n",
    "    def start(self):\n",
    "        pass\n",
    "class car(vechile_system):\n",
    "    def start(self):\n",
    "        return (\"car model is \"+str(self.model)+\",and type is \"+str(self.type))\n",
    "class bicycle(vechile_system):\n",
    "    def start(self):\n",
    "        return (\"bicycle model is \"+str(self.model)+\", and type is \"+str(self.type))\n",
    "class boat(vechile_system):\n",
    "    def start(self):\n",
    "        return (\"boat model is \"+str(self.model)+\", and type is \"+str(self.type))\n",
    "\n",
    "obj=car('x','y')\n",
    "print(obj.start())\n",
    "obj1=bicycle(\"a\",\"b\")\n",
    "print(obj1.start())\n",
    "pbj2=boat(\"m\",\"n\")\n",
    "print(pbj2.start())    \n",
    "            \n",
    "\n",
    "    "
   ]
  },
  {
   "cell_type": "code",
   "execution_count": null,
   "metadata": {},
   "outputs": [],
   "source": [
    "#The built-in functions isinstance and issubclass ask two different questions. \n",
    "# isinstance(object, classinfo) asks whether an object is an instance of a class (or a tuple of classes). \n",
    "# issubclass(class, classinfo) asks whether one class is a subclass of another class (or other classes).\n"
   ]
  },
  {
   "cell_type": "code",
   "execution_count": null,
   "metadata": {},
   "outputs": [],
   "source": [
    "#abstractmethod(function) A decorator indicating abstract methods. Using this decorator requires that the class's metaclass is ABCMeta or is derived from it.\n",
    "# A class that has a metaclass derived from ABCMeta cannot be instantiated unless all of its abstract methods and properties are overridden.\n",
    "#eg:\n",
    "from abc import ABC,abstractmethod\n",
    "class library_system(ABC):\n",
    "    @ abstractmethod\n",
    "    def add_book(self):\n",
    "        pass\n",
    "    @ abstractmethod\n",
    "    def borrow_book(self):\n",
    "        pass\n",
    "class library_information(library_system):\n",
    "    def add_book(self,add_book_name):\n",
    "        return (\"add this book:\"+str(add_book_name))\n",
    "    def borrow_book(self,borrow_book_name):\n",
    "        return (\"borrow this book \"+str(borrow_book_name))\n",
    "obj=library_information()\n",
    "print(obj.add_book('x'))\n",
    "print(obj.borrow_book('y'))         \n",
    "    \n",
    "\n"
   ]
  },
  {
   "cell_type": "code",
   "execution_count": 117,
   "metadata": {},
   "outputs": [
    {
     "name": "stdout",
     "output_type": "stream",
     "text": [
      "circle of area is 78.5\n",
      "Rectangle of area is 48\n",
      "triangle of area is 24.0\n"
     ]
    }
   ],
   "source": [
    "class shape():\n",
    "    def __init__(self,width,length,radius,breath):\n",
    "        self.width=width\n",
    "        self.length=length\n",
    "        self.radius=radius\n",
    "        self.breath=breath\n",
    "        self.pie=3.14\n",
    "    def area(self):\n",
    "        pass\n",
    "class circle(shape):\n",
    "    def area(self):\n",
    "        circle_area=(self.pie*self.radius*self.radius)\n",
    "        return (\"circle of area is \"+str(circle_area))\n",
    "class rectangle(shape):\n",
    "    def area(self):\n",
    "        rectangle_area=(self.width*self.length)\n",
    "        return (\"Rectangle of area is \"+str(rectangle_area))\n",
    "class traingle(shape):\n",
    "    def area(self):\n",
    "        traingle_area=(1/2*(self.breath*self.length))\n",
    "        return (\"triangle of area is \"+str(traingle_area))\n",
    "obj=circle(6,8,5,6)\n",
    "print(obj.area())\n",
    "obj1=rectangle(6,8,5,6)\n",
    "print(obj1.area())\n",
    "obj2=traingle(6,8,5,6)\n",
    "print(obj2.area())                    \n",
    "                \n",
    "        \n",
    "        \n",
    "    \n",
    "    "
   ]
  },
  {
   "cell_type": "code",
   "execution_count": 27,
   "metadata": {},
   "outputs": [],
   "source": [
    "#It provides reusability to the code. The classes that are written, tested and implemented can be reused multiple times.\n",
    "#A single variable can be used to store multiple data values. ...\n",
    "\n"
   ]
  },
  {
   "cell_type": "code",
   "execution_count": 28,
   "metadata": {},
   "outputs": [],
   "source": [
    "#The super() function is used to give access to methods and properties of a parent or sibling class. The super() function returns an object that represents the parent class.\n"
   ]
  },
  {
   "cell_type": "code",
   "execution_count": 9,
   "metadata": {},
   "outputs": [
    {
     "name": "stdout",
     "output_type": "stream",
     "text": [
      " saving withdrawl amount is 65000\n",
      "withdrawl amount is 55900\n",
      "credit card amount withdrawl is 5500\n"
     ]
    }
   ],
   "source": [
    "class banking_system():\n",
    "    def __init__(self,amount,withdrawl_amount):\n",
    "        self.amount=amount\n",
    "        self.withdrawl_amount=withdrawl_amount\n",
    "    def withdraw(self):\n",
    "        pass\n",
    "class savings(banking_system):\n",
    "    def withdraw(self):\n",
    "        withdrawl_amount=(self.amount-self.withdrawl_amount)\n",
    "        return (\" saving withdrawl amount is \"+str(withdrawl_amount))\n",
    "class checking(banking_system):\n",
    "    def withdraw(self):\n",
    "        if self.amount > self.withdrawl_amount:\n",
    "            withdrawl_amount=(self.amount-self.withdrawl_amount)\n",
    "            print(\"withdrawl amount is \"+str(withdrawl_amount))\n",
    "        else:\n",
    "            print(\"insufficent balance\")\n",
    "class credit_card(banking_system):\n",
    "    def withdraw(self):\n",
    "        withdrawl_amount=(self.amount-self.withdrawl_amount)\n",
    "        return (\"credit card amount withdrawl is \"+str(withdrawl_amount))                     \n",
    "obj=savings(67000,2000)\n",
    "print(obj.withdraw())\n",
    "obj2=checking(56000,100)\n",
    "obj2.withdraw()\n",
    "obj3=credit_card(6000,500)\n",
    "print(obj3.withdraw())        \n",
    "\n",
    "            "
   ]
  },
  {
   "cell_type": "code",
   "execution_count": null,
   "metadata": {},
   "outputs": [],
   "source": [
    "#Operator Overloading means giving extended meaning beyond their predefined operational meaning.\n",
    "# For example operator + is used to add two integers as well as join two strings and merge two lists. It is achievable because '+' operator is overloaded by int class and str class.\n",
    "\n",
    "\n"
   ]
  },
  {
   "cell_type": "code",
   "execution_count": null,
   "metadata": {},
   "outputs": [],
   "source": [
    "#❮ Previous Next ❯ The word \"polymorphism\" means \"many forms\", and in programming it refers to methods/functions/operators with the same\n",
    "# name that can be executed on many objects or classes.\n"
   ]
  },
  {
   "cell_type": "code",
   "execution_count": 14,
   "metadata": {},
   "outputs": [
    {
     "name": "stdout",
     "output_type": "stream",
     "text": [
      "manager salary is 99680.0\n",
      "developer salary is 60664.8\n",
      "desingner salary is 68675.0\n"
     ]
    }
   ],
   "source": [
    "class emplyoees():\n",
    "    def __init__(self,salary):\n",
    "        self.salary=salary\n",
    "    def calculate_salary(self):\n",
    "        pass\n",
    "class manager(emplyoees):\n",
    "    def calculate_salary(self):\n",
    "        pf=(self.salary*12/100)\n",
    "        total_salary=pf+self.salary\n",
    "        return \"manager salary is \"+str(total_salary)\n",
    "class developer(emplyoees):\n",
    "    def calculate_salary(self):\n",
    "        pf=(self.salary*8.33/100)\n",
    "        total_salary=pf+self.salary\n",
    "        return \"developer salary is \"+str(total_salary)\n",
    "class desinger(emplyoees):\n",
    "    def calculate_salary(self):\n",
    "        pf=(self.salary*2.5/100)\n",
    "        total_salary=pf+self.salary\n",
    "        return \"desingner salary is \"+str(total_salary)     \n",
    "Manager=manager(89000)\n",
    "print(Manager.calculate_salary())\n",
    "Developer=developer(56000)\n",
    "print(Developer.calculate_salary()) \n",
    "Designer=desinger(67000)\n",
    "print(Designer.calculate_salary()) \n",
    "        \n",
    "                "
   ]
  },
  {
   "cell_type": "code",
   "execution_count": null,
   "metadata": {},
   "outputs": [],
   "source": [
    "#This polymorphism process can be achieved in two main ways namely overloading and overriding. \n",
    "# In the above example we can clearly see that the addition operator is used in different way.\n"
   ]
  },
  {
   "cell_type": "code",
   "execution_count": null,
   "metadata": {},
   "outputs": [],
   "source": [
    "#The Abstract class and Interface both are used to have abstraction. \n",
    "# An abstract class contains an abstract keyword on the declaration whereas an Interface is a sketch that is used to implement a class.\n",
    "# Explore more differences between abstract class and interface in java.\n"
   ]
  },
  {
   "cell_type": "code",
   "execution_count": 20,
   "metadata": {},
   "outputs": [
    {
     "name": "stdout",
     "output_type": "stream",
     "text": [
      "mammals eating: leaves, mammals sleeping: shed, mammals making sound: mooing\n",
      "birds eating: grain, birds sleeping: tree, birds making sound: chirps\n",
      "reptiles eating: insects, reptiles sleeping: tree, reptiles making sound: beep\n"
     ]
    }
   ],
   "source": [
    "class zoo_simulation():\n",
    "    def __init__(self,eating,sleeping,making_sound):\n",
    "        self.eating=eating\n",
    "        self.sleeping=sleeping\n",
    "        self.making_sound=making_sound\n",
    "    def  behaviour(self):\n",
    "        pass\n",
    "class mammals(zoo_simulation):\n",
    "    def behaviour(self):\n",
    "        return (\"mammals eating: \"+str(self.eating)+\", mammals sleeping: \"+str(self.sleeping)+\", mammals making sound: \"+str(self.making_sound))\n",
    "class birds(zoo_simulation):\n",
    "    def behaviour(self):\n",
    "        return (\"birds eating: \"+str(self.eating)+\", birds sleeping: \"+str(self.sleeping)+\", birds making sound: \"+str(self.making_sound))\n",
    "class reptiles(zoo_simulation):\n",
    "    def behaviour(self):\n",
    "        return (\"reptiles eating: \"+str(self.eating)+\", reptiles sleeping: \"+str(self.sleeping)+\", reptiles making sound: \"+str(self.making_sound))    \n",
    "Mammals=mammals('leaves','shed','mooing')\n",
    "print(Mammals.behaviour())\n",
    "Bird=birds('grain','tree','chirps')\n",
    "print(Bird.behaviour())\n",
    "Reptiles=reptiles('insects','tree','beep')\n",
    "print(Reptiles.behaviour())         "
   ]
  },
  {
   "cell_type": "code",
   "execution_count": 21,
   "metadata": {},
   "outputs": [],
   "source": [
    "# Abstraction"
   ]
  },
  {
   "cell_type": "code",
   "execution_count": null,
   "metadata": {},
   "outputs": [],
   "source": [
    "#Abstraction in python is defined as a process of handling complexity by hiding unnecessary information from the user. \n",
    "# This is one of the core concepts of object-oriented programming (OOP) languages.\n"
   ]
  },
  {
   "cell_type": "code",
   "execution_count": null,
   "metadata": {},
   "outputs": [],
   "source": [
    "#Helps to increase security of an application or program as only important details are provided to the user. Avoids code duplication and increases reusability.\n"
   ]
  },
  {
   "cell_type": "code",
   "execution_count": 30,
   "metadata": {},
   "outputs": [
    {
     "name": "stdout",
     "output_type": "stream",
     "text": [
      "circle of area is 50.24\n",
      "rectangle of area is 15\n"
     ]
    }
   ],
   "source": [
    "from abc import ABC,abstractmethod\n",
    "class shape(ABC):\n",
    "    @abstractmethod\n",
    "    def calculate_area(self):\n",
    "        pass\n",
    "class circle(shape):\n",
    "    def __init__(self,radius):\n",
    "        self.pie=3.14\n",
    "        self.radius=radius\n",
    "    def calculate_area(self):\n",
    "        area=(self.pie*self.radius*self.radius)\n",
    "        return (\"circle of area is \"+str(area))\n",
    "class rectangle(shape):\n",
    "    def __init__(self,width,length):\n",
    "        self.width=width\n",
    "        self.length=length\n",
    "    def calculate_area(self):\n",
    "        area=(self.width*self.length)\n",
    "        return (\"rectangle of area is \"+str(area))        \n",
    "obj=circle(4)\n",
    "print(obj.calculate_area())\n",
    "obj1=rectangle(3,5)\n",
    "print(obj1.calculate_area())    \n",
    "            \n",
    "    \n",
    "    \n",
    "    "
   ]
  },
  {
   "cell_type": "code",
   "execution_count": 32,
   "metadata": {},
   "outputs": [
    {
     "name": "stdout",
     "output_type": "stream",
     "text": [
      "circle of area is 50.24\n",
      "rectangle of area is 15\n"
     ]
    }
   ],
   "source": [
    "#In Python, you can create an abstract class using the abc module. \n",
    "# This module provides the infrastructure for defining abstract base classes (ABCs). In this example, we import the ABC and abstractmethod from the abc module. \n",
    "# We then define an abstract class AbstractClassExample using the ABC as the base class.\n",
    "#eg:\n",
    "from abc import ABC,abstractmethod\n",
    "class shape(ABC):\n",
    "    @abstractmethod\n",
    "    def calculate_area(self):\n",
    "        pass\n",
    "class circle(shape):\n",
    "    def __init__(self,radius):\n",
    "        self.pie=3.14\n",
    "        self.radius=radius\n",
    "    def calculate_area(self):\n",
    "        area=(self.pie*self.radius*self.radius)\n",
    "        return (\"circle of area is \"+str(area))\n",
    "class rectangle(shape):\n",
    "    def __init__(self,width,length):\n",
    "        self.width=width\n",
    "        self.length=length\n",
    "    def calculate_area(self):\n",
    "        area=(self.width*self.length)\n",
    "        return (\"rectangle of area is \"+str(area))        \n",
    "obj=circle(4)\n",
    "print(obj.calculate_area())\n",
    "obj1=rectangle(3,5)\n",
    "print(obj1.calculate_area())    \n",
    "            \n",
    "    \n",
    "    \n",
    "    \n"
   ]
  },
  {
   "cell_type": "code",
   "execution_count": 33,
   "metadata": {},
   "outputs": [
    {
     "name": "stdout",
     "output_type": "stream",
     "text": [
      "circle of area is 50.24\n",
      "rectangle of area is 15\n"
     ]
    }
   ],
   "source": [
    "#from abc import ABC,abstractmethod\n",
    "class shape(ABC):\n",
    "    @abstractmethod\n",
    "    def calculate_area(self):\n",
    "        \n",
    "        pass\n",
    "class circle(shape):\n",
    "    def __init__(self,radius):\n",
    "        self.pie=3.14\n",
    "        self.radius=radius\n",
    "    def calculate_area(self):\n",
    "        area=(self.pie*self.radius*self.radius)\n",
    "        return (\"circle of area is \"+str(area))\n",
    "class rectangle(shape):\n",
    "    def __init__(self,width,length):\n",
    "        self.width=width\n",
    "        self.length=length\n",
    "    def calculate_area(self):\n",
    "        area=(self.width*self.length)\n",
    "        return (\"rectangle of area is \"+str(area))        \n",
    "obj=circle(4)\n",
    "print(obj.calculate_area())\n",
    "obj1=rectangle(3,5)\n",
    "print(obj1.calculate_area())    \n",
    "            \n",
    "    \n",
    "    \n",
    "    "
   ]
  },
  {
   "cell_type": "code",
   "execution_count": 34,
   "metadata": {},
   "outputs": [
    {
     "name": "stdout",
     "output_type": "stream",
     "text": [
      "your bank amount 56000 after deposit amount 56500\n",
      "after withdrawl amount 56200\n"
     ]
    }
   ],
   "source": [
    "from abc import ABC, abstractmethod\n",
    "class bank_account(ABC):\n",
    "    @ abstractmethod\n",
    "    def withdraw(self):\n",
    "        pass\n",
    "    @ abstractmethod\n",
    "    def deposit(self):\n",
    "        pass\n",
    "class bank_details(bank_account):\n",
    "    def __init__(self,account_balance):\n",
    "        self.__account_balance=account_balance\n",
    "    def deposit(self,deposit_amount):\n",
    "        total_amount=(self.__account_balance+deposit_amount)\n",
    "        self.__account_balance=total_amount\n",
    "        return (\"your bank amount \"+str(self.__account_balance-deposit_amount) +\" after deposit amount \"+str(total_amount))\n",
    "    def withdraw(self,withdrawl_amount):\n",
    "        withdrawl=(self.__account_balance-withdrawl_amount)\n",
    "        self.__account_balance=withdrawl\n",
    "        return (\"after withdrawl amount \"+str(withdrawl))\n",
    "    \n",
    "obj=bank_details(56000)\n",
    "print(obj.deposit(500))\n",
    "print(obj.withdraw(300))                   \n",
    "    \n",
    "    "
   ]
  },
  {
   "cell_type": "code",
   "execution_count": 35,
   "metadata": {},
   "outputs": [],
   "source": [
    "#In object-oriented languages like Python, the interface is a collection of method signatures that should be provided by the implementing class. \n",
    "# Implementing an interface is a way of writing an organized code and achieve abstraction.\n"
   ]
  },
  {
   "cell_type": "code",
   "execution_count": 36,
   "metadata": {},
   "outputs": [
    {
     "name": "stdout",
     "output_type": "stream",
     "text": [
      "animals eating is leaves\n",
      "animals sleeping is shed\n"
     ]
    }
   ],
   "source": [
    "from abc import ABC,abstractmethod\n",
    "class animals(ABC):\n",
    "    @ abstractmethod\n",
    "    def eat(self):\n",
    "        pass\n",
    "    @ abstractmethod \n",
    "    def sleep(slef):\n",
    "        pass\n",
    "class behaviour(animals):\n",
    "    def eat(self,eating):\n",
    "        return (\"animals eating is \"+str(eating))\n",
    "    def sleep(self,sleeping):\n",
    "        return (\"animals sleeping is \"+str(sleeping))\n",
    "obj=behaviour()\n",
    "print(obj.eat('leaves'))\n",
    "print(obj.sleep('shed'))         "
   ]
  },
  {
   "cell_type": "code",
   "execution_count": null,
   "metadata": {},
   "outputs": [],
   "source": [
    "#Encapsulation allows abstraction. \n",
    "# Encapsulation is the process of hiding the implementation details of an object from the outside world, and only exposing a public interface for interacting with the object. \n",
    "# An example of encapsulation in the real world is a car engine.\n"
   ]
  },
  {
   "cell_type": "code",
   "execution_count": null,
   "metadata": {},
   "outputs": [],
   "source": [
    "#Abstraction: Abstract classes and methods provide a way to define a blueprint or template for a class without providing a complete implementation. \n",
    "# This allows you to create a high-level abstract representation of an object or concept in your code.\n"
   ]
  },
  {
   "cell_type": "code",
   "execution_count": 23,
   "metadata": {},
   "outputs": [
    {
     "name": "stdout",
     "output_type": "stream",
     "text": [
      "now vechile is start\n",
      "now vechile is stop\n"
     ]
    }
   ],
   "source": [
    "from abc import ABC,abstractmethod\n",
    "class vechile_system(ABC):\n",
    "    @ abstractmethod\n",
    "    def start(self):\n",
    "        pass\n",
    "    @ abstractmethod\n",
    "    def stop(self):\n",
    "        pass\n",
    "class vechile_information(vechile_system):\n",
    "    def start(self):\n",
    "        return (\"now vechile is start\")\n",
    "    def stop(self):\n",
    "        return (\"now vechile is stop\")\n",
    "obj=vechile_information()\n",
    "print(obj.start())\n",
    "print(obj.stop())       \n",
    "    "
   ]
  },
  {
   "cell_type": "code",
   "execution_count": 37,
   "metadata": {},
   "outputs": [],
   "source": [
    "#Properties are Pythonic ways of using getters and setters. The abc module has a @abstractproperty decorator to use abstract properties.\n",
    "# Just like abstract methods, we need to define abstract properties in implementation classes. Otherwise, Python will raise the error.\n"
   ]
  },
  {
   "cell_type": "code",
   "execution_count": 38,
   "metadata": {},
   "outputs": [
    {
     "name": "stdout",
     "output_type": "stream",
     "text": [
      "manager salary:78000\n",
      "developer salary:60000\n",
      "designer salary:55000\n"
     ]
    }
   ],
   "source": [
    "from abc import ABC,abstractmethod\n",
    "class emplyoees(ABC):\n",
    "    @ abstractmethod\n",
    "    def get_salary(self):\n",
    "        pass\n",
    "class manager(emplyoees):\n",
    "    def get_salary(self,salary):\n",
    "        return (\"manager salary:\"+str(salary))\n",
    "class developer(emplyoees):\n",
    "    def get_salary(self,salary):\n",
    "        return (\"developer salary:\"+str(salary))\n",
    "class designer(emplyoees):\n",
    "    def get_salary(self,salary):\n",
    "        return (\"designer salary:\"+str(salary))\n",
    "obj=manager()\n",
    "print(obj.get_salary(78000))\n",
    "obj1=developer()\n",
    "print(obj1.get_salary(60000))\n",
    "obj2=designer()\n",
    "print(obj2.get_salary(55000))                "
   ]
  },
  {
   "cell_type": "code",
   "execution_count": null,
   "metadata": {},
   "outputs": [],
   "source": [
    "#Unlike some other programming languages, abstract Python methods don't need to be completely abstract; they \n",
    "# can have some basic-level implementation that can be used by all the concrete classes. A Concrete class is a class that has a definition for all \n",
    "# its methods and has no abstract method.\n"
   ]
  },
  {
   "cell_type": "code",
   "execution_count": null,
   "metadata": {},
   "outputs": [],
   "source": [
    "#Abstract data types (ADTs) are a way of encapsulating data and operations on that data into a single unit. \n",
    "# Some of the key features of ADTs include: Abstraction: The user does not need to know the implementation of the data structure only essentials are provided.\n"
   ]
  },
  {
   "cell_type": "code",
   "execution_count": 27,
   "metadata": {},
   "outputs": [
    {
     "name": "stdout",
     "output_type": "stream",
     "text": [
      "POWER ON\n",
      "SHUT DOWN\n"
     ]
    }
   ],
   "source": [
    "from abc import ABC,abstractmethod\n",
    "class computer_system():\n",
    "    @ abstractmethod\n",
    "    def power_on(self):\n",
    "        pass\n",
    "    @ abstractmethod \n",
    "    def shutdown(self):\n",
    "        pass\n",
    "class computer_information(computer_system):\n",
    "    def power_on(self):\n",
    "        return (\"POWER ON\")\n",
    "    def shutdown(self):\n",
    "        return (\"SHUT DOWN\")\n",
    "obj=computer_information()\n",
    "print(obj.power_on())\n",
    "print(obj.shutdown())        "
   ]
  },
  {
   "cell_type": "code",
   "execution_count": null,
   "metadata": {},
   "outputs": [],
   "source": [
    "#Helps to increase security of an application or program as only important details are provided to the user.\n",
    "#It reduces the complexity of viewing the things.\n",
    "#Avoids code duplication and increases reusability.\n",
    "\n"
   ]
  },
  {
   "cell_type": "code",
   "execution_count": 39,
   "metadata": {},
   "outputs": [],
   "source": [
    "#Modularity is having smaller (more or less independent) problems to tackle, one by one. \n",
    "# Abstraction is being able to think about the modules themselves at a higher level, without worrying about the details of implementing each.\n"
   ]
  },
  {
   "cell_type": "code",
   "execution_count": 40,
   "metadata": {},
   "outputs": [
    {
     "name": "stdout",
     "output_type": "stream",
     "text": [
      "add this book:x\n",
      "borrow this book y\n"
     ]
    }
   ],
   "source": [
    "from abc import ABC,abstractmethod\n",
    "class library_system(ABC):\n",
    "    @ abstractmethod\n",
    "    def add_book(self):\n",
    "        pass\n",
    "    @ abstractmethod\n",
    "    def borrow_book(self):\n",
    "        pass\n",
    "class library_information(library_system):\n",
    "    def add_book(self,add_book_name):\n",
    "        return (\"add this book:\"+str(add_book_name))\n",
    "    def borrow_book(self,borrow_book_name):\n",
    "        return (\"borrow this book \"+str(borrow_book_name))\n",
    "obj=library_information()\n",
    "print(obj.add_book('x'))\n",
    "print(obj.borrow_book('y'))         \n",
    "    "
   ]
  },
  {
   "cell_type": "code",
   "execution_count": 41,
   "metadata": {},
   "outputs": [],
   "source": [
    "#Abstraction refers to no specific detail of something, and Polymorphism refers to methods of different objects have the same, but do different task.\n"
   ]
  },
  {
   "cell_type": "code",
   "execution_count": 42,
   "metadata": {},
   "outputs": [],
   "source": [
    "# composition"
   ]
  },
  {
   "cell_type": "code",
   "execution_count": 43,
   "metadata": {},
   "outputs": [],
   "source": [
    "#Composition is a concept that models a has a relationship. It enables creating complex types by combining objects of other types.\n",
    "# This means that a class Composite can contain an object of another class Component . This relationship means that a Composite has a Component .\n"
   ]
  },
  {
   "cell_type": "code",
   "execution_count": 44,
   "metadata": {},
   "outputs": [],
   "source": [
    "#Composition is a concept that models a has a relationship. It enables creating complex types by combining objects of other types.\n",
    "# This means that a class Composite can contain an object of another class Component . This relationship means that a Composite has a Component .\n"
   ]
  },
  {
   "cell_type": "code",
   "execution_count": 45,
   "metadata": {},
   "outputs": [
    {
     "name": "stdout",
     "output_type": "stream",
     "text": [
      "kusum\n",
      "20\n"
     ]
    }
   ],
   "source": [
    "class Author():\n",
    "    def __init__(self,name,birthdate):\n",
    "        self.name=name\n",
    "        self.birthdate=birthdate\n",
    "class Book(Author):\n",
    "    def __init__(self):\n",
    "        obj=Author('kusum',20)\n",
    "        print(obj.name)\n",
    "        print(obj.birthdate)\n",
    "obj1=Book()\n",
    "                \n",
    "                "
   ]
  },
  {
   "cell_type": "code",
   "execution_count": 46,
   "metadata": {},
   "outputs": [],
   "source": [
    "\n",
    "#To favor composition over inheritance is a design principle that gives the design higher flexibility. \n",
    "# It is more natural to build business-domain classes out of various components than trying to find commonality between them and creating a family tree.\n"
   ]
  },
  {
   "cell_type": "code",
   "execution_count": 5,
   "metadata": {},
   "outputs": [
    {
     "name": "stdout",
     "output_type": "stream",
     "text": [
      "x\n",
      "a\n"
     ]
    }
   ],
   "source": [
    "class music_player_system():\n",
    "    def __init__(self,playlists,songs):\n",
    "        self.playlists=playlists\n",
    "        self.songs=songs\n",
    "class music_regarding_information(music_player_system):\n",
    "    obj=music_player_system('x','a')\n",
    "    print(obj.playlists)\n",
    "    print(obj.songs)\n",
    "    \n",
    "            "
   ]
  },
  {
   "cell_type": "code",
   "execution_count": null,
   "metadata": {},
   "outputs": [],
   "source": [
    "#In Java, a Has-A relationship is otherwise called composition. It is additionally utilized for code reusability in Java. \n",
    "# In Java, a Has-A relationship essentially implies that an example of one class has a reference to an occasion of another class or another occurrence of a similar class.\n"
   ]
  },
  {
   "cell_type": "code",
   "execution_count": 39,
   "metadata": {},
   "outputs": [
    {
     "name": "stdout",
     "output_type": "stream",
     "text": [
      "x\n",
      "6.4\n",
      "y\n"
     ]
    }
   ],
   "source": [
    "class computer_system():\n",
    "    def __init__(self,CPU,RAM,storage_device):\n",
    "        self.cpu=CPU\n",
    "        self.ram=RAM\n",
    "        self.storage_device=storage_device\n",
    "class computer_information(computer_system):\n",
    "    def __init__(self):\n",
    "        obj=computer_system('x',6.4,'y')\n",
    "        print(obj.cpu)\n",
    "        print(obj.ram)\n",
    "        print(obj.storage_device)\n",
    "obj2=computer_information()                "
   ]
  },
  {
   "cell_type": "code",
   "execution_count": null,
   "metadata": {},
   "outputs": [],
   "source": [
    "#Delegation is a way to make composition as powerful for reuse as inheritance [Lie86, JZ91].\n",
    "# In delegation, two objects are involved in handling a request: a receiving object delegates operations to its delegate.\n"
   ]
  },
  {
   "cell_type": "code",
   "execution_count": 41,
   "metadata": {},
   "outputs": [
    {
     "name": "stdout",
     "output_type": "stream",
     "text": [
      "x\n",
      "4\n",
      "mphj\n"
     ]
    }
   ],
   "source": [
    "class car():\n",
    "    def __init__(self,engine,wheels,tranmission):\n",
    "        self.engine=engine\n",
    "        self.wheels=wheels\n",
    "        self.tranmission=tranmission\n",
    "class car_information(car):\n",
    "    def __init__(self):\n",
    "        obj=car('x',4,'mphj')\n",
    "        print(obj.engine)\n",
    "        print(obj.wheels)\n",
    "        print(obj.tranmission)\n",
    "obj1=car_information()                "
   ]
  },
  {
   "cell_type": "code",
   "execution_count": 43,
   "metadata": {},
   "outputs": [
    {
     "name": "stdout",
     "output_type": "stream",
     "text": [
      "kusum\n",
      "python\n",
      "deeplearing notes\n"
     ]
    }
   ],
   "source": [
    "class university_course():\n",
    "    def __init__(self,student,instructor,course_materials):\n",
    "        self.student=student\n",
    "        self.insturctor=instructor\n",
    "        self.course_materials=course_materials\n",
    "class university_courses_details(university_course):\n",
    "    def __init__(self):\n",
    "        obj=university_course('kusum','python','deeplearing notes')\n",
    "        print(obj.student)\n",
    "        print(obj.insturctor)\n",
    "        print(obj.course_materials)\n",
    "obj1=university_courses_details()                "
   ]
  },
  {
   "cell_type": "code",
   "execution_count": null,
   "metadata": {},
   "outputs": [],
   "source": [
    "#There are always tradeoffs. These are the disadvantages of tight coupling. \n",
    "# Tightly coupled systems can be challenging to scale because adding new components or increasing the size of existing components may require significant \n",
    "# changes to other parts of the system.\n"
   ]
  },
  {
   "cell_type": "code",
   "execution_count": 45,
   "metadata": {},
   "outputs": [
    {
     "name": "stdout",
     "output_type": "stream",
     "text": [
      "dosa\n",
      "creamy burger\n",
      "k\n"
     ]
    }
   ],
   "source": [
    "class restaurant_system():\n",
    "    def __init__(self,minues,dishes,ingridents):\n",
    "        self.minues=minues\n",
    "        self.dishes=dishes\n",
    "        self.ingridents=ingridents\n",
    "class restaurant_information(restaurant_system):\n",
    "    def __init__(self):\n",
    "        obj=restaurant_system(\"dosa\",'creamy burger','k') \n",
    "        print(obj.minues)\n",
    "        print(obj.dishes)\n",
    "        print(obj.ingridents)\n",
    "obj2=restaurant_information()               "
   ]
  },
  {
   "cell_type": "code",
   "execution_count": 47,
   "metadata": {},
   "outputs": [
    {
     "name": "stdout",
     "output_type": "stream",
     "text": [
      "x\n",
      "y\n",
      "z\n"
     ]
    }
   ],
   "source": [
    "class computer_game_character():\n",
    "    def __init__(self,weapons,armor,inventory):\n",
    "        self.weapons=weapons\n",
    "        self.armor=armor\n",
    "        self.inventory=inventory\n",
    "class computer_game_details(computer_game_character):\n",
    "    def __init__(self):\n",
    "        obj=computer_game_character('x','y','z') \n",
    "        print(obj.weapons) \n",
    "        print(obj.armor)\n",
    "        print(obj.inventory)\n",
    "obj1=computer_game_details()              "
   ]
  },
  {
   "cell_type": "code",
   "execution_count": null,
   "metadata": {},
   "outputs": [],
   "source": [
    "#Aggregation refers to the grouping of instances of a class, and composition refers to the attributes of a specific instance of a class. \n",
    "# These ideas are similar in some respects, but differ in that aggregation uses the instances, and composition owns the attributes.\n"
   ]
  },
  {
   "cell_type": "code",
   "execution_count": 49,
   "metadata": {},
   "outputs": [
    {
     "name": "stdout",
     "output_type": "stream",
     "text": [
      "5\n",
      "7\n",
      "a\n"
     ]
    }
   ],
   "source": [
    "class house():\n",
    "    def __init__(self,room,furniture,appliance):\n",
    "        self.room=room \n",
    "        self.furniture=furniture\n",
    "        self.appliance=appliance\n",
    "class house_details(house):\n",
    "    def __init__(self):\n",
    "        obj=house(5,7,'a')\n",
    "        print(obj.room)\n",
    "        print(obj.furniture)\n",
    "        print(obj.appliance)\n",
    "obj1=house_details()                "
   ]
  },
  {
   "cell_type": "code",
   "execution_count": null,
   "metadata": {},
   "outputs": [],
   "source": [
    "#An aggregate object is one which contains other objects. For example, an Airplane class would contain Engine, Wing, Tail, Crew objects. \n",
    "# Sometimes the class aggregation corresponds to physical containment in the model (like the airplane). But sometimes it is more abstract (e.g. Club and Members).\n"
   ]
  },
  {
   "cell_type": "code",
   "execution_count": 50,
   "metadata": {},
   "outputs": [
    {
     "name": "stdout",
     "output_type": "stream",
     "text": [
      "kusum@67\n",
      "image\n",
      "like\n"
     ]
    }
   ],
   "source": [
    "class social_media_application():\n",
    "    def __init__(self,users,post,comment):\n",
    "        self.users=users\n",
    "        self.post=post\n",
    "        self.comment=comment\n",
    "class social_media_details(social_media_application):\n",
    "    def __init__(self):\n",
    "        obj=social_media_application('kusum@67','image','like') \n",
    "        print(obj.users)\n",
    "        print(obj.post)\n",
    "        print(obj.comment)\n",
    "obj1=social_media_details()               \n"
   ]
  }
 ],
 "metadata": {
  "kernelspec": {
   "display_name": "Python 3",
   "language": "python",
   "name": "python3"
  },
  "language_info": {
   "codemirror_mode": {
    "name": "ipython",
    "version": 3
   },
   "file_extension": ".py",
   "mimetype": "text/x-python",
   "name": "python",
   "nbconvert_exporter": "python",
   "pygments_lexer": "ipython3",
   "version": "3.11.4"
  }
 },
 "nbformat": 4,
 "nbformat_minor": 2
}
