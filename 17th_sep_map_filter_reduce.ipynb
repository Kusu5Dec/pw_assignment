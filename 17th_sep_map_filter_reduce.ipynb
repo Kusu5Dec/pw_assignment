{
 "cells": [
  {
   "cell_type": "code",
   "execution_count": 1,
   "metadata": {},
   "outputs": [],
   "source": [
    "# for loop:"
   ]
  },
  {
   "cell_type": "code",
   "execution_count": 3,
   "metadata": {},
   "outputs": [
    {
     "name": "stdout",
     "output_type": "stream",
     "text": [
      "1\n",
      "2\n",
      "3\n",
      "4\n",
      "5\n",
      "6\n",
      "7\n",
      "8\n",
      "9\n",
      "10\n"
     ]
    }
   ],
   "source": [
    "def my_python():\n",
    "    for item in range(1,11):\n",
    "        print(item)\n",
    "my_python()    "
   ]
  },
  {
   "cell_type": "code",
   "execution_count": null,
   "metadata": {},
   "outputs": [],
   "source": [
    "# For loop is used to iterate over a sequence of items.\n",
    "# While loop is used to repeatedly execute a block of statements while a condition is true. For loops are designed for iterating over a sequence of items.\n"
   ]
  },
  {
   "cell_type": "code",
   "execution_count": 10,
   "metadata": {},
   "outputs": [
    {
     "name": "stdout",
     "output_type": "stream",
     "text": [
      "5050\n"
     ]
    }
   ],
   "source": [
    "def sum_number():\n",
    "    sum=0\n",
    "    for item in range(1,101):\n",
    "        sum=sum+item\n",
    "    print(sum)    \n",
    "\n",
    "        \n",
    "sum_number()    \n",
    "    "
   ]
  },
  {
   "cell_type": "code",
   "execution_count": 11,
   "metadata": {},
   "outputs": [],
   "source": [
    "# To iterate through lst1 , a for loop is used. Each integer is passed in a single iteration; the append() function saves it to lst2 .\n",
    "# After applying the provided function to each item in a specified iterable, map() produces a map object (which is an iterator) of the results.\n"
   ]
  },
  {
   "cell_type": "code",
   "execution_count": 16,
   "metadata": {},
   "outputs": [
    {
     "name": "stdout",
     "output_type": "stream",
     "text": [
      "120\n"
     ]
    }
   ],
   "source": [
    "def product_elements(l):\n",
    "    product=1\n",
    "    for item in l:\n",
    "        product=product*item\n",
    "    print(product)    \n",
    "        \n",
    "    \n",
    "        \n",
    "    \n",
    "    \n",
    "product_elements([1,2,3,4,5])    "
   ]
  },
  {
   "cell_type": "code",
   "execution_count": 18,
   "metadata": {},
   "outputs": [
    {
     "name": "stdout",
     "output_type": "stream",
     "text": [
      "2\n",
      "4\n",
      "6\n",
      "8\n",
      "10\n",
      "12\n",
      "14\n",
      "16\n",
      "18\n",
      "20\n"
     ]
    }
   ],
   "source": [
    "def even_number():\n",
    "    for item in range(1,21):\n",
    "        if item%2==0:\n",
    "            print(item)\n",
    "even_number()    "
   ]
  },
  {
   "cell_type": "code",
   "execution_count": 25,
   "metadata": {},
   "outputs": [
    {
     "name": "stdout",
     "output_type": "stream",
     "text": [
      "24\n"
     ]
    }
   ],
   "source": [
    "def factorial_number(n):\n",
    "    \n",
    "    fact=1\n",
    "    for item in n:\n",
    "        fact=fact*item\n",
    "    print(fact)    \n",
    "    \n",
    "factorial_number(range(1,5))    "
   ]
  },
  {
   "cell_type": "code",
   "execution_count": 26,
   "metadata": {},
   "outputs": [],
   "source": [
    "# You can use the Python range() function to get the range of the sequence and use the len() function to get the length of the Passed object.\n",
    "# You can iterate range(0, len(str)) using for loop, for every iteration to get the index and corresponding character of the string.\n"
   ]
  },
  {
   "cell_type": "code",
   "execution_count": 33,
   "metadata": {},
   "outputs": [
    {
     "name": "stdout",
     "output_type": "stream",
     "text": [
      "100\n"
     ]
    }
   ],
   "source": [
    "def largest_number(l):\n",
    "    max=l[0]\n",
    "    for item in l:\n",
    "        if max < item:\n",
    "            max=item\n",
    "    print(max)        \n",
    "            \n",
    "            \n",
    "        \n",
    "        \n",
    "        \n",
    "        \n",
    "largest_number([34,87,100,90])    "
   ]
  },
  {
   "cell_type": "code",
   "execution_count": 24,
   "metadata": {},
   "outputs": [
    {
     "name": "stdout",
     "output_type": "stream",
     "text": [
      "34\n"
     ]
    }
   ],
   "source": [
    "def fibonaic_number(n):\n",
    "    a=0\n",
    "    b=1\n",
    "    if n < 0:\n",
    "        return(\"invalid input\")\n",
    "    elif n == 0:\n",
    "        return 0\n",
    "    elif n == 1:\n",
    "        return 1\n",
    "    else:\n",
    "        for item in range(1,n):\n",
    "            c = a + b\n",
    "            a = b\n",
    "            b = c\n",
    "\n",
    "        return b\n",
    "                \n",
    "    \n",
    "print(fibonaic_number(9))\n",
    "    \n",
    "    "
   ]
  },
  {
   "cell_type": "code",
   "execution_count": 36,
   "metadata": {},
   "outputs": [
    {
     "name": "stdout",
     "output_type": "stream",
     "text": [
      "2\n"
     ]
    }
   ],
   "source": [
    "def count_vowels():\n",
    "    string=input(\"please enter the string\")\n",
    "    count=0\n",
    "    vowels=\"aeiou\"\n",
    "    lowercase=string.lower()\n",
    "    for item in string:\n",
    "        if item in vowels:\n",
    "            count=count+1\n",
    "    print(count)        \n",
    "count_vowels()    "
   ]
  },
  {
   "cell_type": "code",
   "execution_count": 41,
   "metadata": {},
   "outputs": [
    {
     "name": "stdout",
     "output_type": "stream",
     "text": [
      "6\n",
      "12\n",
      "18\n",
      "24\n",
      "30\n",
      "36\n",
      "42\n",
      "48\n",
      "54\n",
      "60\n"
     ]
    }
   ],
   "source": [
    "def multiplication():\n",
    "    number=int(input(\"please enter the number\"))\n",
    "    for item in range(1,11):\n",
    "        a=item*number\n",
    "        print(a)    \n",
    "multiplication()    "
   ]
  },
  {
   "cell_type": "code",
   "execution_count": 44,
   "metadata": {},
   "outputs": [
    {
     "name": "stdout",
     "output_type": "stream",
     "text": [
      "[5, 10, 9, 8, 7]\n"
     ]
    }
   ],
   "source": [
    "def reverse(l):\n",
    "    l1=[]\n",
    "    for item in l:\n",
    "        l1=[item]+l1\n",
    "    print(l1)\n",
    "reverse([7,8,9,10,5])    "
   ]
  },
  {
   "cell_type": "code",
   "execution_count": 60,
   "metadata": {},
   "outputs": [
    {
     "name": "stdout",
     "output_type": "stream",
     "text": [
      "[6, 7]\n"
     ]
    }
   ],
   "source": [
    "def common_number(a,b):\n",
    "    d=[]\n",
    "    e=0\n",
    "    for item in a:\n",
    "        for item2 in b:\n",
    "            if item == item2:\n",
    "                d.append(item)\n",
    "    return d            \n",
    "    \n",
    "            \n",
    "                \n",
    "                \n",
    "c=common_number([1,3,6,7],[2,4,6,7])\n",
    "print(c)\n",
    "\n",
    "    "
   ]
  },
  {
   "cell_type": "code",
   "execution_count": 52,
   "metadata": {},
   "outputs": [],
   "source": [
    "# In Python, to iterate through a dictionary ( dict ) with a for loop, use the keys() , values() , and items() methods. \n",
    "# You can also get a list of all the keys and values in a dictionary using those methods and list() .\n"
   ]
  },
  {
   "cell_type": "code",
   "execution_count": 77,
   "metadata": {},
   "outputs": [
    {
     "name": "stdout",
     "output_type": "stream",
     "text": [
      "12\n"
     ]
    }
   ],
   "source": [
    "def greatest_common_divisor():\n",
    "    num1=36\n",
    "    num2=60\n",
    "    gcd=1\n",
    "    for item in range (1,min(num1,num2)):\n",
    "        if num1% item == 0 and num2%item==0:\n",
    "            gcd=item\n",
    "    print(gcd)        \n",
    "    \n",
    "greatest_common_divisor()\n",
    "    \n",
    "    "
   ]
  },
  {
   "cell_type": "code",
   "execution_count": 98,
   "metadata": {},
   "outputs": [
    {
     "name": "stdout",
     "output_type": "stream",
     "text": [
      "it is palindrome\n"
     ]
    }
   ],
   "source": [
    "def palindrome():\n",
    "    string=input(\"please enter the string\")\n",
    "    reversestring=\"\"\n",
    "    for item in string:\n",
    "        reversestring=item+reversestring\n",
    "    if string == reversestring:\n",
    "        print(\"it is palindrome\")\n",
    "    else:\n",
    "        print(\"it is not palindrome\")    \n",
    "palindrome()    "
   ]
  },
  {
   "cell_type": "code",
   "execution_count": 111,
   "metadata": {},
   "outputs": [
    {
     "name": "stdout",
     "output_type": "stream",
     "text": [
      "[1, 2, 3, 4, 8, 6, 7]\n"
     ]
    }
   ],
   "source": [
    "def duplicates_number(l):\n",
    "    l1=[]\n",
    "    for item in l:\n",
    "        if item not in l1:\n",
    "            l1.append(item)\n",
    "    print(l1)\n",
    "        \n",
    "        \n",
    "    \n",
    "duplicates_number([1,2,3,4,8,4,6,7,7,7,8])    "
   ]
  },
  {
   "cell_type": "code",
   "execution_count": 28,
   "metadata": {},
   "outputs": [
    {
     "name": "stdout",
     "output_type": "stream",
     "text": [
      "17\n"
     ]
    }
   ],
   "source": [
    "def count_words(b):\n",
    "    word_count=1\n",
    "    for item in range(len(b)):\n",
    "        word_count=word_count+1\n",
    "    return (word_count)    \n",
    "\n",
    "sentence=input(\"please enter the sentence\")         \n",
    "a=count_words(sentence)\n",
    "print(a)    "
   ]
  },
  {
   "cell_type": "code",
   "execution_count": 118,
   "metadata": {},
   "outputs": [
    {
     "name": "stdout",
     "output_type": "stream",
     "text": [
      "625\n"
     ]
    }
   ],
   "source": [
    "def sum_odd_numbers():\n",
    "    sum=0\n",
    "    for item in range(1,51):\n",
    "        if item%2!=0:\n",
    "            sum=sum+item\n",
    "    print(sum)\n",
    "            \n",
    "    \n",
    "sum_odd_numbers()    "
   ]
  },
  {
   "cell_type": "code",
   "execution_count": 25,
   "metadata": {},
   "outputs": [
    {
     "name": "stdout",
     "output_type": "stream",
     "text": [
      "it is leap year\n"
     ]
    }
   ],
   "source": [
    "def leap_year():\n",
    "    y=int(input(\"please enter the year\"))\n",
    "    if y % 4 == 0 and y % 100 !=0 or y %400==0:\n",
    "        print(\"it is leap year\")\n",
    "    else:\n",
    "        print(\"it is not leap yaer\")        \n",
    "leap_year()   "
   ]
  },
  {
   "cell_type": "code",
   "execution_count": 22,
   "metadata": {},
   "outputs": [
    {
     "name": "stdout",
     "output_type": "stream",
     "text": [
      "1\n",
      "4\n",
      "9\n",
      "16\n",
      "25\n"
     ]
    }
   ],
   "source": [
    "def square_root(*number):\n",
    "    for item in number:\n",
    "        a=item**2\n",
    "        print(a)\n",
    "        \n",
    "\n",
    "square_root(1,2,3,4,5)    "
   ]
  },
  {
   "cell_type": "code",
   "execution_count": 33,
   "metadata": {},
   "outputs": [
    {
     "name": "stdout",
     "output_type": "stream",
     "text": [
      "180\n"
     ]
    }
   ],
   "source": [
    "def least_common_multiple(a,b):\n",
    "    gcd=1\n",
    "    for item in range(1,min(a,b)):\n",
    "        if a % item == 0 and b% item ==0:\n",
    "            gcd=item\n",
    "    lcm=(a*b//gcd)\n",
    "    return lcm\n",
    "number1=int(input(\"please enter the number\"))\n",
    "number2=int(input(\"please enter the number2\"))    \n",
    "c= least_common_multiple(number1,number2)\n",
    "print(c)    "
   ]
  },
  {
   "cell_type": "code",
   "execution_count": 34,
   "metadata": {},
   "outputs": [],
   "source": [
    "# if- else"
   ]
  },
  {
   "cell_type": "code",
   "execution_count": 38,
   "metadata": {},
   "outputs": [
    {
     "name": "stdout",
     "output_type": "stream",
     "text": [
      "zero number\n"
     ]
    }
   ],
   "source": [
    "def postive_negative_zero(a):\n",
    "    if a > 0:\n",
    "        return \"postive number\"\n",
    "    elif a < 0:\n",
    "        return \"negative number\"\n",
    "    else:\n",
    "        return \"zero number\"    \n",
    "number=int(input(\"please enter the number\"))    \n",
    "b=postive_negative_zero(number)\n",
    "print(b)    "
   ]
  },
  {
   "cell_type": "code",
   "execution_count": 51,
   "metadata": {},
   "outputs": [
    {
     "name": "stdout",
     "output_type": "stream",
     "text": [
      "odd number\n"
     ]
    }
   ],
   "source": [
    "def even_odd_number(a):\n",
    "    if a % 2 == 0:\n",
    "        return \"even number\"\n",
    "    else:\n",
    "        return \"odd number\"\n",
    "number=int(input(\"please enter the number\"))    \n",
    "b=even_odd_number(number)\n",
    "print(b)    "
   ]
  },
  {
   "cell_type": "code",
   "execution_count": 48,
   "metadata": {},
   "outputs": [
    {
     "name": "stdout",
     "output_type": "stream",
     "text": [
      "A\n"
     ]
    }
   ],
   "source": [
    "def my_python(letter):\n",
    "    if letter == \"B\":\n",
    "        return \"B\"\n",
    "        if letter == \"C\":\n",
    "            return \"C\"\n",
    "    else:\n",
    "        if letter == \"A\":\n",
    "            return \"A\"\n",
    "        else:\n",
    "            return \"A,B,C\"\n",
    "result=my_python(\"A\")\n",
    "print(result)\n",
    "\n"
   ]
  },
  {
   "cell_type": "code",
   "execution_count": 52,
   "metadata": {},
   "outputs": [
    {
     "name": "stdout",
     "output_type": "stream",
     "text": [
      "b is largest\n"
     ]
    }
   ],
   "source": [
    "def largest_number(a,b,c):\n",
    "    if a > b and a > c:\n",
    "        return \"a is  largest\"\n",
    "    elif b > a and b > c:\n",
    "        return \"b is largest\"\n",
    "    else:\n",
    "        return \"c is largest\"\n",
    "        \n",
    "num1=int(input(\"please enter the number1\")) \n",
    "num2=int(input(\"please enter the number2\"))\n",
    "num3=int(input(\"please enter the number3\"))   \n",
    "k=largest_number(num1,num2,num3)\n",
    "print(k)    "
   ]
  },
  {
   "cell_type": "code",
   "execution_count": 53,
   "metadata": {},
   "outputs": [
    {
     "name": "stdout",
     "output_type": "stream",
     "text": [
      "absolute number\n"
     ]
    }
   ],
   "source": [
    "def absolute_number(a):\n",
    "    if a < 0:\n",
    "        return \"absolute number\"\n",
    "    else:\n",
    "        return \"not absolute number\"\n",
    "number=int(input(\"please enter the number\"))    \n",
    "k=absolute_number(number)\n",
    "print(k)    "
   ]
  },
  {
   "cell_type": "code",
   "execution_count": 54,
   "metadata": {},
   "outputs": [
    {
     "name": "stdout",
     "output_type": "stream",
     "text": [
      "it is consotant\n"
     ]
    }
   ],
   "source": [
    "def vowel_consotant(a):\n",
    "    vowel=\"aeiou\"\n",
    "    lower_case=a.lower()\n",
    "    if lower_case in vowel:\n",
    "        return \"it is vowel\"\n",
    "    else:\n",
    "        return \"it is consotant\"\n",
    "b=input(\"please enter the char\")    \n",
    "c=vowel_consotant(b)\n",
    "print(c)    "
   ]
  },
  {
   "cell_type": "code",
   "execution_count": 63,
   "metadata": {},
   "outputs": [
    {
     "name": "stdout",
     "output_type": "stream",
     "text": [
      "('sunil', 'sorry  is not elgible for voting')\n"
     ]
    }
   ],
   "source": [
    "def eligble(a,b):\n",
    "    if b >= 18:\n",
    "        return (a, \"is elgible for voting\")\n",
    "    else:\n",
    "        return (a,\"sorry  is not elgible for voting\")\n",
    "name=input(\"please enter the name\")\n",
    "age=int(input(\"please enter the age\"))    \n",
    "c=eligble(name,age)\n",
    "print(c)    "
   ]
  },
  {
   "cell_type": "code",
   "execution_count": 65,
   "metadata": {},
   "outputs": [
    {
     "name": "stdout",
     "output_type": "stream",
     "text": [
      "4600.0\n"
     ]
    }
   ],
   "source": [
    "def discount(a):\n",
    "    if a > 0 and a <=5000:\n",
    "        return(a*0.05)\n",
    "    elif a > 5000 and a <=15000:\n",
    "        return(a*0.12)\n",
    "    elif a > 15000 and a <= 25000:\n",
    "        return(a*0.20)\n",
    "    else:\n",
    "        return(a*0.30)\n",
    "amount=int(input(\"please enter the sales amount\"))    \n",
    "k=discount(amount)\n",
    "print(k)    "
   ]
  },
  {
   "cell_type": "code",
   "execution_count": 69,
   "metadata": {},
   "outputs": [
    {
     "name": "stdout",
     "output_type": "stream",
     "text": [
      "it is not present range\n"
     ]
    }
   ],
   "source": [
    "def specified_range(a,b):\n",
    "    if a in b:\n",
    "        return \"it is present range\"\n",
    "    else:\n",
    "        return \"it is not present range\"\n",
    "    \n",
    "number=int(input(\"please enter the number\"))    \n",
    "k=specified_range(number,range(2,20,23))\n",
    "print(k)    "
   ]
  },
  {
   "cell_type": "code",
   "execution_count": 71,
   "metadata": {},
   "outputs": [
    {
     "name": "stdout",
     "output_type": "stream",
     "text": [
      "B+ grade\n"
     ]
    }
   ],
   "source": [
    "def score_grade(a):\n",
    "    if a > 90 and a <=100:\n",
    "        return \"A+ grade\"\n",
    "    elif a > 80 and a <=90:\n",
    "        return \"A grade\"\n",
    "    elif a > 70 and a <= 80:\n",
    "        return \"B+ grade\"\n",
    "    elif a > 60 and a <= 70:\n",
    "        return \"B grade\"\n",
    "    elif a > 50 and a <= 60:\n",
    "        return \"C+ grade\"\n",
    "    elif a > 40 and a <= 50:\n",
    "        return \"C grade\"\n",
    "    elif a > 30 and a <= 40:\n",
    "        return \"D grade\"\n",
    "    else:\n",
    "        return \"Fail\" \n",
    "    \n",
    "score=int(input(\"please enter the score\"))    \n",
    "k=score_grade(score)\n",
    "print(k)    "
   ]
  },
  {
   "cell_type": "code",
   "execution_count": 78,
   "metadata": {},
   "outputs": [
    {
     "name": "stdout",
     "output_type": "stream",
     "text": [
      "it is empty string\n"
     ]
    }
   ],
   "source": [
    "def check_string(a):\n",
    "    if a == \"\":\n",
    "        return \"it is empty string\"\n",
    "    else:\n",
    "        return \"it is not empty string\"\n",
    "string=input(\"please enter the string\")    \n",
    "k=check_string(string)\n",
    "print(k)    "
   ]
  },
  {
   "cell_type": "code",
   "execution_count": 80,
   "metadata": {},
   "outputs": [
    {
     "name": "stdout",
     "output_type": "stream",
     "text": [
      "iscoscles triangle\n"
     ]
    }
   ],
   "source": [
    "def traiangle(a,b,c):\n",
    "    if a == b == c:\n",
    "        return \"equaliteral triangle\"\n",
    "    elif a==b or b== c or c==a:\n",
    "        return \"iscoscles triangle\"\n",
    "    else:\n",
    "        return \"scalene triangle\"\n",
    "    \n",
    "side1=int(input(\"please enter the side1\"))\n",
    "side2=int(input(\"please enter the side2\"))\n",
    "side3=int(input(\"please enter the side3\"))\n",
    "k=traiangle(side1,side2,side3)\n",
    "print(k)    "
   ]
  },
  {
   "cell_type": "code",
   "execution_count": 84,
   "metadata": {},
   "outputs": [
    {
     "name": "stdout",
     "output_type": "stream",
     "text": [
      " 4 day is wednesday\n"
     ]
    }
   ],
   "source": [
    "def day_of_week(x):\n",
    "    if x == 1:\n",
    "        return \"1  day is sunday\"\n",
    "    elif x == 2:\n",
    "        return \" 2  day is monday\"\n",
    "    elif x == 3:\n",
    "        return \" 3 day is tuesday\"\n",
    "    elif x ==4:\n",
    "        return \" 4 day is wednesday\"\n",
    "    elif x == 5:\n",
    "        return \" 5 day is thursday\"\n",
    "    elif x == 6:\n",
    "        return \" 6 day is friday\"\n",
    "    else:\n",
    "        return \" 7 day is saturday\"\n",
    "    \n",
    "    \n",
    "day_number=int(input(\"please enter number 1 to 7 \"))    \n",
    "y=day_of_week(day_number)\n",
    "print(y)    "
   ]
  },
  {
   "cell_type": "code",
   "execution_count": 86,
   "metadata": {},
   "outputs": [
    {
     "name": "stdout",
     "output_type": "stream",
     "text": [
      "no,leap year\n"
     ]
    }
   ],
   "source": [
    "def check_leap_year(x):\n",
    "    if x % 4==0 and x % 100 !=0 or x % 400 == 0:\n",
    "        return \"yes,leap year\"\n",
    "    else:\n",
    "        return \"no,leap year\"\n",
    "year=int(input(\"please enter the year\"))        \n",
    "y=check_leap_year(year)\n",
    "print(y)    "
   ]
  },
  {
   "cell_type": "code",
   "execution_count": 87,
   "metadata": {},
   "outputs": [],
   "source": [
    "# In Python, the assert keyword helps in achieving this task. This statement takes as input a boolean condition,\n",
    "# which when returns true doesn't do anything and continues the normal flow of execution, but if it is computed to be false, then it raises an AssertionError along with the optional message provided.05-May-2023\n"
   ]
  },
  {
   "cell_type": "code",
   "execution_count": 90,
   "metadata": {},
   "outputs": [
    {
     "name": "stdout",
     "output_type": "stream",
     "text": [
      "you are get 75% ticket discount\n"
     ]
    }
   ],
   "source": [
    "def senior_citizen_discount(x,y):\n",
    "    if y == \"male\":\n",
    "        if x > 50 and x < 60:\n",
    "            return \" you are get 10% ticket discount\"\n",
    "        elif x > 60 and x < 70:\n",
    "            return \"you are get 20% ticket discount\"\n",
    "        elif x > 70 and x < 80:\n",
    "            return \"you are get 50% ticket discount\"\n",
    "        else:\n",
    "            return \"you are get 70% ticket discount\"\n",
    "    elif y == \"female\":\n",
    "        if x > 45 and x < 55:\n",
    "            return \"you are get 10% ticket discount\"\n",
    "        elif x > 55 and x < 65:\n",
    "            return \"you are get 20% ticket discount\"\n",
    "        elif x > 65 and x < 75:\n",
    "            return \"you are get 60% ticket discount\"\n",
    "        else:\n",
    "            return \"you are get 75% ticket discount\" \n",
    "    else:\n",
    "        return \"input invalid\"    \n",
    "           \n",
    "        \n",
    "        \n",
    "age=int(input(\"please enter the age\"))\n",
    "gender=input(\"please enter the gender\")    \n",
    "z=senior_citizen_discount(age,gender)\n",
    "print(z)    "
   ]
  },
  {
   "cell_type": "code",
   "execution_count": 95,
   "metadata": {},
   "outputs": [
    {
     "name": "stdout",
     "output_type": "stream",
     "text": [
      "it is lowercase\n"
     ]
    }
   ],
   "source": [
    "def lower_upper_neither(x):\n",
    "    if x.islower():\n",
    "        return \"it is lowercase\"\n",
    "    elif x.isupper():\n",
    "        return \"it is uppercase\"\n",
    "    else:\n",
    "        return \"neithercase\"\n",
    "     \n",
    "character=input(\"please enter the character\")    \n",
    "y=lower_upper_neither(character)\n",
    "print(y)    \n",
    "    "
   ]
  },
  {
   "cell_type": "code",
   "execution_count": 3,
   "metadata": {},
   "outputs": [
    {
     "name": "stdout",
     "output_type": "stream",
     "text": [
      "True\n"
     ]
    }
   ],
   "source": [
    "def roots_quardtic(d,a,b,c):\n",
    "    if d > 0:\n",
    "        return (b*b>4*a*c)\n",
    "    elif d <0:\n",
    "        return (b*b<4*a*c)\n",
    "    else:\n",
    "        return (b*b == 4*a*c)\n",
    "z=int(input(\"please enter the d\"))    \n",
    "x=int(input(\"please enter the a\"))\n",
    "u=int(input(\"please enter the b\"))    \n",
    "y=int(input(\"please enter the c\"))   \n",
    "k=roots_quardtic(z,x,u,y)\n",
    "print(k)    "
   ]
  },
  {
   "cell_type": "code",
   "execution_count": 9,
   "metadata": {},
   "outputs": [
    {
     "name": "stdout",
     "output_type": "stream",
     "text": [
      "(21, 'century')\n"
     ]
    }
   ],
   "source": [
    "def century_year(x):\n",
    "    if x <=0:\n",
    "        return (\"0 and negative year not allowd\")\n",
    "    elif x <=100:\n",
    "        return (\"Ist century\")\n",
    "    elif x % 100 == 0:\n",
    "        return (year // 100,\"century\")\n",
    "    else:\n",
    "        return( year // 100 + 1 ,\"century\")\n",
    "year=int(input(\"please enter the year\"))    \n",
    "k=century_year(year)\n",
    "print(k)    "
   ]
  },
  {
   "cell_type": "code",
   "execution_count": 10,
   "metadata": {},
   "outputs": [],
   "source": [
    "#q20"
   ]
  },
  {
   "cell_type": "code",
   "execution_count": 11,
   "metadata": {},
   "outputs": [],
   "source": [
    "# The break statement is used to terminate the loop immediately. The continue statement is used to skip the current iteration of the loop. \n",
    "# break keyword is used to indicate break statements in java programming. continue keyword is used to indicate continue statement in java programming.\n"
   ]
  },
  {
   "cell_type": "code",
   "execution_count": 80,
   "metadata": {},
   "outputs": [
    {
     "name": "stdout",
     "output_type": "stream",
     "text": [
      "2.218934911242603 5.2 60.0\n",
      "underweight\n"
     ]
    }
   ],
   "source": [
    "def calculate_BMI(x,y,z):\n",
    "    if z < 18.5:\n",
    "        return \"underweight\"\n",
    "    elif z > 18.5 and z < 24.9:\n",
    "        return \"normal\"\n",
    "    elif z > 25 and z < 29.9:\n",
    "        return \"overweight\"\n",
    "    else:\n",
    "        return \"obese\"\n",
    "    \n",
    "height=float(input(\"please enter the height\"))\n",
    "weight=float(input(\"please enter the weight\"))\n",
    "BMI=weight/(height*height)\n",
    "print(BMI,height,weight)    \n",
    "    \n",
    "k=calculate_BMI(height,weight,BMI)\n",
    "print(k)    "
   ]
  },
  {
   "cell_type": "code",
   "execution_count": 13,
   "metadata": {},
   "outputs": [],
   "source": [
    "# The filter() function selects elements from an iterable (list, tuple etc.) based on the output of a function. \n",
    "# The function is applied to each element of the iterable and if it returns True , the element is selected by the filter() function.\n"
   ]
  },
  {
   "cell_type": "code",
   "execution_count": 49,
   "metadata": {},
   "outputs": [],
   "source": [
    "#Q 24   "
   ]
  },
  {
   "cell_type": "code",
   "execution_count": 15,
   "metadata": {},
   "outputs": [],
   "source": [
    "#map"
   ]
  },
  {
   "cell_type": "code",
   "execution_count": 16,
   "metadata": {},
   "outputs": [],
   "source": [
    "# Map in Python is a function that works as an iterator to return a result after applying a function to every item of an iterable (tuple, lists, etc.). \n",
    "# It is used when you want to apply a single transformation function to all the iterable elements. The iterable and function are passed as arguments to the map in Python.\n"
   ]
  },
  {
   "cell_type": "code",
   "execution_count": 27,
   "metadata": {},
   "outputs": [
    {
     "name": "stdout",
     "output_type": "stream",
     "text": [
      "[1, 4, 9, 16, 25]\n"
     ]
    }
   ],
   "source": [
    "def square(numbers):\n",
    "    square=list(map(lambda x : x**2,numbers))\n",
    "    return square\n",
    "\n",
    "k=square([1,2,3,4,5])\n",
    "print(k)    "
   ]
  },
  {
   "cell_type": "code",
   "execution_count": 34,
   "metadata": {},
   "outputs": [],
   "source": [
    "# map() used with a lambda function is usually slower than the equivalent list comprehension.\n",
    "# But if you use it with a named function instead, it gets faster. So which function should you use in your code? That really depends on your personal preference.\n"
   ]
  },
  {
   "cell_type": "code",
   "execution_count": 38,
   "metadata": {},
   "outputs": [
    {
     "name": "stdout",
     "output_type": "stream",
     "text": [
      "['KUSUM']\n"
     ]
    }
   ],
   "source": [
    "def uppercase(name):\n",
    "    uppercase=list(map(lambda x: x.upper(),name))\n",
    "    return uppercase\n",
    "a=uppercase([\"kusum\"])\n",
    "print(a)    "
   ]
  },
  {
   "cell_type": "code",
   "execution_count": 82,
   "metadata": {},
   "outputs": [
    {
     "name": "stdout",
     "output_type": "stream",
     "text": [
      "[5, 5, 5, 5]\n"
     ]
    }
   ],
   "source": [
    "def length(a):\n",
    "    length=list(map(lambda x: len(x),a ))\n",
    "    return length\n",
    "k=length([\"kusum\",\"sunil\",\"jyoti\",\"mukul\"])\n",
    "print(k)    "
   ]
  },
  {
   "cell_type": "code",
   "execution_count": 68,
   "metadata": {},
   "outputs": [],
   "source": [
    "# If you supply multiple iterables to map() , then the transformation function must take as many arguments as iterables you pass in. \n",
    "# Each iteration of map() will pass one value from each iterable as an argument to function . The iteration stops at the end of the shortest iterable.\n",
    "\n",
    "\n"
   ]
  },
  {
   "cell_type": "code",
   "execution_count": 85,
   "metadata": {},
   "outputs": [
    {
     "name": "stdout",
     "output_type": "stream",
     "text": [
      "[208.4, 113.0, 209.66000000000003, 154.04]\n"
     ]
    }
   ],
   "source": [
    "def temperature(fahrenhit):\n",
    "    f=list(map(lambda item : (item*9/5)+32,fahrenhit))\n",
    "    return f    \n",
    "    \n",
    "k=temperature([98,45,98.7,67.8])\n",
    "print(k)    "
   ]
  },
  {
   "cell_type": "code",
   "execution_count": 91,
   "metadata": {},
   "outputs": [
    {
     "name": "stdout",
     "output_type": "stream",
     "text": [
      "[68, 99, 67, 5]\n"
     ]
    }
   ],
   "source": [
    "def floating_number(number):\n",
    "    f=map(lambda item : round(item),number)\n",
    "    return list(f)\n",
    "k=floating_number([67.8,98.6,67.2,5.2])\n",
    "print(k)    "
   ]
  },
  {
   "cell_type": "code",
   "execution_count": 92,
   "metadata": {},
   "outputs": [],
   "source": [
    "# Reduce :-"
   ]
  },
  {
   "cell_type": "code",
   "execution_count": 93,
   "metadata": {},
   "outputs": [],
   "source": [
    "# reduce() in Python. The reduce(fun,seq) function is used to apply a particular function passed in its argument to all of the list elements mentioned in the sequence passed along.\n",
    "# This function is defined in “functools” module. Working : At first step, first two elements of sequence are picked and the result is obtained.\n"
   ]
  },
  {
   "cell_type": "code",
   "execution_count": 1,
   "metadata": {},
   "outputs": [
    {
     "name": "stdout",
     "output_type": "stream",
     "text": [
      "120\n"
     ]
    }
   ],
   "source": [
    "import functools\n",
    "def product(number):\n",
    "    p=functools.reduce(lambda x,y : x*y,number)\n",
    "    return p\n",
    "k=product([1,2,3,4,5])\n",
    "print(k)    "
   ]
  },
  {
   "cell_type": "code",
   "execution_count": 3,
   "metadata": {},
   "outputs": [
    {
     "name": "stdout",
     "output_type": "stream",
     "text": [
      "17\n"
     ]
    }
   ],
   "source": [
    "def maximum_element(number):\n",
    "    m=functools.reduce(lambda x,y : max(x,y),number)\n",
    "    return m\n",
    "k=maximum_element([4,9,10,17])\n",
    "print(k)    "
   ]
  },
  {
   "cell_type": "code",
   "execution_count": 4,
   "metadata": {},
   "outputs": [],
   "source": [
    "#To use the reduce() function, we first need to import it from the functools module. Then, we define a function that takes two strings as arguments and concatenates them. \n",
    "# The reduce() function applies this function cumulatively to the elements of the list, combining them into a single string.02-Aug-2023\n"
   ]
  },
  {
   "cell_type": "code",
   "execution_count": 7,
   "metadata": {},
   "outputs": [
    {
     "name": "stdout",
     "output_type": "stream",
     "text": [
      "120\n"
     ]
    }
   ],
   "source": [
    "def factorial_number(n):\n",
    "    f=functools.reduce(lambda x,y : x*y,n)\n",
    "    return f\n",
    "returned_value=factorial_number([1,2,3,4,5])\n",
    "print(returned_value)    "
   ]
  },
  {
   "cell_type": "code",
   "execution_count": 11,
   "metadata": {},
   "outputs": [
    {
     "name": "stdout",
     "output_type": "stream",
     "text": [
      "1\n"
     ]
    }
   ],
   "source": [
    "from math import gcd\n",
    "def greatest_common_divisor(number):\n",
    "    gcd_value=functools.reduce(lambda x,y : gcd(x,y),number)\n",
    "    return gcd_value\n",
    "returned_value=greatest_common_divisor([36,60,55,12])\n",
    "print(returned_value)    "
   ]
  },
  {
   "cell_type": "code",
   "execution_count": 14,
   "metadata": {},
   "outputs": [
    {
     "name": "stdout",
     "output_type": "stream",
     "text": [
      "32\n"
     ]
    }
   ],
   "source": [
    "def sum_digits(number):\n",
    "    sum_value=functools.reduce(lambda x,y : x+y,number)\n",
    "    return sum_value\n",
    "returned_value=sum_digits([5,7,8,9,1,2])\n",
    "print(returned_value)    "
   ]
  },
  {
   "cell_type": "code",
   "execution_count": 15,
   "metadata": {},
   "outputs": [],
   "source": [
    "# filter"
   ]
  },
  {
   "cell_type": "code",
   "execution_count": 16,
   "metadata": {},
   "outputs": [],
   "source": [
    "#The filter() function selects elements from an iterable (list, tuple etc.) based on the output of a function. \n",
    "# The function is applied to each element of the iterable and if it returns True , the element is selected by the filter() function.\n"
   ]
  },
  {
   "cell_type": "code",
   "execution_count": 27,
   "metadata": {},
   "outputs": [
    {
     "name": "stdout",
     "output_type": "stream",
     "text": [
      "[98, 4, 6]\n"
     ]
    }
   ],
   "source": [
    "def even_number(number):\n",
    "    even_value=list(filter(lambda x : x % 2 == 0,number ))\n",
    "    return even_value\n",
    "returned_value=even_number([67,98,1,4,6,7,15])\n",
    "print(returned_value)    "
   ]
  },
  {
   "cell_type": "code",
   "execution_count": 28,
   "metadata": {},
   "outputs": [
    {
     "name": "stdout",
     "output_type": "stream",
     "text": [
      "['kusum', 'kanchan']\n"
     ]
    }
   ],
   "source": [
    "def specific_letter(names):\n",
    "    s=list(filter(lambda x : x.startswith(\"k\"),names))\n",
    "    return s\n",
    "returned_value=specific_letter([\"kusum\",\"kanchan\",\"sunil\"])\n",
    "print(returned_value)\n",
    "    "
   ]
  },
  {
   "cell_type": "code",
   "execution_count": 50,
   "metadata": {},
   "outputs": [],
   "source": [
    "# Q4    "
   ]
  },
  {
   "cell_type": "code",
   "execution_count": 36,
   "metadata": {},
   "outputs": [
    {
     "name": "stdout",
     "output_type": "stream",
     "text": [
      "[1, 2, 3]\n"
     ]
    }
   ],
   "source": [
    "def none_values(values):\n",
    "    v= list(filter(lambda x : x is not None,values))\n",
    "    return v\n",
    "returned_value=none_values([1,None,2,None,3,None])\n",
    "print(returned_value)    "
   ]
  },
  {
   "cell_type": "code",
   "execution_count": 39,
   "metadata": {},
   "outputs": [
    {
     "name": "stdout",
     "output_type": "stream",
     "text": [
      "['one', 'two']\n"
     ]
    }
   ],
   "source": [
    "def longest_word(values):\n",
    "    v=list(filter(lambda x : len(x)<4,values))\n",
    "    return v\n",
    "returned_value=longest_word([\"one\",\"two\",\"three\",\"four\"])\n",
    "print(returned_value)    \n"
   ]
  },
  {
   "cell_type": "code",
   "execution_count": 45,
   "metadata": {},
   "outputs": [
    {
     "name": "stdout",
     "output_type": "stream",
     "text": [
      "[5, 6, 7, 8, 9, 10]\n"
     ]
    }
   ],
   "source": [
    "def greatest_values(numbers):\n",
    "    g=list(filter(lambda x : x>4,numbers))\n",
    "    return g\n",
    "returned_value=greatest_values([1,2,3,4,5,6,7,8,9,10])\n",
    "print(returned_value)    \n",
    "    "
   ]
  },
  {
   "cell_type": "code",
   "execution_count": 46,
   "metadata": {},
   "outputs": [],
   "source": [
    "# Recursion"
   ]
  },
  {
   "cell_type": "code",
   "execution_count": 48,
   "metadata": {},
   "outputs": [],
   "source": [
    "#Recursion Definition-Recursion is a programming technique where a function calls itself in order to solve a problem.\n",
    "#Iteration is a process where a set of instructions is repeated in a sequence, typically using loops."
   ]
  },
  {
   "cell_type": "code",
   "execution_count": 2,
   "metadata": {},
   "outputs": [
    {
     "name": "stdout",
     "output_type": "stream",
     "text": [
      "120\n"
     ]
    }
   ],
   "source": [
    "def factorial (n):\n",
    "    if n == 1:\n",
    "        return 1\n",
    "    else:\n",
    "        return(n * factorial(n-1))\n",
    "result=factorial(5)\n",
    "print(result)    "
   ]
  },
  {
   "cell_type": "code",
   "execution_count": 8,
   "metadata": {},
   "outputs": [
    {
     "name": "stdout",
     "output_type": "stream",
     "text": [
      "13\n"
     ]
    }
   ],
   "source": [
    "def fibonacci(a):\n",
    "    if a <= 0:\n",
    "        return \"input incoorect\"\n",
    "    elif a == 1:\n",
    "        return 1\n",
    "    elif a == 2:\n",
    "        return 1\n",
    "    else:\n",
    "        return fibonacci (a-1)+fibonacci(a-2)\n",
    "n=int(input(\"please enter the n\"))    \n",
    "result=fibonacci(n)\n",
    "print(result)    "
   ]
  },
  {
   "cell_type": "code",
   "execution_count": 15,
   "metadata": {},
   "outputs": [
    {
     "name": "stdout",
     "output_type": "stream",
     "text": [
      "31\n"
     ]
    }
   ],
   "source": [
    "def sum_recursive(x):\n",
    "    sum=0\n",
    "    for item in x:\n",
    "        if type(item) == type([]):\n",
    "            sum=sum+sum_recursive(item)\n",
    "        else:\n",
    "            sum= sum+item\n",
    "    return sum    \n",
    "    \n",
    "result=sum_recursive([1,5,7,9,2,4,3])\n",
    "print(result)    "
   ]
  },
  {
   "cell_type": "code",
   "execution_count": 2,
   "metadata": {},
   "outputs": [],
   "source": [
    "#q5"
   ]
  },
  {
   "cell_type": "code",
   "execution_count": 4,
   "metadata": {},
   "outputs": [
    {
     "name": "stdout",
     "output_type": "stream",
     "text": [
      "5\n"
     ]
    }
   ],
   "source": [
    "def gcd(a,b):\n",
    "    if a == b:\n",
    "        return a\n",
    "    elif a <b :\n",
    "        return gcd(b,a)\n",
    "    else:\n",
    "        return gcd(b,a-b)\n",
    "result=gcd(25,45)\n",
    "print(result)    \n",
    "    \n"
   ]
  },
  {
   "cell_type": "code",
   "execution_count": 9,
   "metadata": {},
   "outputs": [
    {
     "name": "stdout",
     "output_type": "stream",
     "text": [
      "musuk\n"
     ]
    }
   ],
   "source": [
    "def reverse(s):\n",
    "    if len(s) == 0:\n",
    "        return s\n",
    "    else:\n",
    "        return reverse(s[1:])+s[0]\n",
    "    \n",
    "result=reverse(\"kusum\")\n",
    "print(result)    "
   ]
  },
  {
   "cell_type": "code",
   "execution_count": 12,
   "metadata": {},
   "outputs": [
    {
     "name": "stdout",
     "output_type": "stream",
     "text": [
      "25\n"
     ]
    }
   ],
   "source": [
    "def power(n,p):\n",
    "    if p == 0:\n",
    "        return 1\n",
    "    else:\n",
    "        return(n*power(n,p-1))\n",
    "    \n",
    "result=power(5,2)\n",
    "print(result)    "
   ]
  },
  {
   "cell_type": "code",
   "execution_count": 15,
   "metadata": {},
   "outputs": [
    {
     "name": "stdout",
     "output_type": "stream",
     "text": [
      "['abc', 'acb', 'bac', 'bca', 'cab', 'cba']\n"
     ]
    }
   ],
   "source": [
    "def permutations(s):\n",
    "    if len(s) == 1:\n",
    "        return s\n",
    "    else:\n",
    "        p=[]\n",
    "        for item,c in enumerate(s):\n",
    "            for item2 in permutations(s[:item] + s[item+1:]):\n",
    "                p.append(c + item2)\n",
    "        return p       \n",
    "result=permutations('abc')\n",
    "print(result)    "
   ]
  },
  {
   "cell_type": "code",
   "execution_count": 22,
   "metadata": {},
   "outputs": [],
   "source": [
    "    \n",
    "#10   "
   ]
  },
  {
   "cell_type": "code",
   "execution_count": 18,
   "metadata": {},
   "outputs": [],
   "source": [
    "#q11"
   ]
  },
  {
   "cell_type": "code",
   "execution_count": 19,
   "metadata": {},
   "outputs": [],
   "source": [
    "# Basics of function:\n"
   ]
  },
  {
   "cell_type": "code",
   "execution_count": 23,
   "metadata": {},
   "outputs": [],
   "source": [
    "# function are block of organised & reused code that is used to perform specific task.\n",
    "# You can pass data, known as parameters, into a function. A function can return data as a result."
   ]
  },
  {
   "cell_type": "code",
   "execution_count": 27,
   "metadata": {},
   "outputs": [
    {
     "data": {
      "text/plain": [
       "'def square(number): defines a function named square that takes one parameter, number.\\nThis function calculates the square of a number.\"\"\" is a docstring, which provides a brief description of the function\\'s purpose. It\\'s good practice to include docstrings to document your functions.\\nresult = number ** 2 calculates the square of the number parameter.\\nreturn result returns the result of the calculation as the output of\\xa0the\\xa0function.'"
      ]
     },
     "execution_count": 27,
     "metadata": {},
     "output_type": "execute_result"
    }
   ],
   "source": [
    "def square(number):\n",
    "    result = number ** 2\n",
    "    return result\n",
    "square(2)\n",
    "'''def square(number): defines a function named square that takes one parameter, number.\n",
    "This function calculates the square of a number.\n",
    "result = number ** 2 calculates the square of the number parameter.\n",
    "return result returns the result of the calculation as the output of the function.'''"
   ]
  },
  {
   "cell_type": "code",
   "execution_count": 29,
   "metadata": {},
   "outputs": [
    {
     "data": {
      "text/plain": [
       "30"
      ]
     },
     "execution_count": 29,
     "metadata": {},
     "output_type": "execute_result"
    }
   ],
   "source": [
    "def my_python():\n",
    "    # function definition were we defined what function will do and return a value as output.\n",
    "    result = 10+20\n",
    "    return result\n",
    "    \n",
    "my_python()\n",
    "# function call is used to invoke the function to excute specific task we can also pass permeter to the function .    \n"
   ]
  },
  {
   "cell_type": "code",
   "execution_count": 31,
   "metadata": {},
   "outputs": [
    {
     "name": "stdout",
     "output_type": "stream",
     "text": [
      "30\n"
     ]
    }
   ],
   "source": [
    "def sum(a,b):\n",
    "    result= a+b\n",
    "    return result\n",
    "v=sum(10,20)\n",
    "print(v)\n",
    "\n",
    "# def sum(a,b): defines a function named sum that takes two prameter,a,b.\n",
    "# declare a variable,variable name result that store the sum of a & b.\n",
    "# return result returns the result of the calculation as the output of the function.\n",
    "# we are calling the function with prameter 10 & 20 and storing output v.\n",
    "# print v is used to output to console. \n",
    "    "
   ]
  },
  {
   "cell_type": "code",
   "execution_count": 32,
   "metadata": {},
   "outputs": [],
   "source": [
    "# unction Name: The name that identifies the function. This name should be descriptive and convey the purpose of the function.\n",
    "# Return Type: The data type of the value that the function returns to the caller when it's executed. In some languages, like Python, functions can return values of any data type or no value (using None), while in statically typed languages like C++ or Java, the return type is explicitly declared.\n",
    "# Parameters: The list of parameters (or arguments) that the function accepts, including their names and data types. Parameters are the values that the function can work with to perform its tasks. Some functions may have no parameters."
   ]
  },
  {
   "cell_type": "code",
   "execution_count": 34,
   "metadata": {},
   "outputs": [
    {
     "name": "stdout",
     "output_type": "stream",
     "text": [
      "6\n"
     ]
    }
   ],
   "source": [
    "def product(a,b):\n",
    "    p=a*b\n",
    "    return p\n",
    "a=product(2,3)\n",
    "print(a)    "
   ]
  },
  {
   "cell_type": "code",
   "execution_count": 35,
   "metadata": {},
   "outputs": [],
   "source": [
    "# function prameters and function arguments:"
   ]
  },
  {
   "cell_type": "code",
   "execution_count": 39,
   "metadata": {},
   "outputs": [],
   "source": [
    "# Actual Parameters vary from Formal Parameters in that Actual Parameters are values supplied to the function.\n",
    "# when it is invoked, whereas Formal Parameters are variables declared by the function that get values when the function is called.\n",
    "    \n",
    "    \n"
   ]
  },
  {
   "cell_type": "code",
   "execution_count": 41,
   "metadata": {},
   "outputs": [
    {
     "data": {
      "text/plain": [
       "'hello word'"
      ]
     },
     "execution_count": 41,
     "metadata": {},
     "output_type": "execute_result"
    }
   ],
   "source": [
    "def demo():\n",
    "    return (\"hello word\")\n",
    "demo()    "
   ]
  },
  {
   "cell_type": "code",
   "execution_count": 42,
   "metadata": {},
   "outputs": [],
   "source": [
    "# we have assigned names to arguments during the function call. Hence, first_name in the function call is assigned to first_name in the function definition.\n",
    "# Similarly, last_name in the function call is assigned to last_name in the function definition.\n",
    "\n"
   ]
  },
  {
   "cell_type": "code",
   "execution_count": 43,
   "metadata": {},
   "outputs": [],
   "source": [
    "# To pass a variable number of arguments to a function in Python, use the special syntax *args in the function specification. \n",
    "# It is used to pass a variable-length, keyword-free argument list. By convention, the sign * is frequently used with the word args in the syntax for taking in a variable number of arguments.\n"
   ]
  },
  {
   "cell_type": "code",
   "execution_count": 46,
   "metadata": {},
   "outputs": [],
   "source": [
    "# *args passes variable number of non-keyworded arguments and on which operation of the tuple can be performed.\n",
    "# **kwargs passes variable number of keyword arguments dictionary to function on which operation of a dictionary can be performed.\n"
   ]
  },
  {
   "cell_type": "code",
   "execution_count": 51,
   "metadata": {},
   "outputs": [],
   "source": [
    "# Return Values and Scoping:\n"
   ]
  },
  {
   "cell_type": "code",
   "execution_count": 128,
   "metadata": {},
   "outputs": [
    {
     "data": {
      "text/plain": [
       "'hello'"
      ]
     },
     "execution_count": 128,
     "metadata": {},
     "output_type": "execute_result"
    }
   ],
   "source": [
    "#A return statement is used to end the execution of the function call and “returns” the result (value of the expression following the return keyword) to the caller. \n",
    "# The statements after the return statements are not executed. If the return statement is without any expression, then the special value None is returned.\n",
    "def my_python():\n",
    "    return (\"hello\")\n",
    "my_python()\n",
    "\n"
   ]
  },
  {
   "cell_type": "code",
   "execution_count": 130,
   "metadata": {},
   "outputs": [
    {
     "name": "stdout",
     "output_type": "stream",
     "text": [
      "10\n",
      "10\n"
     ]
    }
   ],
   "source": [
    "# local variable:-local variable are used in a function only.we cant excess outside the function.\n",
    "# global varibale:- global variable we can acess anywhere in file.\n",
    "global_variable=10\n",
    "def my_python():\n",
    "    local_variable=10\n",
    "    print(local_variable)\n",
    "    print(global_variable)\n",
    "my_python()    "
   ]
  },
  {
   "cell_type": "code",
   "execution_count": 132,
   "metadata": {},
   "outputs": [
    {
     "name": "stdout",
     "output_type": "stream",
     "text": [
      "10\n",
      "10\n"
     ]
    }
   ],
   "source": [
    "global_variable=10\n",
    "def my_variable():\n",
    "    global a\n",
    "    a=10\n",
    "    print(global_variable)\n",
    "my_variable()\n",
    "print(a)    "
   ]
  },
  {
   "cell_type": "code",
   "execution_count": 139,
   "metadata": {},
   "outputs": [
    {
     "data": {
      "text/plain": [
       "120"
      ]
     },
     "execution_count": 139,
     "metadata": {},
     "output_type": "execute_result"
    }
   ],
   "source": [
    "def factorial(num):\n",
    "    f=1\n",
    "    for item in range(1,num+1):\n",
    "        f=item*f\n",
    "    return f\n",
    "        \n",
    "    \n",
    "factorial(5)    "
   ]
  },
  {
   "cell_type": "code",
   "execution_count": 140,
   "metadata": {},
   "outputs": [
    {
     "name": "stdout",
     "output_type": "stream",
     "text": [
      "30\n"
     ]
    }
   ],
   "source": [
    "def my_function():\n",
    "    global b\n",
    "    b=30\n",
    "my_function()\n",
    "print(b)    "
   ]
  },
  {
   "cell_type": "code",
   "execution_count": 52,
   "metadata": {},
   "outputs": [],
   "source": [
    "# lambda functions and high order functions:"
   ]
  },
  {
   "cell_type": "code",
   "execution_count": 53,
   "metadata": {},
   "outputs": [],
   "source": [
    "# Python Lambda Functions are anonymous function means that the function is without a name. \n",
    "# As we already know that the def keyword is used to define a normal function in Python. Similarly, the lambda keyword is used to define an anonymous function in Python.21-Jun-2023\n"
   ]
  },
  {
   "cell_type": "code",
   "execution_count": 111,
   "metadata": {},
   "outputs": [
    {
     "name": "stdout",
     "output_type": "stream",
     "text": [
      "[('mukul', 18), ('jyoti', 20), ('kusum', 23), ('sunil', 27)]\n"
     ]
    }
   ],
   "source": [
    "def sortng(a):\n",
    "    s=sorted(a,key=lambda x :x[1])\n",
    "    return s\n",
    "\n",
    "    \n",
    "returned_value=sortng([('kusum',23),('jyoti',20),('mukul',18),('sunil',27)])\n",
    "print(returned_value)    "
   ]
  },
  {
   "cell_type": "code",
   "execution_count": 88,
   "metadata": {},
   "outputs": [],
   "source": [
    "# Higher-order functions are functions that take a function as a parameter and/or return a function as an output. \n",
    "# A few useful higher-order functions are map() , filter() , and reduce() . map() and filter() are built-in functions, whereas reduce() is contained in functools() module.\n",
    "import functools\n",
    "numbers=[1,2,3,4]\n",
    "squared=list(map(lambda x : x * 2,numbers))\n",
    "#print(squared)\n",
    "even_number=list(filter(lambda x : x%2==0,numbers))\n",
    "#print(even_number)\n",
    "sum_of_number=(functools.reduce(lambda x,y : x+y,numbers))\n",
    "#print(sum_of_number)\n"
   ]
  },
  {
   "cell_type": "code",
   "execution_count": 96,
   "metadata": {},
   "outputs": [],
   "source": [
    "# The map() function in Python provides an efficient way to apply a function to each element in a list. \n",
    "# It takes two arguments: the function to be applied and the iterable (list) on which the function will be applied. The map() function returns a map object, which can be converted to a list using the list() function.\n"
   ]
  },
  {
   "cell_type": "code",
   "execution_count": 97,
   "metadata": {},
   "outputs": [],
   "source": [
    "# Built-in Functions:\n"
   ]
  },
  {
   "cell_type": "code",
   "execution_count": 100,
   "metadata": {},
   "outputs": [
    {
     "data": {
      "text/plain": [
       "(5, 5, 1)"
      ]
     },
     "execution_count": 100,
     "metadata": {},
     "output_type": "execute_result"
    }
   ],
   "source": [
    "def my_python(number):\n",
    "    s=len(number)\n",
    "    a=max(number)\n",
    "    b=min(number)\n",
    "    return(s,a,b)\n",
    "\n",
    "\n",
    "\n",
    "my_python([1,2,3,4,5])    \n"
   ]
  },
  {
   "cell_type": "code",
   "execution_count": 116,
   "metadata": {},
   "outputs": [
    {
     "name": "stdout",
     "output_type": "stream",
     "text": [
      "[{'name': 'kusum', 'age': 24, 'country': 'INDIA'}, {'name': 'sunil', 'age': 27, 'country': 'INDIA'}, {'name': 'jyoti', 'age': 20, 'country': 'INDIA'}]\n"
     ]
    }
   ],
   "source": [
    "def my_python(a):\n",
    "    value=list(map(lambda x :{**x, 'country': 'INDIA'},a ))\n",
    "    return value\n",
    "               \n",
    "returned_value=my_python([{'name':'kusum','age':24},{'name':'sunil','age':27},{'name':'jyoti','age':20}])\n",
    "print(returned_value)   "
   ]
  },
  {
   "cell_type": "code",
   "execution_count": null,
   "metadata": {},
   "outputs": [],
   "source": [
    "#The filter() function takes two arguments: a function that defines the filtering condition and an iterable from which you want to filter elements.\n",
    "#The filtering condition is specified using a function that returns a Boolean value (True or False). This function, often defined using a lambda function or a regular function, is applied to each element in the iterable.\n",
    "#The filter() function creates a new iterator that contains only the elements for which the filtering condition function returns True. Elements that evaluate to True in the filtering condition are included in the filtered result, while elements that evaluate to False are excluded.\n",
    "#The filtered iterator can be converted to a list or another iterable type using the list(), tuple(), or set() constructor functions, or it can be iterated over directly using a loop.\n",
    "\n",
    "\n",
    "#Filtering a list of data based on a specific attribute or property.\n",
    "#Removing unwanted elements from a collection.\n",
    "#Selecting elements that match a certain pattern or condition.\n",
    "#Filtering out empty or None values from a dataset."
   ]
  },
  {
   "cell_type": "code",
   "execution_count": 122,
   "metadata": {},
   "outputs": [
    {
     "name": "stdout",
     "output_type": "stream",
     "text": [
      "120\n"
     ]
    }
   ],
   "source": [
    "import functools\n",
    "def product(a):\n",
    "    k=functools.reduce(lambda x,y : x*y,a)\n",
    "    return k\n",
    "returned_value=product([1,2,3,4,5])\n",
    "print(returned_value)    "
   ]
  },
  {
   "cell_type": "code",
   "execution_count": 123,
   "metadata": {},
   "outputs": [],
   "source": [
    "# Function Documentation and Best Practices:\n"
   ]
  },
  {
   "cell_type": "code",
   "execution_count": 126,
   "metadata": {},
   "outputs": [],
   "source": [
    "#Docstrings (documentation strings) in Python functions serve the purpose of providing human-readable documentation or descriptions of the function's purpose, usage, parameters, and return values. \n",
    "# They are a form of inline documentation that helps both developers and users of the code understand how to use the function correctly. Here are the key purposes of docstrings in Python functions:\n",
    "def add(a, b):\n",
    "    \"\"\"\n",
    "    This function adds two numbers and returns the result.\n",
    "\n",
    "    Parameters:\n",
    "    a (int or float): The first number.\n",
    "    b (int or float): The second number.\n",
    "\n",
    "    Returns:\n",
    "    int or float: The sum of a and b.\n",
    "    \"\"\"\n",
    "    return (a+b)\n",
    "\n"
   ]
  },
  {
   "cell_type": "code",
   "execution_count": 127,
   "metadata": {},
   "outputs": [
    {
     "data": {
      "text/plain": [
       "\"Naming Conventions:\\nUse Descriptive Names:\\nChoose meaningful and descriptive names for functions and variables that convey their purpose or role in the code. This makes your code self-documenting.\\nUse Lowercase for Variables:\\nVariable names should be in lowercase, with words separated by underscores (snake_case). For example: my_variable, user_age.\\nUse Uppercase for Constants:\\nConstants (values that don't change) should be written in uppercase with underscores (e.g., MAX_VALUE, PI).\\nUse CamelCase for Classes:\\nClass names should use CamelCase (also known as CapWords) where each word within the name is capitalized (e.g., MyClass, EmployeeRecord).\\nFunction Names:\\nUse Descriptive Verbs:\\nFunction names should typically start with a verb that describes the action the function performs (e.g., calculate_total, format_string).\\nBe Consistent:\\nMaintain consistency in your function naming style throughout your codebase. If you choose one naming convention, stick with it.\\nAvoid Single-Letter Names:\\nAvoid using single-letter variable or function names (e.g., x, y, f). Use meaningful names to improve code readability.\\nVariable Names:\\nUse Meaningful Names:\\nVariable names should reflect the purpose or content of the variable. For example, use user_name instead of u or name.\\nAvoid Abbreviations Unless Common:\\nAvoid excessive abbreviations in variable names unless they are well-known and widely understood (e.g., HTML, URL, JSON).\\nSpecific Naming Guidelines:\\nUse Plural for Lists and Collections:\\nWhen naming lists, arrays, or collections, use plural nouns to indicate that it's a collection (e.g., students, books).\\nPrefix Boolean Variables:\\nPrefix boolean variables with words like is, has, or should to indicate their purpose (e.g., is_valid, has_data, should_process).\\nAvoid Shadowing:\\nAvoid using the same name for a variable or parameter within a function that is already used globally or in an outer scope. This can lead to confusion.\\nUse Contextual Names:\\nWhen dealing with multiple similar variables or functions, add context to their names to distinguish them (e.g., user_age and account_age).\\nAvoid Reserved Words:\\nAvoid using Python's reserved words (keywords) as variable or function names (e.g., for, if, while, class, etc.).\\nLimit Line Length:\\nKeep variable and function names reasonably short, but not so short that they become unclear. Follow PEP 8's recommendation to limit lines to 79 characters for code.\\nUse Meaningful Prefixes for Global Variables:\\nIf you have global variables, consider using a meaningful prefix (e.g., g_total_count) to indicate their global scope.\\nDocument Non-Obvious Variables:\\nIf a variable's purpose isn't immediately obvious, consider adding a brief comment or docstring explaining\\xa0its\\xa0usage.\""
      ]
     },
     "execution_count": 127,
     "metadata": {},
     "output_type": "execute_result"
    }
   ],
   "source": [
    "'''Naming Conventions:\n",
    "Use Descriptive Names:\n",
    "Choose meaningful and descriptive names for functions and variables that convey their purpose or role in the code. This makes your code self-documenting.\n",
    "Use Lowercase for Variables:\n",
    "Variable names should be in lowercase, with words separated by underscores (snake_case). For example: my_variable, user_age.\n",
    "Use Uppercase for Constants:\n",
    "Constants (values that don't change) should be written in uppercase with underscores (e.g., MAX_VALUE, PI).\n",
    "Use CamelCase for Classes:\n",
    "Class names should use CamelCase (also known as CapWords) where each word within the name is capitalized (e.g., MyClass, EmployeeRecord).\n",
    "Function Names:\n",
    "Use Descriptive Verbs:\n",
    "Function names should typically start with a verb that describes the action the function performs (e.g., calculate_total, format_string).\n",
    "Be Consistent:\n",
    "Maintain consistency in your function naming style throughout your codebase. If you choose one naming convention, stick with it.\n",
    "Avoid Single-Letter Names:\n",
    "Avoid using single-letter variable or function names (e.g., x, y, f). Use meaningful names to improve code readability.\n",
    "Variable Names:\n",
    "Use Meaningful Names:\n",
    "Variable names should reflect the purpose or content of the variable. For example, use user_name instead of u or name.\n",
    "Avoid Abbreviations Unless Common:\n",
    "Avoid excessive abbreviations in variable names unless they are well-known and widely understood (e.g., HTML, URL, JSON).\n",
    "Specific Naming Guidelines:\n",
    "Use Plural for Lists and Collections:\n",
    "When naming lists, arrays, or collections, use plural nouns to indicate that it's a collection (e.g., students, books).\n",
    "Prefix Boolean Variables:\n",
    "Prefix boolean variables with words like is, has, or should to indicate their purpose (e.g., is_valid, has_data, should_process).\n",
    "Avoid Shadowing:\n",
    "Avoid using the same name for a variable or parameter within a function that is already used globally or in an outer scope. This can lead to confusion.\n",
    "Use Contextual Names:\n",
    "When dealing with multiple similar variables or functions, add context to their names to distinguish them (e.g., user_age and account_age).\n",
    "Avoid Reserved Words:\n",
    "Avoid using Python's reserved words (keywords) as variable or function names (e.g., for, if, while, class, etc.).\n",
    "Limit Line Length:\n",
    "Keep variable and function names reasonably short, but not so short that they become unclear. Follow PEP 8's recommendation to limit lines to 79 characters for code.\n",
    "Use Meaningful Prefixes for Global Variables:\n",
    "If you have global variables, consider using a meaningful prefix (e.g., g_total_count) to indicate their global scope.\n",
    "Document Non-Obvious Variables:\n",
    "If a variable's purpose isn't immediately obvious, consider adding a brief comment or docstring explaining its usage.'''"
   ]
  }
 ],
 "metadata": {
  "kernelspec": {
   "display_name": "Python 3",
   "language": "python",
   "name": "python3"
  },
  "language_info": {
   "codemirror_mode": {
    "name": "ipython",
    "version": 3
   },
   "file_extension": ".py",
   "mimetype": "text/x-python",
   "name": "python",
   "nbconvert_exporter": "python",
   "pygments_lexer": "ipython3",
   "version": "3.11.4"
  },
  "orig_nbformat": 4
 },
 "nbformat": 4,
 "nbformat_minor": 2
}
