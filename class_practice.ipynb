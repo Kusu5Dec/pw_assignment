{
 "cells": [
  {
   "cell_type": "code",
   "execution_count": 12,
   "metadata": {},
   "outputs": [
    {
     "name": "stdout",
     "output_type": "stream",
     "text": [
      "hello kusum your percenatge is 63.33333333333333\n",
      "hello\n",
      "hello sunil your percenatge is 63.0\n",
      "hello\n"
     ]
    }
   ],
   "source": [
    "class student():\n",
    "    tmp=\"hello\"\n",
    "    def __init__(self,name,age,english,math,science):\n",
    "        self.name=name\n",
    "        self.age=age\n",
    "        self.english=english\n",
    "        self.math=math\n",
    "        self.science=science\n",
    "    def get_average(self):\n",
    "        percentge=str((self.english+self.math+self.science)/300*100)\n",
    "        print(\"hello \"+self.name+\" your percenatge is \"+percentge)\n",
    "        print(self.tmp)\n",
    "kusum=student(\"kusum\",23,56,78,56)\n",
    "kusum.get_average()\n",
    "obj2=student(\"sunil\",27,56,98,35)\n",
    "obj2.get_average()\n",
    "\n",
    "        \n",
    "        "
   ]
  },
  {
   "cell_type": "code",
   "execution_count": 18,
   "metadata": {},
   "outputs": [
    {
     "name": "stdout",
     "output_type": "stream",
     "text": [
      " Rectangle of 30\n"
     ]
    }
   ],
   "source": [
    "class rectangle():\n",
    "    def __init__(self,length,width):\n",
    "        self.length=length\n",
    "        self.width=width\n",
    "    def get_area(self):\n",
    "        area=(self.length*self.width)\n",
    "        print(\" Rectangle of \"+str(area))\n",
    "obj=rectangle(5,6)\n",
    "obj.get_area()          "
   ]
  },
  {
   "cell_type": "code",
   "execution_count": 20,
   "metadata": {},
   "outputs": [
    {
     "name": "stdout",
     "output_type": "stream",
     "text": [
      " circle of area 50.24\n"
     ]
    }
   ],
   "source": [
    "class circle():\n",
    "    def __init__(self,radius):\n",
    "        self.radius=radius\n",
    "        self.pie=3.14\n",
    "    def get_area(self):\n",
    "        area=(self.pie*self.radius*self.radius)\n",
    "        print(\" circle of area \"+str(area))\n",
    "obj=circle(4)\n",
    "obj.get_area()        \n",
    "        \n",
    "        \n",
    "            "
   ]
  },
  {
   "cell_type": "code",
   "execution_count": 25,
   "metadata": {},
   "outputs": [
    {
     "name": "stdout",
     "output_type": "stream",
     "text": [
      " your actual salary is 45000 after incerement 10% salary 49500.0\n"
     ]
    }
   ],
   "source": [
    "class employee():\n",
    "    def __init__(self,name,salary):\n",
    "        self.name=name\n",
    "        self.salary=salary\n",
    "    def get_raise(self):\n",
    "        sa_lary=(self.salary*0.10+self.salary)\n",
    "        print(\" your actual salary is \"+str(self.salary)+\" after incerement 10% salary \"+str(sa_lary))\n",
    "obj=employee(\"kusum\",45000)\n",
    "obj.get_raise()            "
   ]
  },
  {
   "cell_type": "code",
   "execution_count": 35,
   "metadata": {},
   "outputs": [
    {
     "name": "stdout",
     "output_type": "stream",
     "text": [
      " your amount 3000 after deposit amount 5000\n",
      " your amount is 3000 after withdrawl amount is 1000\n"
     ]
    }
   ],
   "source": [
    "class bank_account():\n",
    "    def __init__(self,account_number,balance):\n",
    "        self.account_number=account_number\n",
    "        self.balance=balance\n",
    "    def deposits(self,deposits_amount):\n",
    "        total_amount=self.balance+deposits_amount\n",
    "        print(\" your amount \"+str(self.balance)+\" after deposit amount \"+str(total_amount))\n",
    "    def withdarwl(self,withdrawl_amount):\n",
    "        withdrawlamount=self.balance-withdrawl_amount\n",
    "        print(\" your amount is \"+str(self.balance)+\" after withdrawl amount is \"+ str(withdrawl_amount))   \n",
    "obj=bank_account(45777556788767888,3000)\n",
    "obj.deposits(2000)\n",
    "obj2=bank_account(45777,3000)\n",
    "obj2.withdarwl(1000)            "
   ]
  },
  {
   "cell_type": "code",
   "execution_count": 37,
   "metadata": {},
   "outputs": [
    {
     "name": "stdout",
     "output_type": "stream",
     "text": [
      " your car age is 18\n"
     ]
    }
   ],
   "source": [
    "class car():\n",
    "    def __init__(self,make,model,year,mileage):\n",
    "        self.make=make\n",
    "        self.model=model\n",
    "        self.year=year\n",
    "        self.mileage=mileage\n",
    "    def get_age(self):\n",
    "        car_age=2023-self.year\n",
    "        print(\" your car age is \"+str(car_age))\n",
    "obj=car(\"india\",\"splinder\",2005,70)\n",
    "obj.get_age()        \n",
    "    "
   ]
  },
  {
   "cell_type": "code",
   "execution_count": 48,
   "metadata": {},
   "outputs": [
    {
     "name": "stdout",
     "output_type": "stream",
     "text": [
      "fail\n"
     ]
    }
   ],
   "source": [
    "class student_record():\n",
    "    def __init__(self,student,eng,math,science,punjabi):\n",
    "        self.student=student\n",
    "        self.grade=[\"A\",\"B\",\"C\",\"D\"]\n",
    "        self.eng=eng\n",
    "        self.math=math\n",
    "        self.science=science\n",
    "        self.punjabi=punjabi\n",
    "    def get_average(self):\n",
    "        average=(self.eng+self.math+self.science+self.punjabi)/400*100\n",
    "        if average == 100 and average <= 90:\n",
    "            print(\"your grade is A+\")\n",
    "        elif average >= 80 and average <= 90:\n",
    "            print(\"your grade is A\")\n",
    "        elif average >= 70 and average <= 80 :\n",
    "            print(\"your grade is B+\")\n",
    "        elif average >= 60 and average <= 70:\n",
    "            print(\"your grade is B\")\n",
    "        elif average >= 50 and average <= 60:\n",
    "            print(\"your grade is C+\")\n",
    "        elif average >= 40 and average <= 50:\n",
    "            print(\"your grade is D\")\n",
    "        else:\n",
    "            print(\"fail\")                    \n",
    "obj=student_record(\"kusum\",100,100,100,100)\n",
    "obj.get_average()        \n",
    "           \n",
    "        \n",
    "        "
   ]
  },
  {
   "cell_type": "code",
   "execution_count": 49,
   "metadata": {},
   "outputs": [
    {
     "ename": "SyntaxError",
     "evalue": "invalid syntax (2689179159.py, line 5)",
     "output_type": "error",
     "traceback": [
      "\u001b[1;36m  Cell \u001b[1;32mIn[49], line 5\u001b[1;36m\u001b[0m\n\u001b[1;33m    def\u001b[0m\n\u001b[1;37m            ^\u001b[0m\n\u001b[1;31mSyntaxError\u001b[0m\u001b[1;31m:\u001b[0m invalid syntax\n"
     ]
    }
   ],
   "source": [
    "class bank():\n",
    "    def __init__(self,bank_account):\n",
    "        self.bank_account=bank_account\n",
    "        self.balance=[40000,50000,60000,20000]\n",
    "    def     \n",
    "        "
   ]
  },
  {
   "cell_type": "code",
   "execution_count": 58,
   "metadata": {},
   "outputs": [
    {
     "name": "stdout",
     "output_type": "stream",
     "text": [
      "kusum is total salary 500 after increment salary 550.0\n"
     ]
    }
   ],
   "source": [
    "class employee():\n",
    "    def __init__(self,name,employee_id,salary):\n",
    "        self.name=name\n",
    "        self.employee_id=employee_id\n",
    "        self.salary=salary\n",
    "    def get_raise(self,raise_salary):\n",
    "        salary=(self.salary*raise_salary)+self.salary\n",
    "        print(self.name+\" is total salary \"+str(self.salary)+\" after increment salary \"+str(salary))\n",
    "obj=employee(\"kusum\",\"kusum_56\",500)\n",
    "obj.get_raise(0.10)            "
   ]
  },
  {
   "cell_type": "code",
   "execution_count": 61,
   "metadata": {},
   "outputs": [
    {
     "name": "stdout",
     "output_type": "stream",
     "text": [
      " triangle of area is 15.0\n"
     ]
    }
   ],
   "source": [
    "class triangle():\n",
    "    def __init__(self,base,height):\n",
    "        self.base=base\n",
    "        self.height=height\n",
    "    def get_area(self):\n",
    "        area=1/2*(self.base*self.height)\n",
    "        print(\" triangle of area is \"+str(area))\n",
    "obj=triangle(5,6) \n",
    "obj.get_area()       \n",
    "            "
   ]
  },
  {
   "cell_type": "code",
   "execution_count": 78,
   "metadata": {},
   "outputs": [
    {
     "name": "stdout",
     "output_type": "stream",
     "text": [
      "i am giving this book\n",
      "i am not giving this book\n",
      "return accpected\n",
      "not return accpected\n"
     ]
    }
   ],
   "source": [
    "class library_book():\n",
    "    def __init__(self,title,author):\n",
    "        self.title=title\n",
    "        self.author=author\n",
    "        self.checked_out=False\n",
    "    def checked(self):\n",
    "        if not self.checked_out :\n",
    "            print(\"i am giving this book\")\n",
    "            self.checked_out=True \n",
    "        else:\n",
    "            print(\"i am not giving this book\")\n",
    "    def return_book(self):\n",
    "        if self.checked_out == True:\n",
    "            print(\"return accpected\")\n",
    "            self.checked_out=False\n",
    "        else:\n",
    "            print(\"not return accpected\")    \n",
    "        \n",
    "obj=library_book(\"honeydew\",\"mr.motilal\")\n",
    "obj.checked()\n",
    "obj.checked()\n",
    "obj.return_book()\n",
    "obj.return_book()            \n",
    " \n",
    "            \n",
    "            \n",
    "                \n",
    "        "
   ]
  },
  {
   "cell_type": "code",
   "execution_count": 42,
   "metadata": {},
   "outputs": [
    {
     "name": "stdout",
     "output_type": "stream",
     "text": [
      "student not enrolled yet\n",
      "student not enrolled yet\n"
     ]
    }
   ],
   "source": [
    "class add_student():\n",
    "    def __init__(self,name,enrollmentdate):\n",
    "        self.name=name\n",
    "        self.enrollmentdate=enrollmentdate\n",
    "class student_enrollment():\n",
    "    def __init__(self):\n",
    "        self.student_list=[]\n",
    "    def store_in_list(self,name,enrollmentdate):\n",
    "        student=add_student(name,enrollmentdate)\n",
    "        self.student_list.append(student)\n",
    "    def print_in_list(self):\n",
    "        for item in self.student_list:\n",
    "            print(item.name,item.enrollmentdate)\n",
    "    def student_exist(self,name):\n",
    "        for item in self.student_list:\n",
    "            isEnroll=False\n",
    "            date=\"\"\n",
    "            if item.name == name:\n",
    "                isEnroll = True\n",
    "                date=item.enrollmentdate\n",
    "            else:\n",
    "                isEnroll=False\n",
    "        if isEnroll == True:\n",
    "            print(date)\n",
    "        else:\n",
    "            print(\"student not enrolled yet\")\n",
    "obj =student_enrollment()\n",
    "obj.store_in_list('kusum','3/10/2005')\n",
    "obj.store_in_list('jyoti','3/2/2006')\n",
    "obj.store_in_list('mukul','3/10/2005')\n",
    "obj.store_in_list('mamta','3/2/2006')\n",
    "obj.student_exist('kk')\n",
    "obj.student_exist(\"mukul\")\n",
    "\n",
    "\n",
    "                        \n",
    "                    \n",
    "                                          "
   ]
  },
  {
   "cell_type": "code",
   "execution_count": 48,
   "metadata": {},
   "outputs": [
    {
     "name": "stdout",
     "output_type": "stream",
     "text": [
      "20:35:59\n",
      "20\n",
      "35\n",
      "59\n",
      "15\n",
      "good afternoon mam !\n"
     ]
    }
   ],
   "source": [
    "import time\n",
    "timestamp=time.strftime ('%H:%M:%S')\n",
    "print(timestamp)\n",
    "timestamp=int(time.strftime('%H'))\n",
    "print(timestamp)\n",
    "timestamp=int(time.strftime('%M'))\n",
    "print(timestamp)\n",
    "timestamp=int(time.strftime('%S'))\n",
    "print(timestamp)\n",
    "hour=int(input(\"please enter the hour\"))\n",
    "print(hour)\n",
    "if hour >=0 and hour <12:\n",
    "    print(\"good morning mam !\")\n",
    "elif hour >=12 and hour <17:\n",
    "    print(\"good afternoon mam !\")\n",
    "elif hour >=17 and hour <0:\n",
    "    print(\"good night mam !\")        "
   ]
  },
  {
   "cell_type": "code",
   "execution_count": 15,
   "metadata": {},
   "outputs": [
    {
     "name": "stdout",
     "output_type": "stream",
     "text": [
      "hey my name is kusum and i am from india\n",
      "hey my name is kusum and i am from india\n"
     ]
    }
   ],
   "source": [
    "letter=\"hey my name is {} and i am from {}\"\n",
    "country=\"india\"\n",
    "name=\"kusum\"\n",
    "print(letter.format(name,country))\n",
    "print(f\"hey my name is {name} and i am from {country}\")"
   ]
  },
  {
   "cell_type": "code",
   "execution_count": 16,
   "metadata": {},
   "outputs": [
    {
     "name": "stdout",
     "output_type": "stream",
     "text": [
      "for only 49.910000 dollars\n"
     ]
    }
   ],
   "source": [
    "price=49.9099999\n",
    "txt=f\"for only {price:2f} dollars\"\n",
    "print(txt)"
   ]
  },
  {
   "cell_type": "code",
   "execution_count": 20,
   "metadata": {},
   "outputs": [
    {
     "name": "stdout",
     "output_type": "stream",
     "text": [
      "{1, 2, 3, 5, 6, 7}\n"
     ]
    }
   ],
   "source": [
    "s1={1,2,3,6}\n",
    "s2={5,6,7}\n",
    "print(s1.union(s2))"
   ]
  },
  {
   "cell_type": "code",
   "execution_count": 49,
   "metadata": {},
   "outputs": [
    {
     "name": "stdout",
     "output_type": "stream",
     "text": [
      "{1, 2, 3, 5, 6, 8, 9} {8, 9, 5}\n"
     ]
    }
   ],
   "source": [
    "s1={1,2,3,6}\n",
    "s2={5,9,8}\n",
    "s1.update(s2)\n",
    "print(s1,s2)"
   ]
  },
  {
   "cell_type": "code",
   "execution_count": 30,
   "metadata": {},
   "outputs": [
    {
     "name": "stdout",
     "output_type": "stream",
     "text": [
      "{1, 4}\n"
     ]
    }
   ],
   "source": [
    "s1={1,2,3,4,5,6}\n",
    "s2={1,7,8,9,4}\n",
    "print(s1.intersection(s2))"
   ]
  },
  {
   "cell_type": "code",
   "execution_count": 50,
   "metadata": {},
   "outputs": [
    {
     "name": "stdout",
     "output_type": "stream",
     "text": [
      "{1, 2, 3}\n"
     ]
    }
   ],
   "source": [
    "s1={1,2,3,4,5,6}\n",
    "s2={1,2,3}\n",
    "s1.intersection_update(s2)\n",
    "print(s1)"
   ]
  },
  {
   "cell_type": "code",
   "execution_count": 36,
   "metadata": {},
   "outputs": [
    {
     "name": "stdout",
     "output_type": "stream",
     "text": [
      "{4, 5, 6}\n",
      "None\n"
     ]
    }
   ],
   "source": [
    "s1={1,2,3,4,5,6}\n",
    "s2={1,2,3}\n",
    "print(s1.symmetric_difference(s2))\n",
    "print(s1.symmetric_difference_update(s2))"
   ]
  },
  {
   "cell_type": "code",
   "execution_count": 38,
   "metadata": {},
   "outputs": [
    {
     "name": "stdout",
     "output_type": "stream",
     "text": [
      "{4, 5, 6}\n"
     ]
    }
   ],
   "source": [
    "s1={1,2,3,4,5,6}\n",
    "s2={1,2,3}\n",
    "print(s1.difference(s2))"
   ]
  },
  {
   "cell_type": "code",
   "execution_count": 5,
   "metadata": {},
   "outputs": [
    {
     "name": "stdout",
     "output_type": "stream",
     "text": [
      "False\n"
     ]
    }
   ],
   "source": [
    "s1={1,2,3,4,5,6}\n",
    "s2={9,10,8,5}\n",
    "print(s1.isdisjoint(s2))"
   ]
  },
  {
   "cell_type": "code",
   "execution_count": 7,
   "metadata": {},
   "outputs": [
    {
     "name": "stdout",
     "output_type": "stream",
     "text": [
      "False\n"
     ]
    }
   ],
   "source": [
    "s1={1,4,5,6,7,9}\n",
    "s2={1,4,2,3}\n",
    "print(s1.issuperset(s2))"
   ]
  },
  {
   "cell_type": "code",
   "execution_count": 11,
   "metadata": {},
   "outputs": [
    {
     "name": "stdout",
     "output_type": "stream",
     "text": [
      "0\n",
      "1\n",
      "2\n",
      "3\n",
      "4\n",
      "sorry i is not present\n"
     ]
    }
   ],
   "source": [
    "for item in range(5):\n",
    "    print(item)\n",
    "else:\n",
    "    print(\"sorry i is not present\")    "
   ]
  },
  {
   "cell_type": "code",
   "execution_count": 66,
   "metadata": {},
   "outputs": [
    {
     "name": "stdout",
     "output_type": "stream",
     "text": [
      "sorry i is not present\n"
     ]
    }
   ],
   "source": [
    "for item in []:\n",
    "    print(item)\n",
    "else:\n",
    "    print(\"sorry i is not present\")    "
   ]
  },
  {
   "cell_type": "code",
   "execution_count": 37,
   "metadata": {},
   "outputs": [
    {
     "name": "stdout",
     "output_type": "stream",
     "text": [
      "kusum 5/10/2007\n",
      "jyoti 5/10/2023\n",
      "mukul 5/10/2007\n",
      "mamta 5/10/2023\n",
      "5/10/2007\n",
      "5/10/2023\n"
     ]
    }
   ],
   "source": [
    "class add_student():\n",
    "    def __init__(self,name,enrollmentdate):\n",
    "        self.name=name\n",
    "        self.enrollmentdate=enrollmentdate\n",
    "class student_enrollment():\n",
    "    def __init__(self):\n",
    "        self.student_list=[]\n",
    "    def store_in_list(self,name,enrollmentdate):\n",
    "        student=add_student(name,enrollmentdate)\n",
    "        self.student_list.append(student)\n",
    "    def print_in_list(self):\n",
    "        for item in self.student_list:\n",
    "            print(item.name,item.enrollmentdate)\n",
    "    def student_exist(self,name):\n",
    "        for item in self.student_list:\n",
    "            isEnroll=False\n",
    "            dates=\"\"\n",
    "            if item.name == name:\n",
    "                print(item.enrollmentdate)\n",
    "                #isEnroll=True\n",
    "                #dates=item.enrollmentdate\n",
    "        #if isEnroll==True:\n",
    "            #print(\"enrollmentdate\")\n",
    "        #else:\n",
    "            #print(\"student not enrolled\")        \n",
    "obj1=student_enrollment()\n",
    "obj1.store_in_list('kusum','5/10/2007')\n",
    "obj1.store_in_list('jyoti','5/10/2023')\n",
    "obj1.store_in_list('mukul','5/10/2007')\n",
    "obj1.store_in_list('mamta','5/10/2023')\n",
    "obj1.print_in_list()\n",
    "\n",
    "obj1.student_exist('kusum')\n",
    "obj1.student_exist('jyoti')\n",
    "                                                            "
   ]
  },
  {
   "cell_type": "code",
   "execution_count": 44,
   "metadata": {},
   "outputs": [],
   "source": [
    "import logging as log\n",
    "log.basicConfig(filename='text.log',\n",
    "                format=('%(asctime)%(message)'),\n",
    "                filemode='w')\n",
    "log.warning('x')\n",
    "log.error('k')\n",
    "log.critical('situation')\n",
    "                \n"
   ]
  },
  {
   "cell_type": "code",
   "execution_count": 89,
   "metadata": {},
   "outputs": [
    {
     "name": "stdout",
     "output_type": "stream",
     "text": [
      "5000 4678998 kusum\n",
      "3000 5898 jyoti\n",
      "9000 578778 mukul\n",
      "9000\n"
     ]
    }
   ],
   "source": [
    "import logging as log\n",
    "class bank():\n",
    "    def __init__(self,x,y,balance):\n",
    "        self.bankaccounts=x\n",
    "        self.details=y\n",
    "        self.balance=balance\n",
    "class bank_account():\n",
    "    log.basicConfig(filename='text.log',\n",
    "                filemode='r')\n",
    "    \n",
    "    def __init__(self):\n",
    "        self.bank_account_list=[]\n",
    "    def bank_details(self,name,accountno,balance):\n",
    "        bank1=bank(name,accountno,balance)\n",
    "        self.bank_account_list.append(bank1)\n",
    "    def print_in_list(self):\n",
    "        for item in self.bank_account_list:\n",
    "            print(item.balance,item.details,item.bankaccounts)\n",
    "            log.critical(item.balance)\n",
    "            log.critical(item.details)\n",
    "            log.error(item.bankaccounts)\n",
    "    def higher_balance(self):\n",
    "        max_balance=self.bank_account_list[0].balance\n",
    "        for item in self.bank_account_list:\n",
    "            if item.balance > max_balance :\n",
    "                max_balance=item.balance\n",
    "        print(max_balance)                    \n",
    "\n",
    "obj=bank_account()\n",
    "obj.bank_details('kusum',4678998,5000)\n",
    "obj.bank_details('jyoti',5898,3000)\n",
    "obj.bank_details('mukul',578778,9000)\n",
    "obj.print_in_list()\n",
    "obj.higher_balance()\n",
    "        \n",
    "        \n",
    "        \n",
    "        "
   ]
  },
  {
   "cell_type": "code",
   "execution_count": 94,
   "metadata": {},
   "outputs": [
    {
     "name": "stdout",
     "output_type": "stream",
     "text": [
      "shampoo 200\n",
      "oil 500\n",
      "soap 300\n",
      "turmeic 100\n",
      "salt 50\n",
      "coriandor 150\n",
      "1300\n",
      "******\n",
      "oil 500\n",
      "soap 300\n",
      "turmeic 100\n",
      "salt 50\n",
      "coriandor 150\n",
      "1100\n"
     ]
    }
   ],
   "source": [
    "import logging as log\n",
    "class shopping_list():\n",
    "    def __init__(self,price,product_name):\n",
    "        self.price=price\n",
    "        self.product_name=product_name\n",
    "class shopping_card():\n",
    "    log.basicConfig(filename='shopping_card.log',\n",
    "                    filemode='w')\n",
    "    def __init__(self):\n",
    "        self.shopping_card_list=[]\n",
    "    def add_shopping_card(self,price,product_name):\n",
    "        card1=shopping_list(price,product_name)\n",
    "        self.shopping_card_list.append(card1)\n",
    "    def remove_shopping_card(self,product_name):\n",
    "        for item in self.shopping_card_list:\n",
    "            if item.product_name == product_name:\n",
    "                self.shopping_card_list.remove(item)\n",
    "    def price_calculate(self):\n",
    "        total_cost=0\n",
    "        for item in self.shopping_card_list:\n",
    "            total_cost=total_cost+item.price\n",
    "        print(total_cost)               \n",
    "                \n",
    "    def print_in_list(self):\n",
    "        for item in self.shopping_card_list:\n",
    "            print(item.product_name,item.price)\n",
    "            log.critical(item.product_name)\n",
    "            \n",
    "        \n",
    "                       \n",
    "obj=shopping_card()\n",
    "obj.add_shopping_card(200,\"shampoo\")\n",
    "obj.add_shopping_card(500,\"oil\")\n",
    "obj.add_shopping_card(300,\"soap\")\n",
    "obj.add_shopping_card(100,\"turmeic\")\n",
    "obj.add_shopping_card(50,\"salt\")\n",
    "obj.add_shopping_card(150,\"coriandor\")\n",
    "\n",
    "obj.print_in_list()\n",
    "obj.price_calculate()\n",
    "print(\"******\")\n",
    "obj.remove_shopping_card('shampoo')\n",
    "obj.print_in_list()\n",
    "obj.price_calculate()        "
   ]
  }
 ],
 "metadata": {
  "kernelspec": {
   "display_name": "Python 3",
   "language": "python",
   "name": "python3"
  },
  "language_info": {
   "codemirror_mode": {
    "name": "ipython",
    "version": 3
   },
   "file_extension": ".py",
   "mimetype": "text/x-python",
   "name": "python",
   "nbconvert_exporter": "python",
   "pygments_lexer": "ipython3",
   "version": "3.11.4"
  },
  "orig_nbformat": 4
 },
 "nbformat": 4,
 "nbformat_minor": 2
}
